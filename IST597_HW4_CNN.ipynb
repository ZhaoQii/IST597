{
  "nbformat": 4,
  "nbformat_minor": 0,
  "metadata": {
    "colab": {
      "name": "IST597_HW4_CNN.ipynb",
      "provenance": [],
      "collapsed_sections": [],
      "authorship_tag": "ABX9TyNWVuZPFAWGgJcNtnhiHNcg",
      "include_colab_link": true
    },
    "kernelspec": {
      "name": "python3",
      "display_name": "Python 3"
    },
    "language_info": {
      "name": "python"
    },
    "accelerator": "GPU"
  },
  "cells": [
    {
      "cell_type": "markdown",
      "metadata": {
        "id": "view-in-github",
        "colab_type": "text"
      },
      "source": [
        "<a href=\"https://colab.research.google.com/github/ZhaoQii/IST597/blob/main/IST597_HW4_CNN.ipynb\" target=\"_parent\"><img src=\"https://colab.research.google.com/assets/colab-badge.svg\" alt=\"Open In Colab\"/></a>"
      ]
    },
    {
      "cell_type": "code",
      "execution_count": 19,
      "metadata": {
        "id": "lT4fsTtGTi-S"
      },
      "outputs": [],
      "source": [
        "import tensorflow as tf\n",
        "import numpy as np\n",
        "import matplotlib.pyplot as plt\n",
        "import time\n",
        "#np.random.seed(1234)"
      ]
    },
    {
      "cell_type": "code",
      "source": [
        "(x_train, y_train), (x_test, y_test) = tf.keras.datasets.mnist.load_data()\n",
        "x_val = x_train[50000:60000]\n",
        "x_train = x_train[0:50000]\n",
        "y_val = y_train[50000:60000]\n",
        "y_train = y_train[0:50000]\n",
        "x_train = x_train.astype(np.float32).reshape(-1,28,28,1) / 255.0\n",
        "x_val = x_val.astype(np.float32).reshape(-1,28,28,1) / 255.0\n",
        "x_test = x_test.astype(np.float32).reshape(-1,28,28,1) / 255.0\n",
        "y_train = tf.one_hot(y_train, depth=10)\n",
        "y_val = tf.one_hot(y_val, depth=10)\n",
        "y_test = tf.one_hot(y_test, depth=10)\n",
        "print(x_train.shape)\n",
        "print(x_test.shape)\n",
        "print(x_val.shape)\n",
        "\n",
        "batch_size = 128\n",
        "\n",
        "train_dataset = tf.data.Dataset.from_tensor_slices((x_train, y_train))\n",
        "train_dataset = train_dataset.shuffle(buffer_size=1024).batch(batch_size)\n",
        "train_dataset_full = train_dataset.shuffle(buffer_size=1024).batch(len(train_dataset))\n",
        "val_dataset = tf.data.Dataset.from_tensor_slices((x_val, y_val))\n",
        "val_dataset = val_dataset.batch(batch_size)\n",
        "test_dataset = tf.data.Dataset.from_tensor_slices((x_test, y_test))\n",
        "test_dataset = test_dataset.batch(batch_size)\n",
        "print(len(train_dataset))\n",
        "print(len(test_dataset))"
      ],
      "metadata": {
        "colab": {
          "base_uri": "https://localhost:8080/"
        },
        "id": "0t2sZZD6VXy4",
        "outputId": "ddac92fb-b0f1-41fb-fd78-3b76cdc6f118"
      },
      "execution_count": 2,
      "outputs": [
        {
          "output_type": "stream",
          "name": "stdout",
          "text": [
            "Downloading data from https://storage.googleapis.com/tensorflow/tf-keras-datasets/mnist.npz\n",
            "11493376/11490434 [==============================] - 0s 0us/step\n",
            "11501568/11490434 [==============================] - 0s 0us/step\n",
            "(50000, 28, 28, 1)\n",
            "(10000, 28, 28, 1)\n",
            "(10000, 28, 28, 1)\n",
            "391\n",
            "79\n"
          ]
        }
      ]
    },
    {
      "cell_type": "code",
      "source": [
        "y_train.shape"
      ],
      "metadata": {
        "colab": {
          "base_uri": "https://localhost:8080/"
        },
        "id": "Xv9Zc2DxwJXt",
        "outputId": "895433b2-5043-4937-8250-74351c7e9909"
      },
      "execution_count": 3,
      "outputs": [
        {
          "output_type": "execute_result",
          "data": {
            "text/plain": [
              "TensorShape([50000, 10])"
            ]
          },
          "metadata": {},
          "execution_count": 3
        }
      ]
    },
    {
      "cell_type": "code",
      "source": [
        "class ImageRecognitionCNN(tf.keras.Model):\n",
        "    \n",
        "    def __init__(self, num_classes, BN_type, device='cpu:0', checkpoint_directory=None):\n",
        "        ''' Define the parameterized layers used during forward-pass, the device\n",
        "            where you would like to run the computation (GPU, TPU, CPU) on and the checkpoint\n",
        "            directory.\n",
        "            \n",
        "            Args:\n",
        "                num_classes: the number of labels in the network.\n",
        "                device: string, 'cpu:n' or 'gpu:n' (n can vary). Default, 'cpu:0'.\n",
        "                checkpoint_directory: the directory where you would like to save or \n",
        "                                      restore a model.\n",
        "        ''' \n",
        "        super(ImageRecognitionCNN, self).__init__()\n",
        "        \n",
        "        # Initialize layers\n",
        "        self.conv1 = tf.keras.layers.Conv2D(64, 3, padding='same', activation=None)\n",
        "        self.conv2 = tf.keras.layers.Conv2D(64, 3,padding='same', activation=None)\n",
        "        self.pool1 = tf.keras.layers.MaxPool2D()\n",
        "        self.conv3 = tf.keras.layers.Conv2D(64, 3, padding='same', activation=None)\n",
        "        self.conv4 = tf.keras.layers.Conv2D(64, 3, padding='same', activation=None)\n",
        "        # self.pool2 = tf.keras.layers.MaxPool2D()\n",
        "        # self.conv5 = tf.keras.layers.Conv2D(64, 3, padding='same', activation=None)\n",
        "        # self.pool2 = tf.keras.layers.MaxPool2D()\n",
        "        # self.conv6 = tf.keras.layers.Conv2D(64, 3, 2, padding='same', activation=None)\n",
        "        # self.conv7 = tf.keras.layers.Conv2D(64, 1, padding='same', activation=None)\n",
        "        self.conv8 = tf.keras.layers.Conv2D(num_classes, 1, padding='same', activation=None)\n",
        "        \n",
        "        # BN layers\n",
        "        self.bn1 = tf.keras.layers.BatchNormalization(axis = 3)\n",
        "        self.bn2 = tf.keras.layers.BatchNormalization(axis = 3)\n",
        "        self.bn3 = tf.keras.layers.BatchNormalization(axis = 3)\n",
        "        self.bn4 = tf.keras.layers.BatchNormalization(axis = 3)\n",
        "        #self.bn5 = tf.keras.layers.BatchNormalization(axis = 3)\n",
        "\n",
        "        #self.epsilon = epsilon\n",
        "        self.BN_type = BN_type\n",
        "        # Define the device \n",
        "        self.device = device\n",
        "        \n",
        "        # Define the checkpoint directory\n",
        "        self.checkpoint_directory = checkpoint_directory\n",
        "        self.acc = tf.keras.metrics.Accuracy()\n",
        "\n",
        "\n",
        "    def predict(self, images, training):\n",
        "        \"\"\" Predicts the probability of each class, based on the input sample.\n",
        "            \n",
        "            Args:\n",
        "                images: 4D tensor. Either an image or a batch of images.\n",
        "                training: Boolean. Either the network is predicting in\n",
        "                          training mode or not.\n",
        "        \"\"\"\n",
        "        if self.BN_type == 'before':\n",
        "          x = self.conv1(images)\n",
        "          x = self.bn1(x, training)\n",
        "          x = self.pool1(x)\n",
        "          x = self.conv2(x)\n",
        "          x = self.bn2(x, training)\n",
        "          x = tf.nn.relu(x)\n",
        "          x = self.pool1(x)\n",
        "          x = self.conv3(x)\n",
        "          x = self.bn3(x, training)\n",
        "          x = tf.nn.relu(x)\n",
        "          x = self.pool1(x)\n",
        "          x = self.conv4(x)\n",
        "          x = self.bn4(x, training)\n",
        "          x = tf.nn.relu(x)\n",
        "          x = self.pool1(x)\n",
        "          x = self.conv8(x)\n",
        "        else:\n",
        "          x = self.conv1(images)\n",
        "          x = self.pool1(x)\n",
        "          x = self.bn1(x, training)\n",
        "          x = self.conv2(x)\n",
        "          x = tf.nn.relu(x)\n",
        "          x = self.bn2(x, training)\n",
        "          x = self.pool1(x)\n",
        "          x = self.conv3(x)\n",
        "          x = tf.nn.relu(x)\n",
        "          x = self.bn3(x, training)\n",
        "          x = self.pool1(x)\n",
        "          x = self.conv4(x)\n",
        "          x = tf.nn.relu(x)\n",
        "          x = self.bn4(x, training)\n",
        "          x = self.pool1(x)\n",
        "          x = self.conv8(x)\n",
        "        \n",
        "        #x = tf.nn.relu(x)\n",
        "        #print(x.shape)\n",
        "        x = tf.reshape(x, (-1, 1, 10))\n",
        "        #x = tf.keras.layers.Flatten(x)\n",
        "        return x\n",
        "\n",
        "    def loss_fn(self, images, target, training):\n",
        "        \"\"\" Defines the loss function used during \n",
        "            training.         \n",
        "        \"\"\"\n",
        "        preds = self.predict(images, training)\n",
        "        #print(preds.shape)\n",
        "        #print(target.shape)\n",
        "        loss = tf.nn.softmax_cross_entropy_with_logits(labels=target, logits=preds)\n",
        "        return loss\n",
        "\n",
        "\n",
        "    def grads_fn(self, images, target, training):\n",
        "        \"\"\" Dynamically computes the gradients of the loss value\n",
        "            with respect to the parameters of the model, in each\n",
        "            forward pass.\n",
        "        \"\"\"\n",
        "        with tf.GradientTape() as tape:\n",
        "            loss = self.loss_fn(images, target, training)\n",
        "        return tape.gradient(loss, self.variables)\n",
        "    \n",
        "    def restore_model(self):\n",
        "        \"\"\" Function to restore trained model.\n",
        "        \"\"\"\n",
        "        with tf.device(self.device):\n",
        "            # Run the model once to initialize variables\n",
        "            dummy_input = tf.constant(tf.zeros((1,48,48,1)))\n",
        "            dummy_pred = self.predict(dummy_input, training=False)\n",
        "            # Restore the variables of the model\n",
        "            saver = tf.Saver(self.variables)\n",
        "            saver.restore(tf.train.latest_checkpoint\n",
        "                          (self.checkpoint_directory))\n",
        "    \n",
        "    def save_model(self, global_step=0):\n",
        "        \"\"\" Function to save trained model.\n",
        "        \"\"\"\n",
        "        tf.Saver(self.variables).save(self.checkpoint_directory, \n",
        "                                       global_step=global_step)   \n",
        "    \n",
        "    # def compute_accuracy(self, input_data):\n",
        "    #     \"\"\" Compute the accuracy on the input data.\n",
        "    #     \"\"\"\n",
        "    #     with tf.device(self.device):\n",
        "    #         #acc = tf.metrics.Accuracy()\n",
        "    #         for step ,(images, targets) in enumerate(input_data):\n",
        "    #             # Predict the probability of each class\n",
        "    #             #print(targets.shape)\n",
        "    #             logits = self.predict(images, training=False)\n",
        "    #             # Select the class with the highest probability\n",
        "    #             #print(logits.shape)\n",
        "    #             logits = tf.nn.softmax(logits)\n",
        "    #             logits = tf.reshape(logits, [-1, 10])\n",
        "    #             targets = tf.reshape(targets, [-1,10])\n",
        "    #             preds = tf.argmax(logits, axis=1)\n",
        "                \n",
        "    #             #m1.update_state\n",
        "    #             # Compute the accuracy\n",
        "    #             #print(preds.shape)\n",
        "    #             acc(tf.reshape(targets, preds))\n",
        "    #     return acc\n",
        "\n",
        "    def compute_accuracy_2(self, images, targets):\n",
        "        \"\"\" Compute the accuracy on the input data.\n",
        "        \"\"\"\n",
        "        with tf.device(self.device):\n",
        "            \n",
        "            # Predict the probability of each class\n",
        "            logits = self.predict(images, training=False)\n",
        "            # Select the class with the highest probability\n",
        "            \n",
        "            logits = tf.nn.softmax(logits)\n",
        "            logits = tf.reshape(logits, [-1, 10])\n",
        "            targets = tf.reshape(targets, [-1,10])\n",
        "            preds = tf.argmax(logits, axis=1)\n",
        "            goal = tf.argmax(targets, axis=1)\n",
        "            self.acc.update_state(goal, preds)\n",
        "            # Compute the accuracy\n",
        "            result = self.acc.result().numpy()\n",
        "        return result\n",
        "\n",
        "  \n",
        "    def fit_fc(self, training_data, eval_data, optimizer, num_epochs=500, \n",
        "            early_stopping_rounds=10, verbose=10, train_from_scratch=False):\n",
        "        \"\"\" Function to train the model, using the selected optimizer and\n",
        "            for the desired number of epochs. You can either train from scratch\n",
        "            or load the latest model trained. Early stopping is used in order to\n",
        "            mitigate the risk of overfitting the network.\n",
        "            \n",
        "            Args:\n",
        "                training_data: the data you would like to train the model on.\n",
        "                                Must be in the tf.data.Dataset format.\n",
        "                eval_data: the data you would like to evaluate the model on.\n",
        "                            Must be in the tf.data.Dataset format.\n",
        "                optimizer: the optimizer used during training.\n",
        "                num_epochs: the maximum number of iterations you would like to \n",
        "                            train the model.\n",
        "                early_stopping_rounds: stop training if the loss on the eval \n",
        "                                       dataset does not decrease after n epochs.\n",
        "                verbose: int. Specify how often to print the loss value of the network.\n",
        "                train_from_scratch: boolean. Whether to initialize variables of the\n",
        "                                    the last trained model or initialize them\n",
        "                                    randomly.\n",
        "        \"\"\" \n",
        "    \n",
        "        if train_from_scratch==False:\n",
        "            self.restore_model()\n",
        "        \n",
        "        # Initialize best loss. This variable will store the lowest loss on the\n",
        "        # eval dataset.\n",
        "        best_loss = 999\n",
        "        \n",
        "        # Initialize classes to update the mean loss of train and eval\n",
        "        train_loss = tf.keras.metrics.Mean('train_loss')\n",
        "        eval_loss = tf.keras.metrics.Mean('eval_loss')\n",
        "        acc_train = tf.keras.metrics.Mean('train_acc')\n",
        "        acc_val = tf.keras.metrics.Mean('val_acc')\n",
        "        \n",
        "        # Initialize dictionary to store the loss history\n",
        "        self.history = {}\n",
        "        self.history['train_loss'] = []\n",
        "        self.history['eval_loss'] = []\n",
        "        self.history['train_acc'] = []\n",
        "        self.history['val_acc'] = []\n",
        "        \n",
        "        # Begin training\n",
        "        with tf.device(self.device):\n",
        "            for i in range(num_epochs):\n",
        "                # Training with gradient descent\n",
        "                #training_data_x = training_data.shuffle(buffer_size=1024).batch(128)\n",
        "                for step, (images, target) in enumerate(training_data):\n",
        "                    grads = self.grads_fn(images, target, True)\n",
        "                    optimizer.apply_gradients(zip(grads, self.variables))\n",
        "                    \n",
        "                # Compute the loss on the training data after one epoch\n",
        "                for step, (images, target) in enumerate(training_data):\n",
        "                    loss = self.loss_fn(images, target, False)\n",
        "                    accuracy = self.compute_accuracy_2(images,target)\n",
        "                    acc_train(accuracy)\n",
        "                    train_loss(loss)\n",
        "                self.history['train_loss'].append(train_loss.result().numpy())\n",
        "                self.history['train_acc'].append(acc_train.result().numpy())\n",
        "                # Reset metrics\n",
        "                train_loss.reset_states()\n",
        "                acc_train.reset_states()\n",
        "                \n",
        "                # Compute the loss on the eval data after one epoch\n",
        "                for step, (images, target) in enumerate(eval_data):\n",
        "                    loss = self.loss_fn(images, target, False)\n",
        "                    accuracy = self.compute_accuracy_2(images,target)\n",
        "                    acc_val(accuracy)\n",
        "                    eval_loss(loss)\n",
        "                self.history['eval_loss'].append(eval_loss.result().numpy())\n",
        "                self.history['val_acc'].append(acc_val.result().numpy())\n",
        "                # Reset metrics\n",
        "                eval_loss.reset_states()\n",
        "                acc_val.reset_states()\n",
        "                \n",
        "                # Print train and eval losses\n",
        "                if (i==0) | ((i+1)%verbose==0):\n",
        "                    print('Train loss at epoch %d: ' %(i+1), self.history['train_loss'][-1])\n",
        "                    print('Train Acc at epoch %d: ' %(i+1), self.history['train_acc'][-1])\n",
        "                    \n",
        "                    print('Eval loss at epoch %d: ' %(i+1), self.history['eval_loss'][-1])\n",
        "                    print('Eval Acc at epoch %d: ' %(i+1), self.history['val_acc'][-1])\n",
        "\n",
        "                # Check for early stopping\n",
        "                if self.history['eval_loss'][-1]<best_loss:\n",
        "                    best_loss = self.history['eval_loss'][-1]\n",
        "                    count = early_stopping_rounds\n",
        "                else:\n",
        "                    count -= 1\n",
        "                if count==0:\n",
        "                    break"
      ],
      "metadata": {
        "id": "i36M5itLYXOm"
      },
      "execution_count": 13,
      "outputs": []
    },
    {
      "cell_type": "code",
      "source": [
        "# Specify the path where you want to save/restore the trained variables.\n",
        "checkpoint_directory = 'models_checkpoints/mnist/'\n",
        "\n",
        "# Use the GPU if available.\n",
        "device = 'gpu:0'\n",
        "\n",
        "# Define optimizer.\n",
        "optimizer = tf.compat.v1.train.AdamOptimizer(learning_rate=1e-4)\n",
        "\n",
        "# Instantiate model. This doesn't initialize the variables yet.\n",
        "model = ImageRecognitionCNN(num_classes=10, BN_type = 'after', device=device, \n",
        "                              checkpoint_directory=checkpoint_directory)\n",
        "\n",
        "#model = ImageRecognitionCNN(num_classes=7, device=device)"
      ],
      "metadata": {
        "id": "qi6E6KOnc-7p"
      },
      "execution_count": 14,
      "outputs": []
    },
    {
      "cell_type": "code",
      "source": [
        "# Train model\n",
        "model.fit_fc(train_dataset, val_dataset, optimizer, num_epochs=10, \n",
        "            early_stopping_rounds=2, verbose=2, train_from_scratch = True)"
      ],
      "metadata": {
        "colab": {
          "base_uri": "https://localhost:8080/",
          "height": 694
        },
        "id": "8O325wlzdA5Z",
        "outputId": "fc81fd54-d470-4a0d-9453-5d5e5b583bab"
      },
      "execution_count": 15,
      "outputs": [
        {
          "output_type": "stream",
          "name": "stdout",
          "text": [
            "Train loss at epoch 1:  1.0407768\n",
            "Train Acc at epoch 1:  0.6646767\n",
            "Eval loss at epoch 1:  1.0061307\n",
            "Eval Acc at epoch 1:  0.6706415\n",
            "Train loss at epoch 2:  0.07905306\n",
            "Train Acc at epoch 2:  0.755615\n",
            "Eval loss at epoch 2:  0.089403614\n",
            "Eval Acc at epoch 2:  0.81871593\n",
            "Train loss at epoch 4:  0.03681089\n",
            "Train Acc at epoch 4:  0.8912302\n",
            "Eval loss at epoch 4:  0.05933886\n",
            "Eval Acc at epoch 4:  0.9042841\n",
            "Train loss at epoch 6:  0.02264533\n",
            "Train Acc at epoch 6:  0.92816925\n",
            "Eval loss at epoch 6:  0.05278081\n",
            "Eval Acc at epoch 6:  0.9338139\n",
            "Train loss at epoch 8:  0.016893867\n",
            "Train Acc at epoch 8:  0.94570744\n",
            "Eval loss at epoch 8:  0.05219248\n",
            "Eval Acc at epoch 8:  0.9488292\n"
          ]
        },
        {
          "output_type": "error",
          "ename": "KeyboardInterrupt",
          "evalue": "ignored",
          "traceback": [
            "\u001b[0;31m---------------------------------------------------------------------------\u001b[0m",
            "\u001b[0;31mKeyboardInterrupt\u001b[0m                         Traceback (most recent call last)",
            "\u001b[0;32m<ipython-input-15-ed871f030782>\u001b[0m in \u001b[0;36m<module>\u001b[0;34m()\u001b[0m\n\u001b[1;32m      1\u001b[0m \u001b[0;31m# Train model\u001b[0m\u001b[0;34m\u001b[0m\u001b[0;34m\u001b[0m\u001b[0;34m\u001b[0m\u001b[0m\n\u001b[1;32m      2\u001b[0m model.fit_fc(train_dataset, val_dataset, optimizer, num_epochs=10, \n\u001b[0;32m----> 3\u001b[0;31m             early_stopping_rounds=2, verbose=2, train_from_scratch = True)\n\u001b[0m",
            "\u001b[0;32m<ipython-input-13-dab35595842b>\u001b[0m in \u001b[0;36mfit_fc\u001b[0;34m(self, training_data, eval_data, optimizer, num_epochs, early_stopping_rounds, verbose, train_from_scratch)\u001b[0m\n\u001b[1;32m    223\u001b[0m                 \u001b[0;32mfor\u001b[0m \u001b[0mstep\u001b[0m\u001b[0;34m,\u001b[0m \u001b[0;34m(\u001b[0m\u001b[0mimages\u001b[0m\u001b[0;34m,\u001b[0m \u001b[0mtarget\u001b[0m\u001b[0;34m)\u001b[0m \u001b[0;32min\u001b[0m \u001b[0menumerate\u001b[0m\u001b[0;34m(\u001b[0m\u001b[0mtraining_data\u001b[0m\u001b[0;34m)\u001b[0m\u001b[0;34m:\u001b[0m\u001b[0;34m\u001b[0m\u001b[0;34m\u001b[0m\u001b[0m\n\u001b[1;32m    224\u001b[0m                     \u001b[0mgrads\u001b[0m \u001b[0;34m=\u001b[0m \u001b[0mself\u001b[0m\u001b[0;34m.\u001b[0m\u001b[0mgrads_fn\u001b[0m\u001b[0;34m(\u001b[0m\u001b[0mimages\u001b[0m\u001b[0;34m,\u001b[0m \u001b[0mtarget\u001b[0m\u001b[0;34m,\u001b[0m \u001b[0;32mTrue\u001b[0m\u001b[0;34m)\u001b[0m\u001b[0;34m\u001b[0m\u001b[0;34m\u001b[0m\u001b[0m\n\u001b[0;32m--> 225\u001b[0;31m                     \u001b[0moptimizer\u001b[0m\u001b[0;34m.\u001b[0m\u001b[0mapply_gradients\u001b[0m\u001b[0;34m(\u001b[0m\u001b[0mzip\u001b[0m\u001b[0;34m(\u001b[0m\u001b[0mgrads\u001b[0m\u001b[0;34m,\u001b[0m \u001b[0mself\u001b[0m\u001b[0;34m.\u001b[0m\u001b[0mvariables\u001b[0m\u001b[0;34m)\u001b[0m\u001b[0;34m)\u001b[0m\u001b[0;34m\u001b[0m\u001b[0;34m\u001b[0m\u001b[0m\n\u001b[0m\u001b[1;32m    226\u001b[0m \u001b[0;34m\u001b[0m\u001b[0m\n\u001b[1;32m    227\u001b[0m                 \u001b[0;31m# Compute the loss on the training data after one epoch\u001b[0m\u001b[0;34m\u001b[0m\u001b[0;34m\u001b[0m\u001b[0;34m\u001b[0m\u001b[0m\n",
            "\u001b[0;32m/usr/local/lib/python3.7/dist-packages/tensorflow/python/training/optimizer.py\u001b[0m in \u001b[0;36mapply_gradients\u001b[0;34m(self, grads_and_vars, global_step, name)\u001b[0m\n\u001b[1;32m    718\u001b[0m             \u001b[0;34m\"update_\"\u001b[0m \u001b[0;34m+\u001b[0m \u001b[0mscope_name\u001b[0m\u001b[0;34m,\u001b[0m\u001b[0;34m\u001b[0m\u001b[0;34m\u001b[0m\u001b[0m\n\u001b[1;32m    719\u001b[0m             skip_on_eager=False), ops.colocate_with(var):\n\u001b[0;32m--> 720\u001b[0;31m           \u001b[0mupdate_ops\u001b[0m\u001b[0;34m.\u001b[0m\u001b[0mappend\u001b[0m\u001b[0;34m(\u001b[0m\u001b[0mprocessor\u001b[0m\u001b[0;34m.\u001b[0m\u001b[0mupdate_op\u001b[0m\u001b[0;34m(\u001b[0m\u001b[0mself\u001b[0m\u001b[0;34m,\u001b[0m \u001b[0mgrad\u001b[0m\u001b[0;34m)\u001b[0m\u001b[0;34m)\u001b[0m\u001b[0;34m\u001b[0m\u001b[0;34m\u001b[0m\u001b[0m\n\u001b[0m\u001b[1;32m    721\u001b[0m       \u001b[0;32mif\u001b[0m \u001b[0mglobal_step\u001b[0m \u001b[0;32mis\u001b[0m \u001b[0;32mNone\u001b[0m\u001b[0;34m:\u001b[0m\u001b[0;34m\u001b[0m\u001b[0;34m\u001b[0m\u001b[0m\n\u001b[1;32m    722\u001b[0m         \u001b[0mapply_updates\u001b[0m \u001b[0;34m=\u001b[0m \u001b[0mself\u001b[0m\u001b[0;34m.\u001b[0m\u001b[0m_finish\u001b[0m\u001b[0;34m(\u001b[0m\u001b[0mupdate_ops\u001b[0m\u001b[0;34m,\u001b[0m \u001b[0mname\u001b[0m\u001b[0;34m)\u001b[0m\u001b[0;34m\u001b[0m\u001b[0;34m\u001b[0m\u001b[0m\n",
            "\u001b[0;32m/usr/local/lib/python3.7/dist-packages/tensorflow/python/framework/ops.py\u001b[0m in \u001b[0;36m__exit__\u001b[0;34m(self, type_arg, value_arg, traceback_arg)\u001b[0m\n\u001b[1;32m   6978\u001b[0m \u001b[0;34m\u001b[0m\u001b[0m\n\u001b[1;32m   6979\u001b[0m   \u001b[0;32mdef\u001b[0m \u001b[0m__exit__\u001b[0m\u001b[0;34m(\u001b[0m\u001b[0mself\u001b[0m\u001b[0;34m,\u001b[0m \u001b[0mtype_arg\u001b[0m\u001b[0;34m,\u001b[0m \u001b[0mvalue_arg\u001b[0m\u001b[0;34m,\u001b[0m \u001b[0mtraceback_arg\u001b[0m\u001b[0;34m)\u001b[0m\u001b[0;34m:\u001b[0m\u001b[0;34m\u001b[0m\u001b[0;34m\u001b[0m\u001b[0m\n\u001b[0;32m-> 6980\u001b[0;31m     \u001b[0mself\u001b[0m\u001b[0;34m.\u001b[0m\u001b[0m_exit_fns\u001b[0m\u001b[0;34m.\u001b[0m\u001b[0mpop\u001b[0m\u001b[0;34m(\u001b[0m\u001b[0;34m)\u001b[0m\u001b[0;34m(\u001b[0m\u001b[0mtype_arg\u001b[0m\u001b[0;34m,\u001b[0m \u001b[0mvalue_arg\u001b[0m\u001b[0;34m,\u001b[0m \u001b[0mtraceback_arg\u001b[0m\u001b[0;34m)\u001b[0m\u001b[0;34m\u001b[0m\u001b[0;34m\u001b[0m\u001b[0m\n\u001b[0m\u001b[1;32m   6981\u001b[0m     \u001b[0;32mreturn\u001b[0m \u001b[0;32mFalse\u001b[0m  \u001b[0;31m# False values do not suppress exceptions\u001b[0m\u001b[0;34m\u001b[0m\u001b[0;34m\u001b[0m\u001b[0m\n\u001b[1;32m   6982\u001b[0m \u001b[0;34m\u001b[0m\u001b[0m\n",
            "\u001b[0;32m/usr/local/lib/python3.7/dist-packages/tensorflow/python/framework/ops.py\u001b[0m in \u001b[0;36m_restore_name_scope\u001b[0;34m(*_)\u001b[0m\n\u001b[1;32m   6968\u001b[0m \u001b[0;34m\u001b[0m\u001b[0m\n\u001b[1;32m   6969\u001b[0m       \u001b[0;32mdef\u001b[0m \u001b[0m_restore_name_scope\u001b[0m\u001b[0;34m(\u001b[0m\u001b[0;34m*\u001b[0m\u001b[0m_\u001b[0m\u001b[0;34m)\u001b[0m\u001b[0;34m:\u001b[0m\u001b[0;34m\u001b[0m\u001b[0;34m\u001b[0m\u001b[0m\n\u001b[0;32m-> 6970\u001b[0;31m         \u001b[0mctx\u001b[0m\u001b[0;34m.\u001b[0m\u001b[0mscope_name\u001b[0m \u001b[0;34m=\u001b[0m \u001b[0mold_name\u001b[0m\u001b[0;34m\u001b[0m\u001b[0;34m\u001b[0m\u001b[0m\n\u001b[0m\u001b[1;32m   6971\u001b[0m \u001b[0;34m\u001b[0m\u001b[0m\n\u001b[1;32m   6972\u001b[0m       \u001b[0mself\u001b[0m\u001b[0;34m.\u001b[0m\u001b[0m_exit_fns\u001b[0m\u001b[0;34m.\u001b[0m\u001b[0mappend\u001b[0m\u001b[0;34m(\u001b[0m\u001b[0m_restore_name_scope\u001b[0m\u001b[0;34m)\u001b[0m\u001b[0;34m\u001b[0m\u001b[0;34m\u001b[0m\u001b[0m\n",
            "\u001b[0;32m/usr/local/lib/python3.7/dist-packages/tensorflow/python/eager/context.py\u001b[0m in \u001b[0;36mscope_name\u001b[0;34m(self, s)\u001b[0m\n\u001b[1;32m    942\u001b[0m     \u001b[0;32mreturn\u001b[0m \u001b[0mself\u001b[0m\u001b[0;34m.\u001b[0m\u001b[0m_thread_local_data\u001b[0m\u001b[0;34m.\u001b[0m\u001b[0mscope_name\u001b[0m\u001b[0;34m\u001b[0m\u001b[0;34m\u001b[0m\u001b[0m\n\u001b[1;32m    943\u001b[0m \u001b[0;34m\u001b[0m\u001b[0m\n\u001b[0;32m--> 944\u001b[0;31m   \u001b[0;34m@\u001b[0m\u001b[0mscope_name\u001b[0m\u001b[0;34m.\u001b[0m\u001b[0msetter\u001b[0m\u001b[0;34m\u001b[0m\u001b[0;34m\u001b[0m\u001b[0m\n\u001b[0m\u001b[1;32m    945\u001b[0m   \u001b[0;32mdef\u001b[0m \u001b[0mscope_name\u001b[0m\u001b[0;34m(\u001b[0m\u001b[0mself\u001b[0m\u001b[0;34m,\u001b[0m \u001b[0ms\u001b[0m\u001b[0;34m)\u001b[0m\u001b[0;34m:\u001b[0m\u001b[0;34m\u001b[0m\u001b[0;34m\u001b[0m\u001b[0m\n\u001b[1;32m    946\u001b[0m     \u001b[0;34m\"\"\"Sets scope name for the current thread.\"\"\"\u001b[0m\u001b[0;34m\u001b[0m\u001b[0;34m\u001b[0m\u001b[0m\n",
            "\u001b[0;31mKeyboardInterrupt\u001b[0m: "
          ]
        }
      ]
    },
    {
      "cell_type": "markdown",
      "source": [
        "## Performance"
      ],
      "metadata": {
        "id": "5iGVx072MJu2"
      }
    },
    {
      "cell_type": "code",
      "source": [
        "num_trials = 3\n",
        "\n",
        "test_accuracy = np.zeros([num_trials, 2]) # 0 for before 1 for after\n",
        "used_time = np.zeros([num_trials, 2])\n",
        "\n",
        "# Set number of epochs\n",
        "NUM_EPOCHS = 10"
      ],
      "metadata": {
        "id": "T6gQykqPdGAR"
      },
      "execution_count": 17,
      "outputs": []
    },
    {
      "cell_type": "code",
      "source": [
        "for t in range(num_trials):\n",
        "  print(t)\n",
        "  ############### before\n",
        "  # Instantiate model. This doesn't initialize the variables yet.\n",
        "  model = ImageRecognitionCNN(num_classes=10, BN_type = 'before', device=device, \n",
        "                                checkpoint_directory=checkpoint_directory)\n",
        "  time_start = time.time()\n",
        "  # Train model\n",
        "  model.fit_fc(train_dataset, val_dataset, optimizer, num_epochs=10, \n",
        "              early_stopping_rounds=2, verbose=2, train_from_scratch = True)\n",
        "  time_taken = time.time() - time_start\n",
        "  used_time[t, 0] = time_taken\n",
        "  test_accuracy[t, 0] = model.compute_accuracy_2(x_test, y_test)"
      ],
      "metadata": {
        "colab": {
          "base_uri": "https://localhost:8080/"
        },
        "id": "PHN_zYHyMN6k",
        "outputId": "e29f863c-0553-47f8-e954-0909368aeb46"
      },
      "execution_count": 20,
      "outputs": [
        {
          "output_type": "stream",
          "name": "stdout",
          "text": [
            "0\n",
            "Train loss at epoch 1:  1.2806253\n",
            "Train Acc at epoch 1:  0.40236956\n",
            "Eval loss at epoch 1:  1.2596962\n",
            "Eval Acc at epoch 1:  0.3948096\n",
            "Train loss at epoch 2:  0.060730226\n",
            "Train Acc at epoch 2:  0.5567807\n",
            "Eval loss at epoch 2:  0.0651087\n",
            "Eval Acc at epoch 2:  0.6779345\n",
            "Train loss at epoch 4:  0.033470202\n",
            "Train Acc at epoch 4:  0.81424147\n",
            "Eval loss at epoch 4:  0.048535645\n",
            "Eval Acc at epoch 4:  0.83767295\n",
            "Train loss at epoch 6:  0.021034742\n",
            "Train Acc at epoch 6:  0.8804386\n",
            "Eval loss at epoch 6:  0.04033547\n",
            "Eval Acc at epoch 6:  0.89036673\n",
            "Train loss at epoch 8:  0.014632783\n",
            "Train Acc at epoch 8:  0.9115222\n",
            "Eval loss at epoch 8:  0.036745653\n",
            "Eval Acc at epoch 8:  0.91699153\n",
            "Train loss at epoch 10:  0.010495742\n",
            "Train Acc at epoch 10:  0.92968404\n",
            "Eval loss at epoch 10:  0.036776874\n",
            "Eval Acc at epoch 10:  0.93313354\n",
            "1\n",
            "Train loss at epoch 1:  1.6208779\n",
            "Train Acc at epoch 1:  0.489605\n",
            "Eval loss at epoch 1:  1.5967416\n",
            "Eval Acc at epoch 1:  0.48844612\n",
            "Train loss at epoch 2:  0.06620212\n",
            "Train Acc at epoch 2:  0.6251461\n",
            "Eval loss at epoch 2:  0.071402945\n",
            "Eval Acc at epoch 2:  0.7271223\n",
            "Train loss at epoch 4:  0.032443427\n",
            "Train Acc at epoch 4:  0.84215146\n",
            "Eval loss at epoch 4:  0.04766664\n",
            "Eval Acc at epoch 4:  0.8620028\n",
            "Train loss at epoch 6:  0.021264516\n",
            "Train Acc at epoch 6:  0.89824826\n",
            "Eval loss at epoch 6:  0.040280662\n",
            "Eval Acc at epoch 6:  0.90661716\n",
            "Train loss at epoch 8:  0.015398349\n",
            "Train Acc at epoch 8:  0.9245913\n",
            "Eval loss at epoch 8:  0.037210565\n",
            "Eval Acc at epoch 8:  0.92918724\n",
            "Train loss at epoch 10:  0.010257172\n",
            "Train Acc at epoch 10:  0.9399696\n",
            "Eval loss at epoch 10:  0.03462589\n",
            "Eval Acc at epoch 10:  0.94290507\n",
            "2\n",
            "Train loss at epoch 1:  2.6265519\n",
            "Train Acc at epoch 1:  0.116571724\n",
            "Eval loss at epoch 1:  2.62922\n",
            "Eval Acc at epoch 1:  0.11501293\n",
            "Train loss at epoch 2:  0.053817637\n",
            "Train Acc at epoch 2:  0.35325253\n",
            "Eval loss at epoch 2:  0.061102346\n",
            "Eval Acc at epoch 2:  0.53236365\n",
            "Train loss at epoch 4:  0.028804777\n",
            "Train Acc at epoch 4:  0.73267037\n",
            "Eval loss at epoch 4:  0.043640282\n",
            "Eval Acc at epoch 4:  0.767019\n",
            "Train loss at epoch 6:  0.016719492\n",
            "Train Acc at epoch 6:  0.8297323\n",
            "Eval loss at epoch 6:  0.0361936\n",
            "Eval Acc at epoch 6:  0.8441086\n",
            "Train loss at epoch 8:  0.012209333\n",
            "Train Acc at epoch 8:  0.87477094\n",
            "Eval loss at epoch 8:  0.034711454\n",
            "Eval Acc at epoch 8:  0.8826224\n",
            "Train loss at epoch 10:  0.0085347295\n",
            "Train Acc at epoch 10:  0.90084106\n",
            "Eval loss at epoch 10:  0.033257924\n",
            "Eval Acc at epoch 10:  0.90578276\n"
          ]
        }
      ]
    },
    {
      "cell_type": "code",
      "source": [
        "for t in range(num_trials):\n",
        "  print(t)\n",
        "  ############### before\n",
        "  # Instantiate model. This doesn't initialize the variables yet.\n",
        "  model = ImageRecognitionCNN(num_classes=10, BN_type = 'after', device=device, \n",
        "                                checkpoint_directory=checkpoint_directory)\n",
        "  time_start = time.time()\n",
        "  # Train model\n",
        "  model.fit_fc(train_dataset, val_dataset, optimizer, num_epochs=10, \n",
        "              early_stopping_rounds=2, verbose=2, train_from_scratch = True)\n",
        "  time_taken = time.time() - time_start\n",
        "  used_time[t, 1] = time_taken\n",
        "  test_accuracy[t, 1] = model.compute_accuracy_2(x_test, y_test)"
      ],
      "metadata": {
        "colab": {
          "base_uri": "https://localhost:8080/"
        },
        "id": "Up-ydXNTNEYb",
        "outputId": "0ba1eb78-07d0-466c-fda6-857c31f1f1cf"
      },
      "execution_count": 23,
      "outputs": [
        {
          "output_type": "stream",
          "name": "stdout",
          "text": [
            "0\n",
            "Train loss at epoch 1:  0.97584784\n",
            "Train Acc at epoch 1:  0.6533267\n",
            "Eval loss at epoch 1:  0.9594147\n",
            "Eval Acc at epoch 1:  0.65066123\n",
            "Train loss at epoch 2:  0.048765365\n",
            "Train Acc at epoch 2:  0.743582\n",
            "Eval loss at epoch 2:  0.06285479\n",
            "Eval Acc at epoch 2:  0.81219137\n",
            "Train loss at epoch 4:  0.023978828\n",
            "Train Acc at epoch 4:  0.889857\n",
            "Eval loss at epoch 4:  0.050114673\n",
            "Eval Acc at epoch 4:  0.90345985\n",
            "Train loss at epoch 6:  0.012978662\n",
            "Train Acc at epoch 6:  0.9286336\n",
            "Eval loss at epoch 6:  0.047538847\n",
            "Eval Acc at epoch 6:  0.93443334\n",
            "Train loss at epoch 8:  0.0065201917\n",
            "Train Acc at epoch 8:  0.94695634\n",
            "Eval loss at epoch 8:  0.04191241\n",
            "Eval Acc at epoch 8:  0.9501908\n",
            "Train loss at epoch 10:  0.0046346663\n",
            "Train Acc at epoch 10:  0.9576313\n",
            "Eval loss at epoch 10:  0.0454509\n",
            "Eval Acc at epoch 10:  0.9596581\n",
            "1\n",
            "Train loss at epoch 1:  1.1928918\n",
            "Train Acc at epoch 1:  0.6541593\n",
            "Eval loss at epoch 1:  1.1623669\n",
            "Eval Acc at epoch 1:  0.65033215\n",
            "Train loss at epoch 2:  0.04532225\n",
            "Train Acc at epoch 2:  0.74334985\n",
            "Eval loss at epoch 2:  0.06230475\n",
            "Eval Acc at epoch 2:  0.8123186\n",
            "Train loss at epoch 4:  0.023823613\n",
            "Train Acc at epoch 4:  0.8894215\n",
            "Eval loss at epoch 4:  0.052093007\n",
            "Eval Acc at epoch 4:  0.9030875\n",
            "Train loss at epoch 6:  0.013380678\n",
            "Train Acc at epoch 6:  0.92833287\n",
            "Eval loss at epoch 6:  0.048377506\n",
            "Eval Acc at epoch 6:  0.93414956\n",
            "Train loss at epoch 8:  0.007022152\n",
            "Train Acc at epoch 8:  0.94674003\n",
            "Eval loss at epoch 8:  0.048579104\n",
            "Eval Acc at epoch 8:  0.94995195\n",
            "Train loss at epoch 10:  0.0042396556\n",
            "Train Acc at epoch 10:  0.9574819\n",
            "Eval loss at epoch 10:  0.04552048\n",
            "Eval Acc at epoch 10:  0.95952296\n",
            "2\n",
            "Train loss at epoch 1:  1.737809\n",
            "Train Acc at epoch 1:  0.3858999\n",
            "Eval loss at epoch 1:  1.6976588\n",
            "Eval Acc at epoch 1:  0.39275002\n",
            "Train loss at epoch 2:  0.044129096\n",
            "Train Acc at epoch 2:  0.5560568\n",
            "Eval loss at epoch 2:  0.059450444\n",
            "Eval Acc at epoch 2:  0.6778682\n",
            "Train loss at epoch 4:  0.019885484\n",
            "Train Acc at epoch 4:  0.81473106\n",
            "Eval loss at epoch 4:  0.049457144\n",
            "Eval Acc at epoch 4:  0.8383999\n",
            "Train loss at epoch 6:  0.0096695125\n",
            "Train Acc at epoch 6:  0.8815176\n",
            "Eval loss at epoch 6:  0.045669902\n",
            "Eval Acc at epoch 6:  0.89146006\n",
            "Train loss at epoch 8:  0.004487268\n",
            "Train Acc at epoch 8:  0.9128241\n",
            "Eval loss at epoch 8:  0.045070145\n",
            "Eval Acc at epoch 8:  0.9182665\n"
          ]
        }
      ]
    },
    {
      "cell_type": "code",
      "source": [
        "used_time"
      ],
      "metadata": {
        "colab": {
          "base_uri": "https://localhost:8080/"
        },
        "id": "xf2KbUSGQLfp",
        "outputId": "103a1899-7148-49ee-a323-7e3f3bf127bc"
      },
      "execution_count": 24,
      "outputs": [
        {
          "output_type": "execute_result",
          "data": {
            "text/plain": [
              "array([[234.88589525, 228.45673037],\n",
              "       [217.97964382, 220.13404584],\n",
              "       [219.99534798, 195.80568457]])"
            ]
          },
          "metadata": {},
          "execution_count": 24
        }
      ]
    },
    {
      "cell_type": "code",
      "source": [
        "test_accuracy"
      ],
      "metadata": {
        "colab": {
          "base_uri": "https://localhost:8080/"
        },
        "id": "1dFF9lgZQMqc",
        "outputId": "808b6c77-472c-47ae-c703-49e827f175b9"
      },
      "execution_count": 25,
      "outputs": [
        {
          "output_type": "execute_result",
          "data": {
            "text/plain": [
              "array([[0.93451309, 0.96036559],\n",
              "       [0.94404095, 0.96020001],\n",
              "       [0.90786391, 0.92882729]])"
            ]
          },
          "metadata": {},
          "execution_count": 25
        }
      ]
    },
    {
      "cell_type": "code",
      "source": [
        ""
      ],
      "metadata": {
        "id": "ZsdxsWbLQOJn"
      },
      "execution_count": null,
      "outputs": []
    }
  ]
}