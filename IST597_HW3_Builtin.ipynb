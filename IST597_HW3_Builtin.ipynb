{
  "cells": [
    {
      "cell_type": "markdown",
      "metadata": {
        "id": "view-in-github",
        "colab_type": "text"
      },
      "source": [
        "<a href=\"https://colab.research.google.com/github/ZhaoQii/IST597/blob/main/IST597_HW3_Builtin.ipynb\" target=\"_parent\"><img src=\"https://colab.research.google.com/assets/colab-badge.svg\" alt=\"Open In Colab\"/></a>"
      ]
    },
    {
      "cell_type": "code",
      "execution_count": null,
      "metadata": {
        "colab": {
          "base_uri": "https://localhost:8080/"
        },
        "id": "0XqMPv2q8ava",
        "outputId": "86918dcc-a717-4cdd-97d7-d085c8c46344"
      },
      "outputs": [
        {
          "output_type": "stream",
          "name": "stdout",
          "text": [
            "2.8.0\n"
          ]
        }
      ],
      "source": [
        "import os\n",
        "import numpy as np\n",
        "import time\n",
        "import tensorflow as tf\n",
        "import matplotlib.pyplot as plt\n",
        "print(tf.__version__)"
      ]
    },
    {
      "cell_type": "code",
      "execution_count": null,
      "metadata": {
        "colab": {
          "base_uri": "https://localhost:8080/"
        },
        "id": "i3z58S2Jx_Ay",
        "outputId": "94cf1baa-646c-4c1c-c615-d18c858888e5"
      },
      "outputs": [
        {
          "output_type": "execute_result",
          "data": {
            "text/plain": [
              "[PhysicalDevice(name='/physical_device:GPU:0', device_type='GPU')]"
            ]
          },
          "metadata": {},
          "execution_count": 2
        }
      ],
      "source": [
        "tf.config.list_physical_devices('GPU')"
      ]
    },
    {
      "cell_type": "code",
      "execution_count": null,
      "metadata": {
        "id": "A_8cYhDDIuCw"
      },
      "outputs": [],
      "source": [
        "#np.random.seed(1178)\n",
        "#tf.random.set_seed(1178)"
      ]
    },
    {
      "cell_type": "code",
      "execution_count": null,
      "metadata": {
        "colab": {
          "base_uri": "https://localhost:8080/"
        },
        "id": "eRVHzPqnZRrW",
        "outputId": "c46a175e-2179-47be-a3f9-7d8885f9acdb"
      },
      "outputs": [
        {
          "output_type": "stream",
          "name": "stdout",
          "text": [
            "Downloading data from https://storage.googleapis.com/tensorflow/tf-keras-datasets/mnist.npz\n",
            "11493376/11490434 [==============================] - 0s 0us/step\n",
            "11501568/11490434 [==============================] - 0s 0us/step\n",
            "Downloading data from https://storage.googleapis.com/tensorflow/tf-keras-datasets/train-labels-idx1-ubyte.gz\n",
            "32768/29515 [=================================] - 0s 0us/step\n",
            "40960/29515 [=========================================] - 0s 0us/step\n",
            "Downloading data from https://storage.googleapis.com/tensorflow/tf-keras-datasets/train-images-idx3-ubyte.gz\n",
            "26427392/26421880 [==============================] - 0s 0us/step\n",
            "26435584/26421880 [==============================] - 0s 0us/step\n",
            "Downloading data from https://storage.googleapis.com/tensorflow/tf-keras-datasets/t10k-labels-idx1-ubyte.gz\n",
            "16384/5148 [===============================================================================================] - 0s 0us/step\n",
            "Downloading data from https://storage.googleapis.com/tensorflow/tf-keras-datasets/t10k-images-idx3-ubyte.gz\n",
            "4423680/4422102 [==============================] - 0s 0us/step\n",
            "4431872/4422102 [==============================] - 0s 0us/step\n"
          ]
        }
      ],
      "source": [
        "from tensorflow.keras.datasets import mnist, fashion_mnist\n",
        "from sklearn import preprocessing\n",
        "(X_train, y_train), (X_test, y_test) = mnist.load_data()\n",
        "(X_train_fs, y_train_fs), (X_test_fs, y_test_fs) = fashion_mnist.load_data()\n",
        "\n",
        "# first way to normalize data\n",
        "X_train = X_train.astype(float) / 255.\n",
        "X_test = X_test.astype(float) / 255.\n",
        "\n",
        "X_train = X_train.reshape([X_train.shape[0], -1])\n",
        "X_test = X_test.reshape([X_test.shape[0], -1])\n",
        "\n",
        "X_train_fs = X_train_fs.astype(float) / 255.\n",
        "X_test_fs = X_test_fs.astype(float) / 255.\n",
        "\n",
        "X_train_fs = X_train_fs.reshape([X_train_fs.shape[0], -1])\n",
        "X_test_fs = X_test_fs.reshape([X_test_fs.shape[0], -1])\n",
        "\n",
        "# one hot\n",
        "onehot = preprocessing.OneHotEncoder()\n",
        "\n",
        "y_train = y_train.reshape(-1, 1)\n",
        "y_test = y_test.reshape(-1, 1)\n",
        "\n",
        "onehot.fit(y_train)\n",
        "y_train = onehot.transform(y_train).toarray()\n",
        "onehot.fit(y_test)\n",
        "y_test = onehot.transform(y_test).toarray()\n",
        "\n",
        "y_train_fs = y_train_fs.reshape(-1, 1)\n",
        "y_test_fs = y_test_fs.reshape(-1, 1)\n",
        "\n",
        "onehot.fit(y_train_fs)\n",
        "y_train_fs = onehot.transform(y_train_fs).toarray()\n",
        "onehot.fit(y_test_fs)\n",
        "y_test_fs = onehot.transform(y_test_fs).toarray()\n",
        "\n",
        "# validation set\n",
        "X_train, X_val = X_train[:-10000], X_train[-10000:]\n",
        "y_train, y_val = y_train[:-10000], y_train[-10000:]\n",
        "\n",
        "X_train_fs, X_val_fs = X_train_fs[:-10000], X_train_fs[-10000:]\n",
        "y_train_fs, y_val_fs = y_train_fs[:-10000], y_train_fs[-10000:]"
      ]
    },
    {
      "cell_type": "markdown",
      "metadata": {
        "id": "70dqw3yaMTkK"
      },
      "source": [
        "## Define Class"
      ]
    },
    {
      "cell_type": "code",
      "execution_count": null,
      "metadata": {
        "colab": {
          "base_uri": "https://localhost:8080/"
        },
        "id": "lowg2ZVEp-MI",
        "outputId": "ddd5aa56-e973-48b6-fc1e-13ae4e403415"
      },
      "outputs": [
        {
          "output_type": "execute_result",
          "data": {
            "text/plain": [
              "(10000, 784)"
            ]
          },
          "metadata": {},
          "execution_count": 5
        }
      ],
      "source": [
        "X_val.shape"
      ]
    },
    {
      "cell_type": "code",
      "execution_count": null,
      "metadata": {
        "id": "5ifDRhxKmQDY"
      },
      "outputs": [],
      "source": [
        "# Define class to build mlp model\n",
        "class MLP_QZ(object):\n",
        "  def __init__(self, size_data, size_input, size_hidden_1, size_hidden_2, size_output, device = None, regularizer = None,\n",
        "               L1_alpha = 0., L2_alpha = 0., optimizer = 'SGD', lr = 1e-4):\n",
        "    \"\"\"\n",
        "    size_input: int, size of input layer\n",
        "    size_hidden: int, size of hidden layer\n",
        "    size_output: int, size of output layer\n",
        "    device: str or None, either 'cpu' or 'gpu' or None. If None, the device to be used will be decided automatically during Eager Execution\n",
        "    \"\"\"\n",
        "    self.size_data, self.size_input, self.size_hidden_1, self.size_hidden_2, self.size_output, self.device, self.regularizer, \\\n",
        "    self.L1_alpha, self.L2_alpha, self.optimizer, self.lr = \\\n",
        "    size_data, size_input, size_hidden_1, size_hidden_2, size_output, device, regularizer, L1_alpha, L2_alpha, \\\n",
        "    optimizer, lr\n",
        "    \n",
        "    # Xavier initialization\n",
        "    initializer = tf.initializers.GlorotUniform()\n",
        "\n",
        "    self.W0 = tf.Variable(initializer(shape = [self.size_data, self.size_input]))\n",
        "    #self.W0 = tf.Variable(tf.random.normal([self.size_data, self.size_input], stddev = 0.1))\n",
        "    self.b0 = tf.Variable(tf.zeros([1, self.size_input]))\n",
        "\n",
        "    self.W1 = tf.Variable(initializer(shape = [self.size_input, self.size_hidden_1]))\n",
        "    #self.W1 = tf.Variable(tf.random.normal([self.size_input, self.size_hidden_1], stddev = 0.1))\n",
        "    self.b1 = tf.Variable(tf.zeros([1, self.size_hidden_1]))\n",
        "\n",
        "    self.W2 = tf.Variable(initializer(shape = [self.size_hidden_1, self.size_hidden_2]))\n",
        "    #self.W2 = tf.Variable(tf.random.normal([self.size_hidden_1, self.size_hidden_2], stddev = 0.1))\n",
        "    self.b2 = tf.Variable(tf.zeros([1, self.size_hidden_2]))\n",
        "\n",
        "    self.W3 = tf.Variable(initializer(shape = [self.size_hidden_2, self.size_output]))\n",
        "    #self.W3 = tf.Variable(tf.random.normal([self.size_hidden_2, self.size_output], stddev = 0.1))\n",
        "    self.b3 = tf.Variable(tf.zeros([1, self.size_output]))\n",
        "    \n",
        "    # Define variables to be updated during backpropagation\n",
        "    self.variables = [self.W0, self.W1, self.W2, self.W3, self.b0, self.b1, self.b2, self.b3]\n",
        "    \n",
        "  def forward(self, X):\n",
        "    \"\"\"\n",
        "    forward pass\n",
        "    X: Tensor, inputs\n",
        "    \"\"\"\n",
        "    if self.device is not None:\n",
        "      with tf.device('gpu:0' if self.device=='gpu' else 'cpu'):\n",
        "        self.y = self.compute_output(X)\n",
        "    else:\n",
        "      self.y = self.compute_output(X)\n",
        "      \n",
        "    return self.y\n",
        "  \n",
        "  def loss(self, y_pred, y_true):\n",
        "    '''\n",
        "    y_pred - Tensor of shape (batch_size, size_output)\n",
        "    y_true - Tensor of shape (batch_size, size_output)\n",
        "    '''\n",
        "    y_true_tf = tf.cast(tf.reshape(y_true, (-1, self.size_output)), dtype=tf.float32)\n",
        "    y_pred_tf = tf.cast(y_pred, dtype=tf.float32)\n",
        "\n",
        "    #return tf.losses.categorical_crossentropy(y_true_tf, y_pred_tf, from_logits = False)\n",
        "    ce = tf.keras.losses.CategoricalCrossentropy(from_logits = True)\n",
        "\n",
        "    if self.regularizer is None:\n",
        "      return ce(y_true_tf, y_pred_tf)\n",
        "    elif self.regularizer == 'L1':\n",
        "      return (ce(y_true_tf, y_pred_tf) + self.L1_alpha * sum([tf.reduce_sum(tf.abs(var)) for var in self.variables]))\n",
        "    elif self.regularizer == 'L2':\n",
        "      return (ce(y_true_tf, y_pred_tf) + self.L2_alpha * sum([tf.nn.l2_loss(var) for var in self.variables]))\n",
        "    elif self.regularizer == 'L1 + L2':\n",
        "      return (ce(y_true_tf, y_pred_tf) + self.L1_alpha * sum([tf.reduce_sum(tf.abs(var)) for var in self.variables]) + self.L2_alpha * sum([tf.nn.l2_loss(var) for var in self.variables]))\n",
        "  \n",
        "  def backward(self, X_train, y_train):\n",
        "    \"\"\"\n",
        "    backward pass\n",
        "    \"\"\"\n",
        "    with tf.GradientTape() as tape:\n",
        "      predicted = self.forward(X_train)\n",
        "      current_loss = self.loss(predicted, y_train)\n",
        "    grads = tape.gradient(current_loss, self.variables)\n",
        "    #print(grads[0])\n",
        "    if self.optimizer == 'SGD':\n",
        "      optimizer = tf.keras.optimizers.SGD(learning_rate = self.lr)\n",
        "    elif self.optimizer == 'Adam':\n",
        "      optimizer = tf.keras.optimizers.Adam(learning_rate = self.lr)\n",
        "    elif self.optimizer == 'RMSEProp':\n",
        "      optimizer = tf.keras.optimizers.RMSprop(learning_rate = self.lr)\n",
        "    optimizer.apply_gradients(zip(grads, self.variables))\n",
        "        \n",
        "        \n",
        "  def compute_output(self, X):\n",
        "    \"\"\"\n",
        "    Custom method to obtain output tensor during forward pass\n",
        "    \"\"\"\n",
        "    # Cast X to float32\n",
        "    X_tf = tf.cast(X, dtype=tf.float32)    \n",
        "    # Compute values in the first hidden layer\n",
        "    what_0 = tf.matmul(X_tf, self.W0) + self.b0\n",
        "    hhat_0 = tf.nn.relu(what_0)\n",
        "    # Compute values in the first hidden layer\n",
        "    what_1 = tf.matmul(hhat_0, self.W1) + self.b1\n",
        "    hhat_1 = tf.nn.relu(what_1)\n",
        "    # Compute values in the second hidden layer\n",
        "    what_2 = tf.matmul(hhat_1, self.W2) + self.b2\n",
        "    hhat_2 = tf.nn.relu(what_2)\n",
        "    # Compute output\n",
        "    output = tf.matmul(hhat_2, self.W3) + self.b3\n",
        "    #output = tf.nn.softmax(what_3)\n",
        "    return output"
      ]
    },
    {
      "cell_type": "markdown",
      "metadata": {
        "id": "2QilpF4VMRDC"
      },
      "source": [
        "## Train Model"
      ]
    },
    {
      "cell_type": "code",
      "execution_count": null,
      "metadata": {
        "id": "RPdjUX44UgEM"
      },
      "outputs": [],
      "source": [
        "size_data, size_input, size_hidden_1, size_hidden_2, size_output = 28 * 28, 512, 256, 128, 10 \n",
        "batch_size_train = 128\n",
        "batch_size_val = 16\n",
        "batch_size_test = 16"
      ]
    },
    {
      "cell_type": "code",
      "execution_count": null,
      "metadata": {
        "colab": {
          "base_uri": "https://localhost:8080/"
        },
        "id": "W3vMk6gQKaRF",
        "outputId": "f7af2133-9209-4530-911a-9407063a0788"
      },
      "outputs": [
        {
          "output_type": "stream",
          "name": "stdout",
          "text": [
            "\n",
            "MNIST Train Accuracy: 0.8384\n",
            "\n",
            "MNIST Number of Epoch = 1 - Average Cross Entropy:=0.094552314453125\n",
            "\n",
            "MNIST Validation Accuracy: 0.8601\n",
            "\n",
            "Fashion MNIST Train Accuracy: 0.7583\n",
            "\n",
            "Fashion MNIST Number of Epoch = 1 - Average Cross Entropy:=0.0923773828125\n",
            "\n",
            "Fashion MNIST Validation Accuracy: 0.7565\n",
            "\n",
            "MNIST Train Accuracy: 0.8796\n",
            "\n",
            "MNIST Number of Epoch = 2 - Average Cross Entropy:=0.07699275390625\n",
            "\n",
            "MNIST Validation Accuracy: 0.8933\n",
            "\n",
            "Fashion MNIST Train Accuracy: 0.7975\n",
            "\n",
            "Fashion MNIST Number of Epoch = 2 - Average Cross Entropy:=0.0775939306640625\n",
            "\n",
            "Fashion MNIST Validation Accuracy: 0.7884\n",
            "\n",
            "MNIST Train Accuracy: 0.8939\n",
            "\n",
            "MNIST Number of Epoch = 3 - Average Cross Entropy:=0.06630140625\n",
            "\n",
            "MNIST Validation Accuracy: 0.9041\n",
            "\n",
            "Fashion MNIST Train Accuracy: 0.8080\n",
            "\n",
            "Fashion MNIST Number of Epoch = 3 - Average Cross Entropy:=0.06712708984375\n",
            "\n",
            "Fashion MNIST Validation Accuracy: 0.8052\n",
            "\n",
            "MNIST Train Accuracy: 0.9005\n",
            "\n",
            "MNIST Number of Epoch = 4 - Average Cross Entropy:=0.0575127197265625\n",
            "\n",
            "MNIST Validation Accuracy: 0.9117\n",
            "\n",
            "Fashion MNIST Train Accuracy: 0.8201\n",
            "\n",
            "Fashion MNIST Number of Epoch = 4 - Average Cross Entropy:=0.0583512744140625\n",
            "\n",
            "Fashion MNIST Validation Accuracy: 0.8170\n",
            "\n",
            "MNIST Train Accuracy: 0.9042\n",
            "\n",
            "MNIST Number of Epoch = 5 - Average Cross Entropy:=0.050081591796875\n",
            "\n",
            "MNIST Validation Accuracy: 0.9141\n",
            "\n",
            "Fashion MNIST Train Accuracy: 0.8230\n",
            "\n",
            "Fashion MNIST Number of Epoch = 5 - Average Cross Entropy:=0.0509027978515625\n",
            "\n",
            "Fashion MNIST Validation Accuracy: 0.8159\n",
            "\n",
            "MNIST Train Accuracy: 0.9062\n",
            "\n",
            "MNIST Number of Epoch = 6 - Average Cross Entropy:=0.04376078125\n",
            "\n",
            "MNIST Validation Accuracy: 0.9161\n",
            "\n",
            "Fashion MNIST Train Accuracy: 0.8262\n",
            "\n",
            "Fashion MNIST Number of Epoch = 6 - Average Cross Entropy:=0.044574931640625\n",
            "\n",
            "Fashion MNIST Validation Accuracy: 0.8241\n",
            "\n",
            "MNIST Train Accuracy: 0.9079\n",
            "\n",
            "MNIST Number of Epoch = 7 - Average Cross Entropy:=0.0383752099609375\n",
            "\n",
            "MNIST Validation Accuracy: 0.9178\n",
            "\n",
            "Fashion MNIST Train Accuracy: 0.8229\n",
            "\n",
            "Fashion MNIST Number of Epoch = 7 - Average Cross Entropy:=0.039180712890625\n",
            "\n",
            "Fashion MNIST Validation Accuracy: 0.8166\n",
            "\n",
            "MNIST Train Accuracy: 0.9094\n",
            "\n",
            "MNIST Number of Epoch = 8 - Average Cross Entropy:=0.03377556884765625\n",
            "\n",
            "MNIST Validation Accuracy: 0.9188\n",
            "\n",
            "Fashion MNIST Train Accuracy: 0.8301\n",
            "\n",
            "Fashion MNIST Number of Epoch = 8 - Average Cross Entropy:=0.0345626904296875\n",
            "\n",
            "Fashion MNIST Validation Accuracy: 0.8223\n",
            "\n",
            "MNIST Train Accuracy: 0.9100\n",
            "\n",
            "MNIST Number of Epoch = 9 - Average Cross Entropy:=0.0298489697265625\n",
            "\n",
            "MNIST Validation Accuracy: 0.9185\n",
            "\n",
            "Fashion MNIST Train Accuracy: 0.8283\n",
            "\n",
            "Fashion MNIST Number of Epoch = 9 - Average Cross Entropy:=0.0306306884765625\n",
            "\n",
            "Fashion MNIST Validation Accuracy: 0.8173\n",
            "\n",
            "MNIST Train Accuracy: 0.9104\n",
            "\n",
            "MNIST Number of Epoch = 10 - Average Cross Entropy:=0.02649819580078125\n",
            "\n",
            "MNIST Validation Accuracy: 0.9194\n",
            "\n",
            "Fashion MNIST Train Accuracy: 0.8305\n",
            "\n",
            "Fashion MNIST Number of Epoch = 10 - Average Cross Entropy:=0.0272657080078125\n",
            "\n",
            "Fashion MNIST Validation Accuracy: 0.8276\n",
            "\n",
            "Total time taken (in seconds): 221.20\n"
          ]
        }
      ],
      "source": [
        "# Set number of epochs\n",
        "NUM_EPOCHS = 10\n",
        "\n",
        "# Initialize model\n",
        "# , regularizer = 'L2', L1_alpha = 1 , regularizer = 'L2', L1_alpha = 1 , device='gpu' optimizer = 'Adam', \n",
        "mlp_on_cpu = MLP_QZ(size_data, size_input, size_hidden_1, size_hidden_2, size_output, lr = 1e-2, optimizer = 'SGD', device = 'gpu', regularizer = 'L2', L2_alpha = 0.02)\n",
        "mlp_on_cpu_fs = MLP_QZ(size_data, size_input, size_hidden_1, size_hidden_2, size_output, lr = 1e-2, optimizer = 'SGD', device = 'gpu', regularizer = 'L2', L2_alpha = 0.02)\n",
        "\n",
        "# column 0 for MINST column 1 for Fashion MNIST\n",
        "train_accuracy = np.zeros([NUM_EPOCHS, 2])\n",
        "val_accuracy = np.zeros([NUM_EPOCHS, 2])\n",
        "train_loss = np.zeros([NUM_EPOCHS, 2])\n",
        "\n",
        "time_start = time.time()\n",
        "for epoch in range(NUM_EPOCHS):\n",
        "\n",
        "  # for MNIST\n",
        "  train_loss_epoch = tf.zeros([1,1], dtype=tf.float32)\n",
        "  train_acc_epoch = tf.zeros([1,1], dtype=tf.float32)\n",
        "  #val_loss_epoch = tf.zeros([1,1], dtype=tf.float32)\n",
        "  val_acc_epoch = tf.zeros([1,1], dtype=tf.float32)\n",
        "\n",
        "  train_ds = tf.data.Dataset.from_tensor_slices((X_train, y_train)).shuffle(100).batch(batch_size_train)\n",
        "\n",
        "  for inputs, outputs in train_ds:\n",
        "    preds = mlp_on_cpu.forward(inputs)\n",
        "    train_loss_epoch = train_loss_epoch + mlp_on_cpu.loss(preds, outputs)\n",
        "    mlp_on_cpu.backward(inputs, outputs)\n",
        "\n",
        "  # training acc and loss\n",
        "  preds = mlp_on_cpu.forward(X_train)\n",
        "  preds = tf.nn.softmax(preds)\n",
        "  correct_preds = tf.equal(tf.argmax(preds, 1), tf.argmax(y_train, 1))\n",
        "  train_acc_epoch = tf.reduce_mean(tf.cast(correct_preds, 'float'))\n",
        "  train_accuracy[epoch, 0] = train_acc_epoch\n",
        "  train_loss_epoch = np.sum(train_loss_epoch) / X_train.shape[0]\n",
        "  train_loss[epoch, 0] = train_loss_epoch\n",
        "  print('\\nMNIST Train Accuracy: {:.4f}'.format(train_acc_epoch))\n",
        "  print('\\nMNIST Number of Epoch = {} - Average Cross Entropy:={}'.format(epoch + 1, train_loss_epoch))\n",
        "\n",
        "  preds = mlp_on_cpu.forward(X_val)\n",
        "  preds = tf.nn.softmax(preds)\n",
        "  correct_preds = tf.equal(tf.argmax(preds, 1), tf.argmax(y_val, 1))\n",
        "  val_acc_epoch = tf.reduce_mean(tf.cast(correct_preds, 'float'))\n",
        "  val_acc_epoch = val_acc_epoch.numpy()\n",
        "  val_accuracy[epoch, 0] = val_acc_epoch\n",
        "  print('\\nMNIST Validation Accuracy: {:.4f}'.format(val_acc_epoch))\n",
        "\n",
        "  # for FMNIST\n",
        "  train_loss_epoch = tf.zeros([1,1], dtype=tf.float32)\n",
        "  train_acc_epoch = tf.zeros([1,1], dtype=tf.float32)\n",
        "  #val_loss_epoch = tf.zeros([1,1], dtype=tf.float32)\n",
        "  val_acc_epoch = tf.zeros([1,1], dtype=tf.float32)\n",
        "\n",
        "  train_ds = tf.data.Dataset.from_tensor_slices((X_train_fs, y_train_fs)).shuffle(100).batch(batch_size_train)\n",
        "\n",
        "  for inputs, outputs in train_ds:\n",
        "    preds = mlp_on_cpu_fs.forward(inputs)\n",
        "    train_loss_epoch = train_loss_epoch + mlp_on_cpu_fs.loss(preds, outputs)\n",
        "    mlp_on_cpu_fs.backward(inputs, outputs)\n",
        "\n",
        "  # training acc and loss\n",
        "  preds = mlp_on_cpu_fs.forward(X_train_fs)\n",
        "  preds = tf.nn.softmax(preds)\n",
        "  correct_preds = tf.equal(tf.argmax(preds, 1), tf.argmax(y_train_fs, 1))\n",
        "  train_acc_epoch = tf.reduce_mean(tf.cast(correct_preds, 'float'))\n",
        "  train_accuracy[epoch, 1] = train_acc_epoch\n",
        "  train_loss_epoch = np.sum(train_loss_epoch) / X_train.shape[0]\n",
        "  train_loss[epoch, 1] = train_loss_epoch\n",
        "  print('\\nFashion MNIST Train Accuracy: {:.4f}'.format(train_acc_epoch))\n",
        "  print('\\nFashion MNIST Number of Epoch = {} - Average Cross Entropy:={}'.format(epoch + 1, train_loss_epoch))\n",
        "\n",
        "  preds = mlp_on_cpu_fs.forward(X_val_fs)\n",
        "  preds = tf.nn.softmax(preds)\n",
        "  correct_preds = tf.equal(tf.argmax(preds, 1), tf.argmax(y_val_fs, 1))\n",
        "  val_acc_epoch = tf.reduce_mean(tf.cast(correct_preds, 'float'))\n",
        "  val_acc_epoch = val_acc_epoch.numpy()\n",
        "  val_accuracy[epoch, 1] = val_acc_epoch\n",
        "  print('\\nFashion MNIST Validation Accuracy: {:.4f}'.format(val_acc_epoch))\n",
        "\n",
        "time_taken = time.time() - time_start\n",
        "print('\\nTotal time taken (in seconds): {:.2f}'.format(time_taken))\n",
        "#For per epoch_time = Total_Time / Number_of_epochs"
      ]
    },
    {
      "cell_type": "code",
      "execution_count": null,
      "metadata": {
        "colab": {
          "base_uri": "https://localhost:8080/",
          "height": 488
        },
        "id": "gk200weANlKo",
        "outputId": "9ffe0b7f-6473-4f3d-da0a-993a0ddc8363"
      },
      "outputs": [
        {
          "output_type": "error",
          "ename": "NameError",
          "evalue": "ignored",
          "traceback": [
            "\u001b[0;31m---------------------------------------------------------------------------\u001b[0m",
            "\u001b[0;31mNameError\u001b[0m                                 Traceback (most recent call last)",
            "\u001b[0;32m<ipython-input-14-8d6e0182cc4c>\u001b[0m in \u001b[0;36m<module>\u001b[0;34m()\u001b[0m\n\u001b[1;32m      1\u001b[0m \u001b[0mplt\u001b[0m\u001b[0;34m.\u001b[0m\u001b[0mplot\u001b[0m\u001b[0;34m(\u001b[0m\u001b[0mtrain_loss\u001b[0m\u001b[0;34m[\u001b[0m\u001b[0;34m:\u001b[0m\u001b[0;34m,\u001b[0m \u001b[0;36m0\u001b[0m\u001b[0;34m]\u001b[0m\u001b[0;34m,\u001b[0m \u001b[0mlabel\u001b[0m \u001b[0;34m=\u001b[0m \u001b[0;34m'Training MNIST'\u001b[0m\u001b[0;34m)\u001b[0m\u001b[0;34m\u001b[0m\u001b[0;34m\u001b[0m\u001b[0m\n\u001b[0;32m----> 2\u001b[0;31m \u001b[0mplt\u001b[0m\u001b[0;34m.\u001b[0m\u001b[0mplot\u001b[0m\u001b[0;34m(\u001b[0m\u001b[0mval_loss\u001b[0m\u001b[0;34m[\u001b[0m\u001b[0;34m:\u001b[0m\u001b[0;34m,\u001b[0m \u001b[0;36m0\u001b[0m\u001b[0;34m]\u001b[0m\u001b[0;34m,\u001b[0m \u001b[0mlabel\u001b[0m \u001b[0;34m=\u001b[0m \u001b[0;34m'Validation MNIST'\u001b[0m\u001b[0;34m)\u001b[0m\u001b[0;34m\u001b[0m\u001b[0;34m\u001b[0m\u001b[0m\n\u001b[0m\u001b[1;32m      3\u001b[0m \u001b[0mplt\u001b[0m\u001b[0;34m.\u001b[0m\u001b[0mplot\u001b[0m\u001b[0;34m(\u001b[0m\u001b[0mtrain_loss\u001b[0m\u001b[0;34m[\u001b[0m\u001b[0;34m:\u001b[0m\u001b[0;34m,\u001b[0m \u001b[0;36m1\u001b[0m\u001b[0;34m]\u001b[0m\u001b[0;34m,\u001b[0m \u001b[0mlabel\u001b[0m \u001b[0;34m=\u001b[0m \u001b[0;34m'Training Fashion MNIST'\u001b[0m\u001b[0;34m)\u001b[0m\u001b[0;34m\u001b[0m\u001b[0;34m\u001b[0m\u001b[0m\n\u001b[1;32m      4\u001b[0m \u001b[0mplt\u001b[0m\u001b[0;34m.\u001b[0m\u001b[0mplot\u001b[0m\u001b[0;34m(\u001b[0m\u001b[0mval_loss\u001b[0m\u001b[0;34m[\u001b[0m\u001b[0;34m:\u001b[0m\u001b[0;34m,\u001b[0m \u001b[0;36m1\u001b[0m\u001b[0;34m]\u001b[0m\u001b[0;34m,\u001b[0m \u001b[0mlabel\u001b[0m \u001b[0;34m=\u001b[0m \u001b[0;34m'Validation Fashion MNIST'\u001b[0m\u001b[0;34m)\u001b[0m\u001b[0;34m\u001b[0m\u001b[0;34m\u001b[0m\u001b[0m\n\u001b[1;32m      5\u001b[0m \u001b[0mplt\u001b[0m\u001b[0;34m.\u001b[0m\u001b[0mtitle\u001b[0m\u001b[0;34m(\u001b[0m\u001b[0;34m'Training and Validation Loss'\u001b[0m\u001b[0;34m)\u001b[0m\u001b[0;34m\u001b[0m\u001b[0;34m\u001b[0m\u001b[0m\n",
            "\u001b[0;31mNameError\u001b[0m: name 'val_loss' is not defined"
          ]
        },
        {
          "output_type": "display_data",
          "data": {
            "image/png": "[encoded data removed]",
            "text/plain": [
              "<Figure size 432x288 with 1 Axes>"
            ]
          },
          "metadata": {
            "needs_background": "light"
          }
        }
      ],
      "source": [
        "plt.plot(train_loss[:, 0], label = 'Training MNIST')\n",
        "#plt.plot(val_loss[:, 0], label = 'Validation MNIST')\n",
        "plt.plot(train_loss[:, 1], label = 'Training Fashion MNIST')\n",
        "#plt.plot(val_loss[:, 1], label = 'Validation Fashion MNIST')\n",
        "plt.title('Training and Validation Loss')\n",
        "plt.legend()\n",
        "plt.ylabel('Loss')\n",
        "plt.xlabel('Epochs')"
      ]
    },
    {
      "cell_type": "code",
      "execution_count": null,
      "metadata": {
        "colab": {
          "base_uri": "https://localhost:8080/",
          "height": 313
        },
        "id": "bHtwdHP5lrzD",
        "outputId": "7f158736-e7a0-4f7e-a345-0beaf25464c3"
      },
      "outputs": [
        {
          "output_type": "execute_result",
          "data": {
            "text/plain": [
              "Text(0.5, 0, 'Epochs')"
            ]
          },
          "metadata": {},
          "execution_count": 18
        },
        {
          "output_type": "display_data",
          "data": {
            "image/png": "[encoded data removed]",
            "text/plain": [
              "<Figure size 432x288 with 1 Axes>"
            ]
          },
          "metadata": {
            "needs_background": "light"
          }
        }
      ],
      "source": [
        "plt.plot(train_accuracy[:, 0], label = 'Training MNIST')\n",
        "plt.plot(val_accuracy[:, 0], label = 'Validation MNIST')\n",
        "plt.plot(train_accuracy[:, 1], label = 'Training Fashion MNIST')\n",
        "plt.plot(val_accuracy[:, 1], label = 'Validation Fashion MNIST')\n",
        "plt.title('Training and Validation Accuracy')\n",
        "plt.legend()\n",
        "plt.ylabel('Accuracy')\n",
        "plt.xlabel('Epochs')"
      ]
    },
    {
      "cell_type": "markdown",
      "metadata": {
        "id": "HOxLZCfk3O9O"
      },
      "source": [
        "## Bias vs. Variance"
      ]
    },
    {
      "cell_type": "code",
      "execution_count": null,
      "metadata": {
        "id": "XTiGFBxA4s1P"
      },
      "outputs": [],
      "source": [
        "# built-in algorithm\n",
        "built_in = ['Adam']\n",
        "# built_in = ['SGD', 'Adam', 'RMSEProp']\n",
        "\n",
        "# storage\n",
        "num_alg = len(built_in)\n",
        "num_model = 2 # 0 for no regularization 1 for regularization\n",
        "num_rep = 10\n",
        "num_dataset = 2  # 0 for MNIST 1 for FMNIST\n",
        "\n",
        "test_accuracy = np.zeros([num_rep, num_alg, num_model, num_dataset])\n",
        "used_time = np.zeros([num_rep, num_alg, num_model])"
      ]
    },
    {
      "cell_type": "code",
      "source": [
        "for index_alg, alg in enumerate(built_in):\n",
        "  for n in range(num_rep):\n",
        "    print(alg, n)\n",
        "\n",
        "    # Set number of epochs\n",
        "    NUM_EPOCHS = 10\n",
        "\n",
        "    # Initialize model without regularization\n",
        "    # , regularizer = 'L2', L1_alpha = 1 , regularizer = 'L2', L1_alpha = 1 , device='gpu' optimizer = 'Adam', \n",
        "    mlp_on_cpu = MLP_QZ(size_data, size_input, size_hidden_1, size_hidden_2, size_output, lr = 1e-2, device = 'gpu', optimizer = alg) #, regularizer = 'L2', L2_alpha = 0.1,\n",
        "    mlp_on_cpu_fs = MLP_QZ(size_data, size_input, size_hidden_1, size_hidden_2, size_output, lr = 1e-2, device = 'gpu', optimizer = alg) #, regularizer = 'L2', L2_alpha = 0.1,\n",
        "    \n",
        "    time_start = time.time()\n",
        "    for epoch in range(NUM_EPOCHS):\n",
        "\n",
        "      # MNIST\n",
        "      train_ds = tf.data.Dataset.from_tensor_slices((X_train, y_train)).shuffle(100).batch(batch_size_train)\n",
        "      for inputs, outputs in train_ds:\n",
        "        mlp_on_cpu.backward(inputs, outputs)\n",
        "      # FMNIST\n",
        "      train_ds_fs = tf.data.Dataset.from_tensor_slices((X_train_fs, y_train_fs)).shuffle(100).batch(batch_size_train)\n",
        "      for inputs, outputs in train_ds_fs:\n",
        "        mlp_on_cpu_fs.backward(inputs, outputs)\n",
        "    time_taken = time.time() - time_start\n",
        "\n",
        "    # record time\n",
        "    used_time[n, index_alg, 0] = time_taken\n",
        "\n",
        "    # test sample\n",
        "    # for MNIST\n",
        "    preds = mlp_on_cpu.forward(X_test)\n",
        "    preds = tf.nn.softmax(preds)\n",
        "    correct_preds = tf.equal(tf.argmax(preds, 1), tf.argmax(y_test, 1))\n",
        "    test_accuracy[n, index_alg, 0, 0] = tf.reduce_mean(tf.cast(correct_preds, 'float'))\n",
        "    # for Fashion MNIST\n",
        "    preds_fs = mlp_on_cpu_fs.forward(X_test_fs)\n",
        "    preds_fs = tf.nn.softmax(preds_fs)\n",
        "    correct_preds_fs = tf.equal(tf.argmax(preds_fs, 1), tf.argmax(y_test_fs, 1))\n",
        "    test_accuracy[n, index_alg, 0, 1] = tf.reduce_mean(tf.cast(correct_preds_fs, 'float'))\n",
        "\n",
        "\n",
        "\n",
        "\n",
        "    # Initialize model with regularization\n",
        "    # , regularizer = 'L2', L1_alpha = 1 , regularizer = 'L2', L1_alpha = 1 , device='gpu' optimizer = 'Adam', \n",
        "    mlp_on_cpu = MLP_QZ(size_data, size_input, size_hidden_1, size_hidden_2, size_output, lr = 1e-2, device = 'gpu', optimizer = alg, regularizer = 'L2', L2_alpha = 0.02)\n",
        "    mlp_on_cpu_fs = MLP_QZ(size_data, size_input, size_hidden_1, size_hidden_2, size_output, lr = 1e-2, device = 'gpu', optimizer = alg, regularizer = 'L2', L2_alpha = 0.02)\n",
        "    \n",
        "    time_start = time.time()\n",
        "    for epoch in range(NUM_EPOCHS):\n",
        "\n",
        "      # MNIST\n",
        "      train_ds = tf.data.Dataset.from_tensor_slices((X_train, y_train)).shuffle(100).batch(batch_size_train)\n",
        "      for inputs, outputs in train_ds:\n",
        "        mlp_on_cpu.backward(inputs, outputs)\n",
        "      # FMNIST\n",
        "      train_ds_fs = tf.data.Dataset.from_tensor_slices((X_train_fs, y_train_fs)).shuffle(100).batch(batch_size_train)\n",
        "      for inputs, outputs in train_ds_fs:\n",
        "        mlp_on_cpu_fs.backward(inputs, outputs)\n",
        "    time_taken = time.time() - time_start\n",
        "\n",
        "    # record time\n",
        "    used_time[n, index_alg, 1] = time_taken\n",
        "      \n",
        "    # test sample\n",
        "    # for MNIST\n",
        "    preds = mlp_on_cpu.forward(X_test)\n",
        "    preds = tf.nn.softmax(preds)\n",
        "    correct_preds = tf.equal(tf.argmax(preds, 1), tf.argmax(y_test, 1))\n",
        "    test_accuracy[n, index_alg, 1, 0] = tf.reduce_mean(tf.cast(correct_preds, 'float'))\n",
        "    # for Fashion MNIST\n",
        "    preds_fs = mlp_on_cpu_fs.forward(X_test_fs)\n",
        "    preds_fs = tf.nn.softmax(preds_fs)\n",
        "    correct_preds_fs = tf.equal(tf.argmax(preds_fs, 1), tf.argmax(y_test_fs, 1))\n",
        "    test_accuracy[n, index_alg, 1, 1] = tf.reduce_mean(tf.cast(correct_preds_fs, 'float'))"
      ],
      "metadata": {
        "colab": {
          "base_uri": "https://localhost:8080/"
        },
        "id": "4lkJF-Vh99zT",
        "outputId": "9ed4cdd1-43eb-4237-eb28-3e868772f2b8"
      },
      "execution_count": null,
      "outputs": [
        {
          "output_type": "stream",
          "name": "stdout",
          "text": [
            "Adam 0\n",
            "Adam 1\n",
            "Adam 2\n",
            "Adam 3\n",
            "Adam 4\n",
            "Adam 5\n",
            "Adam 6\n",
            "Adam 7\n",
            "Adam 8\n",
            "Adam 9\n"
          ]
        }
      ]
    },
    {
      "cell_type": "code",
      "source": [
        "test_accuracy[:, 0, 1, :]"
      ],
      "metadata": {
        "colab": {
          "base_uri": "https://localhost:8080/"
        },
        "id": "7TjE53aFHdeV",
        "outputId": "7e3301d6-5ff6-4c0e-eb26-74711078a52e"
      },
      "execution_count": null,
      "outputs": [
        {
          "output_type": "execute_result",
          "data": {
            "text/plain": [
              "array([[0.79579997, 0.51899999],\n",
              "       [0.73989999, 0.40549999],\n",
              "       [0.68660003, 0.48899999],\n",
              "       [0.80830002, 0.5424    ],\n",
              "       [0.7726    , 0.50830001],\n",
              "       [0.73629999, 0.59579998],\n",
              "       [0.80690002, 0.60339999],\n",
              "       [0.75520003, 0.53680003],\n",
              "       [0.7295    , 0.54409999],\n",
              "       [0.76899999, 0.6124    ]])"
            ]
          },
          "metadata": {},
          "execution_count": 30
        }
      ]
    },
    {
      "cell_type": "code",
      "execution_count": null,
      "metadata": {
        "colab": {
          "base_uri": "https://localhost:8080/"
        },
        "id": "Bd8UOPmNsJ9j",
        "outputId": "9bed0e26-5eb8-485e-a5be-a4b2fccaba5b"
      },
      "outputs": [
        {
          "output_type": "execute_result",
          "data": {
            "text/plain": [
              "array([[278.64154482, 278.17490983],\n",
              "       [244.34871507, 266.33649921],\n",
              "       [240.80667472, 261.70369172],\n",
              "       [243.9208281 , 265.88206029],\n",
              "       [241.77546477, 263.84540367],\n",
              "       [241.01366878, 264.95406127],\n",
              "       [247.79385567, 271.44136834],\n",
              "       [240.84248638, 262.31962681],\n",
              "       [239.20214462, 263.42726064],\n",
              "       [238.40954947, 267.26508331]])"
            ]
          },
          "metadata": {},
          "execution_count": 31
        }
      ],
      "source": [
        "used_time[:, 0, :]"
      ]
    }
  ],
  "metadata": {
    "accelerator": "GPU",
    "colab": {
      "collapsed_sections": [],
      "name": "IST597_HW3_Builtin.ipynb",
      "provenance": [],
      "authorship_tag": "ABX9TyN+NeXiJRur8hylcNq41ZI+",
      "include_colab_link": true
    },
    "kernelspec": {
      "display_name": "Python 3",
      "name": "python3"
    },
    "language_info": {
      "name": "python"
    }
  },
  "nbformat": 4,
  "nbformat_minor": 0
}