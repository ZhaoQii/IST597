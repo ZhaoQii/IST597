{
  "nbformat": 4,
  "nbformat_minor": 0,
  "metadata": {
    "colab": {
      "name": "IST597_HW5_RNN.ipynb",
      "provenance": [],
      "collapsed_sections": [],
      "authorship_tag": "ABX9TyPs2Omf9Iu335MH3+ro6z8+",
      "include_colab_link": true
    },
    "kernelspec": {
      "name": "python3",
      "display_name": "Python 3"
    },
    "language_info": {
      "name": "python"
    },
    "accelerator": "GPU"
  },
  "cells": [
    {
      "cell_type": "markdown",
      "metadata": {
        "id": "view-in-github",
        "colab_type": "text"
      },
      "source": [
        "<a href=\"https://colab.research.google.com/github/ZhaoQii/IST597/blob/main/IST597_HW5_RNN.ipynb\" target=\"_parent\"><img src=\"https://colab.research.google.com/assets/colab-badge.svg\" alt=\"Open In Colab\"/></a>"
      ]
    },
    {
      "cell_type": "markdown",
      "source": [
        "# Set up"
      ],
      "metadata": {
        "id": "47_etgYWCKRJ"
      }
    },
    {
      "cell_type": "code",
      "execution_count": null,
      "metadata": {
        "id": "Y9ZbFqhE2js_"
      },
      "outputs": [],
      "source": [
        "import tensorflow as tf\n",
        "import pandas as pd\n",
        "import pickle\n",
        "import matplotlib.pyplot as plt\n",
        "%matplotlib inline\n",
        "#tf.random.set_seed(1234)"
      ]
    },
    {
      "cell_type": "code",
      "source": [
        "import sys\n",
        "sys.path.insert(1,'/content/')\n",
        "from data_utils import parse_imdb_sequence"
      ],
      "metadata": {
        "colab": {
          "base_uri": "https://localhost:8080/"
        },
        "id": "7CA2IRY42xhl",
        "outputId": "6aa768cf-2466-45a6-8a3f-41f43d7c4992"
      },
      "execution_count": null,
      "outputs": [
        {
          "output_type": "stream",
          "name": "stdout",
          "text": [
            "[nltk_data] Downloading package punkt to /root/nltk_data...\n",
            "[nltk_data]   Unzipping tokenizers/punkt.zip.\n"
          ]
        }
      ]
    },
    {
      "cell_type": "code",
      "source": [
        "length_reviews = pickle.load(open('/content/length_reviews.pkl', 'rb'))\n",
        "pd.DataFrame(length_reviews, columns=['Length reviews']).hist(bins=100, color='blue');\n",
        "plt.grid(False);"
      ],
      "metadata": {
        "colab": {
          "base_uri": "https://localhost:8080/",
          "height": 281
        },
        "id": "Svhy46_z2znF",
        "outputId": "74c3cb77-f15a-41f2-9d6b-7623497b5115"
      },
      "execution_count": null,
      "outputs": [
        {
          "output_type": "display_data",
          "data": {
            "text/plain": [
              "<Figure size 432x288 with 1 Axes>"
            ],
            "image/png": "[encoded data removed]"
          },
          "metadata": {
            "needs_background": "light"
          }
        }
      ]
    },
    {
      "cell_type": "code",
      "source": [
        "# read data and split the training set to both training and validation sets\n",
        "train_dataset_full = tf.data.TFRecordDataset('/content/train.tfrecords')\n",
        "train_dataset_full = train_dataset_full.map(parse_imdb_sequence)\n",
        "train_dataset = train_dataset_full.take(20000)\n",
        "val_dataset = train_dataset_full.skip(20000)"
      ],
      "metadata": {
        "id": "Flatu2NR41bo"
      },
      "execution_count": null,
      "outputs": []
    },
    {
      "cell_type": "code",
      "source": [
        "train_dataset = train_dataset.shuffle(buffer_size = 10000).padded_batch(512, padded_shapes=([None], [], []))\n",
        "val_dataset = val_dataset.shuffle(buffer_size = 10000).padded_batch(512, padded_shapes=([None], [], []))"
      ],
      "metadata": {
        "id": "CRPJ3Npg65e9"
      },
      "execution_count": null,
      "outputs": []
    },
    {
      "cell_type": "code",
      "source": [
        "# read test data\n",
        "test_dataset = tf.data.TFRecordDataset('/content/test.tfrecords')\n",
        "test_dataset = test_dataset.map(parse_imdb_sequence).shuffle(buffer_size=10000)\n",
        "test_dataset = test_dataset.padded_batch(512, padded_shapes=([None],[],[]))"
      ],
      "metadata": {
        "id": "qAAe8Y_I-uLM"
      },
      "execution_count": null,
      "outputs": []
    },
    {
      "cell_type": "code",
      "source": [
        "# Read the word vocabulary\n",
        "word2idx = pickle.load(open('/content/word2idx.pkl', 'rb'))"
      ],
      "metadata": {
        "id": "m6EaZA6C4z_5"
      },
      "execution_count": null,
      "outputs": []
    },
    {
      "cell_type": "markdown",
      "source": [
        "# Model"
      ],
      "metadata": {
        "id": "hunbpR91CIdp"
      }
    },
    {
      "cell_type": "code",
      "source": [
        "class RNNModel(tf.keras.Model):\n",
        "    def __init__(self, embedding_size=100, cell_size=64, dense_size=128, \n",
        "                 num_classes=2, vocabulary_size=None, rnn_cell='lstm',\n",
        "                 device='cpu:0', checkpoint_directory=None):\n",
        "        ''' Define the parameterized layers used during forward-pass, the device\n",
        "            where you would like to run the computation on and the checkpoint\n",
        "            directory. Additionaly, you can also modify the default size of the \n",
        "            network.\n",
        "            \n",
        "            Args:\n",
        "                embedding_size: the size of the word embedding.\n",
        "                cell_size: RNN cell size.\n",
        "                dense_size: the size of the dense layer.\n",
        "                num_classes: the number of labels in the network.\n",
        "                vocabulary_size: the size of the word vocabulary.\n",
        "                rnn_cell: string, either 'lstm' or 'ugrnn'.\n",
        "                device: string, 'cpu:n' or 'gpu:n' (n can vary). Default, 'cpu:0'.\n",
        "                checkpoint_directory: the directory where you would like to save or \n",
        "                                      restore a model.\n",
        "        '''\n",
        "        super(RNNModel, self).__init__()\n",
        "        \n",
        "        # Weights initializer function\n",
        "        w_initializer = tf.compat.v1.keras.initializers.glorot_uniform()\n",
        "    \n",
        "        # Biases initializer function\n",
        "        b_initializer = tf.zeros_initializer()\n",
        "        \n",
        "        # Initialize weights for word embeddings \n",
        "        self.embeddings = tf.keras.layers.Embedding(vocabulary_size, embedding_size, \n",
        "                                                    embeddings_initializer=w_initializer)\n",
        "        \n",
        "        # Dense layer initialization\n",
        "        self.dense_layer = tf.keras.layers.Dense(dense_size, activation=tf.nn.relu, \n",
        "                                                 kernel_initializer=w_initializer, \n",
        "                                                 bias_initializer=b_initializer)\n",
        "        \n",
        "        # Predictions layer initialization\n",
        "        self.pred_layer = tf.keras.layers.Dense(num_classes, activation=None, \n",
        "                                                kernel_initializer=w_initializer, \n",
        "                                                bias_initializer=b_initializer)\n",
        "        \n",
        "        # Basic LSTM cell\n",
        "        if rnn_cell=='lstm':\n",
        "            self.rnn_cell = tf.compat.v1.nn.rnn_cell.BasicLSTMCell(cell_size)\n",
        "        # Else RNN cell\n",
        "        else:\n",
        "            self.rnn_cell = tf.compat.v1.nn.rnn_cell.BasicRNNCell(cell_size)\n",
        "            \n",
        "        # Define the device \n",
        "        self.device = device\n",
        "        \n",
        "        # Define the checkpoint directory\n",
        "        self.checkpoint_directory = checkpoint_directory\n",
        "        \n",
        "    def predict(self, X, seq_length, is_training):\n",
        "        '''\n",
        "        Predicts the probability of each class, based on the input sample.\n",
        "\n",
        "        Args:\n",
        "            X: 2D tensor of shape (batch_size, time_steps).\n",
        "            seq_length: the length of each sequence in the batch.\n",
        "            is_training: Boolean. Either the network is predicting in\n",
        "                         training mode or not.\n",
        "        '''\n",
        "        \n",
        "        # Get the number of samples within a batch\n",
        "        num_samples = tf.shape(X)[0]\n",
        "\n",
        "        # Initialize LSTM cell state with zeros\n",
        "        state = self.rnn_cell.zero_state(num_samples, dtype=tf.float32)\n",
        "        \n",
        "        # Get the embedding of each word in the sequence\n",
        "        embedded_words = self.embeddings(X)\n",
        "        \n",
        "        # Unstack the embeddings\n",
        "        unstacked_embeddings = tf.unstack(embedded_words, axis=1)\n",
        "        \n",
        "        # Iterate through each timestep and append the predictions\n",
        "        outputs = []\n",
        "        for input_step in unstacked_embeddings:\n",
        "            output, state = self.rnn_cell(input_step, state)\n",
        "            outputs.append(output)\n",
        "            \n",
        "        # Stack outputs to (batch_size, time_steps, cell_size)\n",
        "        outputs = tf.stack(outputs, axis=1)\n",
        "        \n",
        "        # Extract the output of the last time step, of each sample\n",
        "        idxs_last_output = tf.stack([tf.range(num_samples), \n",
        "                                     tf.cast(seq_length-1, tf.int32)], axis=1)\n",
        "        final_output = tf.gather_nd(outputs, idxs_last_output)\n",
        "        \n",
        "        # Add dropout for regularization\n",
        "        #dropped_output = tf.compat.v1.layers.Dropout(final_output, rate=0.3, training=is_training)\n",
        "        \n",
        "        # Pass the last cell state through a dense layer (ReLU activation)\n",
        "        dense = self.dense_layer(final_output)\n",
        "        \n",
        "        # Compute the unnormalized log probabilities\n",
        "        logits = self.pred_layer(dense)\n",
        "        return logits\n",
        "    \n",
        "    def loss_fn(self, X, y, seq_length, is_training):\n",
        "        \"\"\" Defines the loss function used during \n",
        "            training.         \n",
        "        \"\"\"\n",
        "        preds = self.predict(X, seq_length, is_training)\n",
        "        loss = tf.nn.sparse_softmax_cross_entropy_with_logits(labels=y, logits=preds)\n",
        "        return loss\n",
        "    \n",
        "    def grads_fn(self, X, y, seq_length, is_training):\n",
        "        \"\"\" Dynamically computes the gradients of the loss value\n",
        "            with respect to the parameters of the model, in each\n",
        "            forward pass.\n",
        "        \"\"\"\n",
        "        with tf.GradientTape() as tape:\n",
        "            loss = self.loss_fn(X, y, seq_length, is_training)\n",
        "        return tape.gradient(loss, self.variables)\n",
        "    \n",
        "    def restore_model(self):\n",
        "        \"\"\" Function to restore trained model.\n",
        "        \"\"\"\n",
        "        with tf.device(self.device):\n",
        "            # Run the model once to initialize variables\n",
        "            dummy_input = tf.constant(tf.zeros((1,1)))\n",
        "            dummy_length = tf.constant(1, shape=(1,))\n",
        "            dummy_pred = self.predict(dummy_input, dummy_length, False)\n",
        "            # Restore the variables of the model\n",
        "            saver = tf.compat.v1.train.Saver(self.variables)\n",
        "            saver.restore(tf.train.latest_checkpoint\n",
        "                          (self.checkpoint_directory))\n",
        "    \n",
        "    def save_model(self, global_step=0):\n",
        "        \"\"\" Function to save trained model.\n",
        "        \"\"\"\n",
        "        tf.compat.v1.train.Saver(self.variables).save(save_path=self.checkpoint_directory, \n",
        "                                       global_step=global_step)   \n",
        "        \n",
        "    def fit(self, training_data, eval_data, optimizer, num_epochs=500, \n",
        "            early_stopping_rounds=10, verbose=10, train_from_scratch=False):\n",
        "        \"\"\" Function to train the model, using the selected optimizer and\n",
        "            for the desired number of epochs. You can either train from scratch\n",
        "            or load the latest model trained. Early stopping is used in order to\n",
        "            mitigate the risk of overfitting the network.\n",
        "            \n",
        "            Args:\n",
        "                training_data: the data you would like to train the model on.\n",
        "                                Must be in the tf.data.Dataset format.\n",
        "                eval_data: the data you would like to evaluate the model on.\n",
        "                            Must be in the tf.data.Dataset format.\n",
        "                optimizer: the optimizer used during training.\n",
        "                num_epochs: the maximum number of iterations you would like to \n",
        "                            train the model.\n",
        "                early_stopping_rounds: stop training if the accuracy on the eval \n",
        "                                       dataset does not increase after n epochs.\n",
        "                verbose: int. Specify how often to print the loss value of the network.\n",
        "                train_from_scratch: boolean. Whether to initialize variables of the\n",
        "                                    the last trained model or initialize them\n",
        "                                    randomly.\n",
        "        \"\"\" \n",
        "    \n",
        "        if train_from_scratch==False:\n",
        "            self.restore_model()\n",
        "        \n",
        "        # Initialize best_acc. This variable will store the highest accuracy\n",
        "        # on the eval dataset.\n",
        "        best_acc = 0\n",
        "        \n",
        "        # Initialize classes to update the mean accuracy of train and eval\n",
        "        train_acc = tf.keras.metrics.Accuracy('train_acc')\n",
        "        eval_acc = tf.keras.metrics.Accuracy('eval_acc')\n",
        "        \n",
        "        # Initialize dictionary to store the accuracy history\n",
        "        self.history = {}\n",
        "        self.history['train_acc'] = []\n",
        "        self.history['eval_acc'] = []\n",
        "        \n",
        "        # Begin training\n",
        "        with tf.device(self.device):\n",
        "            for i in range(num_epochs):\n",
        "                # Training with gradient descent\n",
        "                for step, (X, y, seq_length) in enumerate(training_data):\n",
        "                    grads = self.grads_fn(X, y, seq_length, True)\n",
        "                    optimizer.apply_gradients(zip(grads, self.variables))\n",
        "                    \n",
        "                # Check accuracy train dataset\n",
        "                for step, (X, y, seq_length) in enumerate(training_data):\n",
        "                    logits = self.predict(X, seq_length, False)\n",
        "                    preds = tf.argmax(logits, axis=1)\n",
        "                    train_acc(preds, y)\n",
        "                self.history['train_acc'].append(train_acc.result().numpy())\n",
        "                # Reset metrics\n",
        "                train_acc.reset_states()\n",
        "\n",
        "                # Check accuracy eval dataset\n",
        "                for step, (X, y, seq_length) in enumerate(eval_data):\n",
        "                    logits = self.predict(X, seq_length, False)\n",
        "                    preds = tf.argmax(logits, axis=1)\n",
        "                    eval_acc(preds, y)\n",
        "                self.history['eval_acc'].append(eval_acc.result().numpy())\n",
        "                # Reset metrics\n",
        "                eval_acc.reset_states()\n",
        "                \n",
        "                # Print train and eval accuracy\n",
        "                if (i==0) | ((i+1)%verbose==0):\n",
        "                    print('Train accuracy at epoch %d: ' %(i+1), self.history['train_acc'][-1])\n",
        "                    print('Eval accuracy at epoch %d: ' %(i+1), self.history['eval_acc'][-1])\n",
        "\n",
        "                # Check for early stopping\n",
        "                if self.history['eval_acc'][-1]>best_acc:\n",
        "                    best_acc = self.history['eval_acc'][-1]\n",
        "                    count = early_stopping_rounds\n",
        "                else:\n",
        "                    count -= 1\n",
        "                if count==0:\n",
        "                    break  "
      ],
      "metadata": {
        "id": "Q0l_cQ2C6bYE"
      },
      "execution_count": null,
      "outputs": []
    },
    {
      "cell_type": "markdown",
      "source": [
        "# Train"
      ],
      "metadata": {
        "id": "z7yeOoAhCSfJ"
      }
    },
    {
      "cell_type": "code",
      "source": [
        "# Specify the path where you want to save/restore the trained variables.\n",
        "checkpoint_directory = 'models_checkpoints/ImdbRNN/'\n",
        "\n",
        "# Use the GPU if available.\n",
        "device = 'gpu:0'\n",
        "\n",
        "# Define optimizer.\n",
        "optimizer = tf.compat.v1.train.AdamOptimizer(learning_rate=1e-2)\n",
        "\n",
        "# Instantiate model. This doesn't initialize the variables yet.\n",
        "lstm_model = RNNModel(vocabulary_size=len(word2idx), device=device, \n",
        "                      checkpoint_directory=checkpoint_directory)"
      ],
      "metadata": {
        "colab": {
          "base_uri": "https://localhost:8080/"
        },
        "id": "O8iF85WeCWBQ",
        "outputId": "a168f07e-84f4-4d4c-eca6-f7db7fd348ce"
      },
      "execution_count": null,
      "outputs": [
        {
          "output_type": "stream",
          "name": "stdout",
          "text": [
            "WARNING:tensorflow:<keras.layers.legacy_rnn.rnn_cell_impl.BasicLSTMCell object at 0x7f74e2046050>: Note that this cell is not optimized for performance. Please use tf.contrib.cudnn_rnn.CudnnLSTM for better performance on GPU.\n"
          ]
        },
        {
          "output_type": "stream",
          "name": "stderr",
          "text": [
            "/usr/local/lib/python3.7/dist-packages/ipykernel_launcher.py:45: UserWarning: `tf.nn.rnn_cell.BasicLSTMCell` is deprecated and will be removed in a future version. This class is equivalent as `tf.keras.layers.LSTMCell`, and will be replaced by that in Tensorflow 2.0.\n"
          ]
        }
      ]
    },
    {
      "cell_type": "code",
      "source": [
        "# Train model\n",
        "import time\n",
        "start_time = time.time()\n",
        "lstm_model.fit(train_dataset, val_dataset, optimizer, num_epochs=5, \n",
        "                early_stopping_rounds=5, verbose=1, train_from_scratch=True)\n",
        "end_time = time.time()\n",
        "used_time = end_time - start_time"
      ],
      "metadata": {
        "colab": {
          "base_uri": "https://localhost:8080/"
        },
        "id": "UUKYfSM5CDT3",
        "outputId": "e452e36b-779a-46b9-a74b-831773b14ba2"
      },
      "execution_count": null,
      "outputs": [
        {
          "output_type": "stream",
          "name": "stderr",
          "text": [
            "/usr/local/lib/python3.7/dist-packages/keras/layers/legacy_rnn/rnn_cell_impl.py:756: UserWarning: `layer.add_variable` is deprecated and will be removed in a future version. Please use `layer.add_weight` method instead.\n",
            "  shape=[input_depth + h_depth, 4 * self._num_units])\n",
            "/usr/local/lib/python3.7/dist-packages/keras/layers/legacy_rnn/rnn_cell_impl.py:760: UserWarning: `layer.add_variable` is deprecated and will be removed in a future version. Please use `layer.add_weight` method instead.\n",
            "  initializer=tf.compat.v1.zeros_initializer(dtype=self.dtype))\n"
          ]
        },
        {
          "output_type": "stream",
          "name": "stdout",
          "text": [
            "Train accuracy at epoch 1:  0.79165\n",
            "Eval accuracy at epoch 1:  0.7548\n",
            "Train accuracy at epoch 2:  0.8637\n",
            "Eval accuracy at epoch 2:  0.7672\n",
            "Train accuracy at epoch 3:  0.9681\n",
            "Eval accuracy at epoch 3:  0.8378\n",
            "Train accuracy at epoch 4:  0.95595\n",
            "Eval accuracy at epoch 4:  0.7984\n",
            "Train accuracy at epoch 5:  0.9926\n",
            "Eval accuracy at epoch 5:  0.843\n"
          ]
        }
      ]
    },
    {
      "cell_type": "code",
      "source": [
        "used_time"
      ],
      "metadata": {
        "colab": {
          "base_uri": "https://localhost:8080/"
        },
        "id": "PLaybN7s5igB",
        "outputId": "bf5d3907-3141-48fb-db4b-afda627a8633"
      },
      "execution_count": null,
      "outputs": [
        {
          "output_type": "execute_result",
          "data": {
            "text/plain": [
              "448.60560369491577"
            ]
          },
          "metadata": {},
          "execution_count": 32
        }
      ]
    },
    {
      "cell_type": "code",
      "source": [
        "plt.plot(range(len(lstm_model.history['train_acc'])), lstm_model.history['train_acc'], \n",
        "         label='LSTM Train Accuracy')\n",
        "plt.plot(range(len(lstm_model.history['eval_acc'])), lstm_model.history['eval_acc'], \n",
        "         label='LSTM Validation Accuracy')\n",
        "plt.title('LSTM Training vs. Validation')\n",
        "plt.xlabel('Epoch')\n",
        "plt.legend()"
      ],
      "metadata": {
        "colab": {
          "base_uri": "https://localhost:8080/",
          "height": 312
        },
        "id": "NLtJIHYu29DY",
        "outputId": "3a1f193b-4c7f-41b1-8787-ca7cf3516d98"
      },
      "execution_count": null,
      "outputs": [
        {
          "output_type": "execute_result",
          "data": {
            "text/plain": [
              "<matplotlib.legend.Legend at 0x7f73bcc30cd0>"
            ]
          },
          "metadata": {},
          "execution_count": 33
        },
        {
          "output_type": "display_data",
          "data": {
            "text/plain": [
              "<Figure size 432x288 with 1 Axes>"
            ],
            "image/png": "[encoded data removed]"
          },
          "metadata": {
            "needs_background": "light"
          }
        }
      ]
    },
    {
      "cell_type": "markdown",
      "source": [
        "# Test on new sample"
      ],
      "metadata": {
        "id": "lW5yh1X907kA"
      }
    },
    {
      "cell_type": "code",
      "source": [
        "import nltk\n",
        "try:\n",
        "    nltk.data.find('tokenizers/punkt')\n",
        "except LookupError:\n",
        "    nltk.download('punkt')\n",
        "from nltk.tokenize import word_tokenize\n",
        "import re"
      ],
      "metadata": {
        "id": "mBCZa-jh2sdh"
      },
      "execution_count": null,
      "outputs": []
    },
    {
      "cell_type": "code",
      "source": [
        "def process_new_review(review):\n",
        "    '''Function to process a new review.\n",
        "       Args:\n",
        "           review: original text review, string.\n",
        "       Returns:\n",
        "           indexed_review: sequence of integers, words correspondence \n",
        "                           from word2idx.\n",
        "           seq_length: the length of the review.\n",
        "    '''\n",
        "    indexed_review = re.sub(r'<[^>]+>', ' ', review)\n",
        "    indexed_review = word_tokenize(indexed_review)\n",
        "    indexed_review = [word2idx[word] if word in list(word2idx.keys()) else \n",
        "                      word2idx['Unknown_token'] for word in indexed_review]\n",
        "    indexed_review = indexed_review + [word2idx['End_token']]\n",
        "    seq_length = len(indexed_review)    \n",
        "    return indexed_review, seq_length"
      ],
      "metadata": {
        "id": "mCIUqnZf0WFh"
      },
      "execution_count": null,
      "outputs": []
    },
    {
      "cell_type": "code",
      "source": [
        "test_acc = tf.keras.metrics.Accuracy('test_acc')\n",
        "test_history = {}\n",
        "test_history['test_acc'] = []\n",
        "\n",
        "with tf.device(device):\n",
        "    for step, (X, y, seq_length) in enumerate(test_dataset):\n",
        "        #indexed_review, seq_length = process_new_review(original_review)\n",
        "        #indexed_review = tf.reshape(tf.constant(indexed_review), (1,-1))\n",
        "        #seq_length = tf.reshape(tf.constant(seq_length), (1,))\n",
        "        logits = lstm_model.predict(X, seq_length, False)\n",
        "        preds = tf.argmax(logits, axis=1)\n",
        "        test_acc(preds, y)\n",
        "    test_history['test_acc'].append(test_acc.result().numpy())\n",
        "    # test_acc.reset_states()"
      ],
      "metadata": {
        "id": "cdPwd9P33kf8"
      },
      "execution_count": null,
      "outputs": []
    },
    {
      "cell_type": "code",
      "source": [
        "test_history['test_acc'][0]"
      ],
      "metadata": {
        "colab": {
          "base_uri": "https://localhost:8080/"
        },
        "id": "-UaNWrSNHImL",
        "outputId": "5f24b789-e6c1-4c59-e33a-ea35ee66952d"
      },
      "execution_count": null,
      "outputs": [
        {
          "output_type": "execute_result",
          "data": {
            "text/plain": [
              "0.68224"
            ]
          },
          "metadata": {},
          "execution_count": 22
        }
      ]
    },
    {
      "cell_type": "markdown",
      "source": [
        "# Multiple Trails"
      ],
      "metadata": {
        "id": "46VEpZof3pR1"
      }
    },
    {
      "cell_type": "code",
      "source": [
        "import numpy as np\n",
        "num_trials = 5\n",
        "\n",
        "test_accuracy = np.zeros([num_trials, 2]) # 0 for before 1 for after\n",
        "used_time = np.zeros([num_trials, 2])"
      ],
      "metadata": {
        "id": "fLNTnLKhIdaR"
      },
      "execution_count": null,
      "outputs": []
    },
    {
      "cell_type": "code",
      "source": [
        "for t in range(num_trials):\n",
        "  print(t)\n",
        "\n",
        "  # Specify the path where you want to save/restore the trained variables.\n",
        "  checkpoint_directory = 'models_checkpoints/ImdbRNN/'\n",
        "\n",
        "  # Use the GPU if available.\n",
        "  device = 'gpu:0'\n",
        "\n",
        "  # Define optimizer.\n",
        "  optimizer = tf.compat.v1.train.AdamOptimizer(learning_rate=1e-4)\n",
        "\n",
        "  # Instantiate model. This doesn't initialize the variables yet.\n",
        "  lstm_model = RNNModel(vocabulary_size=len(word2idx), device=device, \n",
        "                        checkpoint_directory=checkpoint_directory)\n",
        "\n",
        "  start_time = time.time()\n",
        "  lstm_model.fit(train_dataset, val_dataset, optimizer, num_epochs=5, \n",
        "                  early_stopping_rounds=5, verbose=1, train_from_scratch=True)\n",
        "  end_time = time.time()\n",
        "  used_time[t, 0] = end_time - start_time\n",
        "\n",
        "  test_acc = tf.keras.metrics.Accuracy('test_acc')\n",
        "  test_history = {}\n",
        "  test_history['test_acc'] = []\n",
        "\n",
        "  with tf.device(device):\n",
        "      for step, (X, y, seq_length) in enumerate(test_dataset):\n",
        "          #indexed_review, seq_length = process_new_review(original_review)\n",
        "          #indexed_review = tf.reshape(tf.constant(indexed_review), (1,-1))\n",
        "          #seq_length = tf.reshape(tf.constant(seq_length), (1,))\n",
        "          logits = lstm_model.predict(X, seq_length, False)\n",
        "          preds = tf.argmax(logits, axis=1)\n",
        "          test_acc(preds, y)\n",
        "      test_history['test_acc'].append(test_acc.result().numpy())\n",
        "      # test_acc.reset_states()\n",
        "  test_accuracy[t, 0] = test_history['test_acc'][0]"
      ],
      "metadata": {
        "colab": {
          "base_uri": "https://localhost:8080/"
        },
        "id": "j1oKLDXq3wyW",
        "outputId": "a93196da-987b-47c5-a9a4-9baccb47a353"
      },
      "execution_count": null,
      "outputs": [
        {
          "output_type": "stream",
          "name": "stdout",
          "text": [
            "0\n",
            "WARNING:tensorflow:<keras.layers.legacy_rnn.rnn_cell_impl.BasicLSTMCell object at 0x7f73bd266d50>: Note that this cell is not optimized for performance. Please use tf.contrib.cudnn_rnn.CudnnLSTM for better performance on GPU.\n"
          ]
        },
        {
          "output_type": "stream",
          "name": "stderr",
          "text": [
            "/usr/local/lib/python3.7/dist-packages/ipykernel_launcher.py:45: UserWarning: `tf.nn.rnn_cell.BasicLSTMCell` is deprecated and will be removed in a future version. This class is equivalent as `tf.keras.layers.LSTMCell`, and will be replaced by that in Tensorflow 2.0.\n",
            "/usr/local/lib/python3.7/dist-packages/keras/layers/legacy_rnn/rnn_cell_impl.py:756: UserWarning: `layer.add_variable` is deprecated and will be removed in a future version. Please use `layer.add_weight` method instead.\n",
            "  shape=[input_depth + h_depth, 4 * self._num_units])\n",
            "/usr/local/lib/python3.7/dist-packages/keras/layers/legacy_rnn/rnn_cell_impl.py:760: UserWarning: `layer.add_variable` is deprecated and will be removed in a future version. Please use `layer.add_weight` method instead.\n",
            "  initializer=tf.compat.v1.zeros_initializer(dtype=self.dtype))\n"
          ]
        },
        {
          "output_type": "stream",
          "name": "stdout",
          "text": [
            "Train accuracy at epoch 1:  0.5905\n",
            "Eval accuracy at epoch 1:  0.5662\n",
            "Train accuracy at epoch 2:  0.7685\n",
            "Eval accuracy at epoch 2:  0.7288\n",
            "Train accuracy at epoch 3:  0.8586\n",
            "Eval accuracy at epoch 3:  0.8362\n",
            "Train accuracy at epoch 4:  0.9037\n",
            "Eval accuracy at epoch 4:  0.8616\n",
            "Train accuracy at epoch 5:  0.93505\n",
            "Eval accuracy at epoch 5:  0.8816\n",
            "1\n",
            "WARNING:tensorflow:<keras.layers.legacy_rnn.rnn_cell_impl.BasicLSTMCell object at 0x7f73bd1e9d50>: Note that this cell is not optimized for performance. Please use tf.contrib.cudnn_rnn.CudnnLSTM for better performance on GPU.\n",
            "Train accuracy at epoch 1:  0.68495\n",
            "Eval accuracy at epoch 1:  0.654\n",
            "Train accuracy at epoch 2:  0.77095\n",
            "Eval accuracy at epoch 2:  0.7372\n",
            "Train accuracy at epoch 3:  0.84815\n",
            "Eval accuracy at epoch 3:  0.8206\n",
            "Train accuracy at epoch 4:  0.91625\n",
            "Eval accuracy at epoch 4:  0.8756\n",
            "Train accuracy at epoch 5:  0.9365\n",
            "Eval accuracy at epoch 5:  0.8854\n",
            "2\n",
            "WARNING:tensorflow:<keras.layers.legacy_rnn.rnn_cell_impl.BasicLSTMCell object at 0x7f73bcf2c990>: Note that this cell is not optimized for performance. Please use tf.contrib.cudnn_rnn.CudnnLSTM for better performance on GPU.\n",
            "Train accuracy at epoch 1:  0.72895\n",
            "Eval accuracy at epoch 1:  0.695\n",
            "Train accuracy at epoch 2:  0.8082\n",
            "Eval accuracy at epoch 2:  0.7906\n",
            "Train accuracy at epoch 3:  0.83775\n",
            "Eval accuracy at epoch 3:  0.809\n",
            "Train accuracy at epoch 4:  0.9111\n",
            "Eval accuracy at epoch 4:  0.8606\n",
            "Train accuracy at epoch 5:  0.93835\n",
            "Eval accuracy at epoch 5:  0.8854\n",
            "3\n",
            "WARNING:tensorflow:<keras.layers.legacy_rnn.rnn_cell_impl.BasicLSTMCell object at 0x7f73bd1e7110>: Note that this cell is not optimized for performance. Please use tf.contrib.cudnn_rnn.CudnnLSTM for better performance on GPU.\n",
            "Train accuracy at epoch 1:  0.65805\n",
            "Eval accuracy at epoch 1:  0.6332\n",
            "Train accuracy at epoch 2:  0.81\n",
            "Eval accuracy at epoch 2:  0.7958\n",
            "Train accuracy at epoch 3:  0.83115\n",
            "Eval accuracy at epoch 3:  0.8056\n",
            "Train accuracy at epoch 4:  0.91415\n",
            "Eval accuracy at epoch 4:  0.8728\n",
            "Train accuracy at epoch 5:  0.9205\n",
            "Eval accuracy at epoch 5:  0.8644\n",
            "4\n",
            "WARNING:tensorflow:<keras.layers.legacy_rnn.rnn_cell_impl.BasicLSTMCell object at 0x7f73bcf9d150>: Note that this cell is not optimized for performance. Please use tf.contrib.cudnn_rnn.CudnnLSTM for better performance on GPU.\n",
            "Train accuracy at epoch 1:  0.7084\n",
            "Eval accuracy at epoch 1:  0.6828\n",
            "Train accuracy at epoch 2:  0.8068\n",
            "Eval accuracy at epoch 2:  0.7752\n",
            "Train accuracy at epoch 3:  0.8719\n",
            "Eval accuracy at epoch 3:  0.8412\n",
            "Train accuracy at epoch 4:  0.91095\n",
            "Eval accuracy at epoch 4:  0.8716\n",
            "Train accuracy at epoch 5:  0.9416\n",
            "Eval accuracy at epoch 5:  0.8896\n"
          ]
        }
      ]
    },
    {
      "cell_type": "code",
      "source": [
        "used_time"
      ],
      "metadata": {
        "colab": {
          "base_uri": "https://localhost:8080/"
        },
        "id": "HK_fNUvLD88i",
        "outputId": "61f9b69f-e691-42f1-8ca2-bdae1f3f8595"
      },
      "execution_count": null,
      "outputs": [
        {
          "output_type": "execute_result",
          "data": {
            "text/plain": [
              "array([[451.92672443,   0.        ],\n",
              "       [463.65196347,   0.        ],\n",
              "       [437.50462842,   0.        ],\n",
              "       [434.91604972,   0.        ],\n",
              "       [433.33117485,   0.        ]])"
            ]
          },
          "metadata": {},
          "execution_count": 28
        }
      ]
    },
    {
      "cell_type": "code",
      "source": [
        "test_accuracy"
      ],
      "metadata": {
        "colab": {
          "base_uri": "https://localhost:8080/"
        },
        "id": "2iPlY3qXNHHS",
        "outputId": "501c1c1d-e97c-4668-b8d4-eec8232d6f02"
      },
      "execution_count": null,
      "outputs": [
        {
          "output_type": "execute_result",
          "data": {
            "text/plain": [
              "array([[0.85887998, 0.        ],\n",
              "       [0.86075997, 0.        ],\n",
              "       [0.86607999, 0.        ],\n",
              "       [0.84328002, 0.        ],\n",
              "       [0.86900002, 0.        ]])"
            ]
          },
          "metadata": {},
          "execution_count": 29
        }
      ]
    },
    {
      "cell_type": "code",
      "source": [
        "test_accuracy = np.zeros([num_trials, 2]) # 0 for before 1 for after\n",
        "used_time = np.zeros([num_trials, 2])"
      ],
      "metadata": {
        "id": "F1uvXKdXVOLu"
      },
      "execution_count": null,
      "outputs": []
    },
    {
      "cell_type": "code",
      "source": [
        "for t in range(num_trials):\n",
        "  print(t)\n",
        "\n",
        "  # Specify the path where you want to save/restore the trained variables.\n",
        "  checkpoint_directory = 'models_checkpoints/ImdbRNN/'\n",
        "\n",
        "  # Use the GPU if available.\n",
        "  device = 'gpu:0'\n",
        "\n",
        "  # Define optimizer.\n",
        "  optimizer = tf.compat.v1.train.AdamOptimizer(learning_rate=1e-2)\n",
        "\n",
        "  # Instantiate model. This doesn't initialize the variables yet.\n",
        "  lstm_model = RNNModel(vocabulary_size=len(word2idx), device=device, \n",
        "                        checkpoint_directory=checkpoint_directory)\n",
        "\n",
        "  start_time = time.time()\n",
        "  lstm_model.fit(train_dataset, val_dataset, optimizer, num_epochs=5, \n",
        "                  early_stopping_rounds=5, verbose=1, train_from_scratch=True)\n",
        "  end_time = time.time()\n",
        "  used_time[t, 1] = end_time - start_time\n",
        "\n",
        "  test_acc = tf.keras.metrics.Accuracy('test_acc')\n",
        "  test_history = {}\n",
        "  test_history['test_acc'] = []\n",
        "\n",
        "  with tf.device(device):\n",
        "      for step, (X, y, seq_length) in enumerate(test_dataset):\n",
        "          #indexed_review, seq_length = process_new_review(original_review)\n",
        "          #indexed_review = tf.reshape(tf.constant(indexed_review), (1,-1))\n",
        "          #seq_length = tf.reshape(tf.constant(seq_length), (1,))\n",
        "          logits = lstm_model.predict(X, seq_length, False)\n",
        "          preds = tf.argmax(logits, axis=1)\n",
        "          test_acc(preds, y)\n",
        "      test_history['test_acc'].append(test_acc.result().numpy())\n",
        "      # test_acc.reset_states()\n",
        "  test_accuracy[t, 1] = test_history['test_acc'][0]"
      ],
      "metadata": {
        "colab": {
          "base_uri": "https://localhost:8080/"
        },
        "id": "Op1zeNp8NJLD",
        "outputId": "05a73b05-1454-4db2-d9ff-e4482750f5aa"
      },
      "execution_count": null,
      "outputs": [
        {
          "output_type": "stream",
          "name": "stdout",
          "text": [
            "0\n",
            "WARNING:tensorflow:<keras.layers.legacy_rnn.rnn_cell_impl.BasicLSTMCell object at 0x7f73bca9c2d0>: Note that this cell is not optimized for performance. Please use tf.contrib.cudnn_rnn.CudnnLSTM for better performance on GPU.\n"
          ]
        },
        {
          "output_type": "stream",
          "name": "stderr",
          "text": [
            "/usr/local/lib/python3.7/dist-packages/ipykernel_launcher.py:45: UserWarning: `tf.nn.rnn_cell.BasicLSTMCell` is deprecated and will be removed in a future version. This class is equivalent as `tf.keras.layers.LSTMCell`, and will be replaced by that in Tensorflow 2.0.\n",
            "/usr/local/lib/python3.7/dist-packages/keras/layers/legacy_rnn/rnn_cell_impl.py:756: UserWarning: `layer.add_variable` is deprecated and will be removed in a future version. Please use `layer.add_weight` method instead.\n",
            "  shape=[input_depth + h_depth, 4 * self._num_units])\n",
            "/usr/local/lib/python3.7/dist-packages/keras/layers/legacy_rnn/rnn_cell_impl.py:760: UserWarning: `layer.add_variable` is deprecated and will be removed in a future version. Please use `layer.add_weight` method instead.\n",
            "  initializer=tf.compat.v1.zeros_initializer(dtype=self.dtype))\n"
          ]
        },
        {
          "output_type": "stream",
          "name": "stdout",
          "text": [
            "Train accuracy at epoch 1:  0.8307\n",
            "Eval accuracy at epoch 1:  0.7456\n",
            "Train accuracy at epoch 2:  0.88505\n",
            "Eval accuracy at epoch 2:  0.7786\n",
            "Train accuracy at epoch 3:  0.96705\n",
            "Eval accuracy at epoch 3:  0.8572\n",
            "Train accuracy at epoch 4:  0.98755\n",
            "Eval accuracy at epoch 4:  0.829\n",
            "Train accuracy at epoch 5:  0.9883\n",
            "Eval accuracy at epoch 5:  0.831\n",
            "1\n",
            "WARNING:tensorflow:<keras.layers.legacy_rnn.rnn_cell_impl.BasicLSTMCell object at 0x7f73bcef43d0>: Note that this cell is not optimized for performance. Please use tf.contrib.cudnn_rnn.CudnnLSTM for better performance on GPU.\n",
            "Train accuracy at epoch 1:  0.83845\n",
            "Eval accuracy at epoch 1:  0.7642\n",
            "Train accuracy at epoch 2:  0.93615\n",
            "Eval accuracy at epoch 2:  0.823\n",
            "Train accuracy at epoch 3:  0.9733\n",
            "Eval accuracy at epoch 3:  0.8524\n",
            "Train accuracy at epoch 4:  0.9917\n",
            "Eval accuracy at epoch 4:  0.8308\n",
            "Train accuracy at epoch 5:  0.9811\n",
            "Eval accuracy at epoch 5:  0.8088\n",
            "2\n",
            "WARNING:tensorflow:<keras.layers.legacy_rnn.rnn_cell_impl.BasicLSTMCell object at 0x7f73bcb73810>: Note that this cell is not optimized for performance. Please use tf.contrib.cudnn_rnn.CudnnLSTM for better performance on GPU.\n",
            "Train accuracy at epoch 1:  0.7984\n",
            "Eval accuracy at epoch 1:  0.732\n",
            "Train accuracy at epoch 2:  0.84695\n",
            "Eval accuracy at epoch 2:  0.7478\n",
            "Train accuracy at epoch 3:  0.52955\n",
            "Eval accuracy at epoch 3:  0.5326\n",
            "Train accuracy at epoch 4:  0.9556\n",
            "Eval accuracy at epoch 4:  0.8582\n",
            "Train accuracy at epoch 5:  0.98575\n",
            "Eval accuracy at epoch 5:  0.8492\n",
            "3\n",
            "WARNING:tensorflow:<keras.layers.legacy_rnn.rnn_cell_impl.BasicLSTMCell object at 0x7f73bd10a310>: Note that this cell is not optimized for performance. Please use tf.contrib.cudnn_rnn.CudnnLSTM for better performance on GPU.\n",
            "Train accuracy at epoch 1:  0.8783\n",
            "Eval accuracy at epoch 1:  0.8096\n",
            "Train accuracy at epoch 2:  0.95445\n",
            "Eval accuracy at epoch 2:  0.8534\n",
            "Train accuracy at epoch 3:  0.97865\n",
            "Eval accuracy at epoch 3:  0.8406\n",
            "Train accuracy at epoch 4:  0.9829\n",
            "Eval accuracy at epoch 4:  0.8478\n",
            "Train accuracy at epoch 5:  0.9949\n",
            "Eval accuracy at epoch 5:  0.8472\n",
            "4\n",
            "WARNING:tensorflow:<keras.layers.legacy_rnn.rnn_cell_impl.BasicLSTMCell object at 0x7f73bc9e1f90>: Note that this cell is not optimized for performance. Please use tf.contrib.cudnn_rnn.CudnnLSTM for better performance on GPU.\n",
            "Train accuracy at epoch 1:  0.8662\n",
            "Eval accuracy at epoch 1:  0.8074\n",
            "Train accuracy at epoch 2:  0.9447\n",
            "Eval accuracy at epoch 2:  0.83\n",
            "Train accuracy at epoch 3:  0.9764\n",
            "Eval accuracy at epoch 3:  0.8526\n",
            "Train accuracy at epoch 4:  0.9844\n",
            "Eval accuracy at epoch 4:  0.8516\n",
            "Train accuracy at epoch 5:  0.9916\n",
            "Eval accuracy at epoch 5:  0.8298\n"
          ]
        }
      ]
    },
    {
      "cell_type": "code",
      "source": [
        "end_time - start_time"
      ],
      "metadata": {
        "colab": {
          "base_uri": "https://localhost:8080/"
        },
        "id": "Vt3WX9QrRuoq",
        "outputId": "38c36438-0e0e-4de6-cbc4-93a6d9a8c2fc"
      },
      "execution_count": null,
      "outputs": [
        {
          "output_type": "execute_result",
          "data": {
            "text/plain": [
              "448.1743805408478"
            ]
          },
          "metadata": {},
          "execution_count": 36
        }
      ]
    },
    {
      "cell_type": "code",
      "source": [
        "used_time"
      ],
      "metadata": {
        "colab": {
          "base_uri": "https://localhost:8080/"
        },
        "id": "4let0rA8UGXF",
        "outputId": "26f3ce2b-a78c-4532-a297-01d86ffc9e59"
      },
      "execution_count": null,
      "outputs": [
        {
          "output_type": "execute_result",
          "data": {
            "text/plain": [
              "array([[  0.        , 454.32205415],\n",
              "       [  0.        , 443.81040764],\n",
              "       [  0.        , 479.44933534],\n",
              "       [  0.        , 437.68436337],\n",
              "       [  0.        , 435.73716998]])"
            ]
          },
          "metadata": {},
          "execution_count": 41
        }
      ]
    },
    {
      "cell_type": "code",
      "source": [
        "test_accuracy"
      ],
      "metadata": {
        "colab": {
          "base_uri": "https://localhost:8080/"
        },
        "id": "m-zM87ARUMSX",
        "outputId": "f662cf32-2a30-49f3-b7a5-b3595fb08ea4"
      },
      "execution_count": null,
      "outputs": [
        {
          "output_type": "execute_result",
          "data": {
            "text/plain": [
              "array([[0.        , 0.81735998],\n",
              "       [0.        , 0.79579997],\n",
              "       [0.        , 0.82936001],\n",
              "       [0.        , 0.83112001],\n",
              "       [0.        , 0.81283998]])"
            ]
          },
          "metadata": {},
          "execution_count": 42
        }
      ]
    },
    {
      "cell_type": "code",
      "source": [
        ""
      ],
      "metadata": {
        "id": "anhr-sJnUhsF"
      },
      "execution_count": null,
      "outputs": []
    }
  ]
}