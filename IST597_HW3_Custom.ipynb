{
  "cells": [
    {
      "cell_type": "markdown",
      "metadata": {
        "id": "view-in-github",
        "colab_type": "text"
      },
      "source": [
        "<a href=\"https://colab.research.google.com/github/ZhaoQii/IST597/blob/main/IST597_HW3_Custom.ipynb\" target=\"_parent\"><img src=\"https://colab.research.google.com/assets/colab-badge.svg\" alt=\"Open In Colab\"/></a>"
      ]
    },
    {
      "cell_type": "code",
      "execution_count": null,
      "metadata": {
        "colab": {
          "base_uri": "https://localhost:8080/"
        },
        "id": "0XqMPv2q8ava",
        "outputId": "21ee6882-0424-431c-81d0-561fef61e480"
      },
      "outputs": [
        {
          "output_type": "stream",
          "name": "stdout",
          "text": [
            "2.8.0\n"
          ]
        }
      ],
      "source": [
        "import os\n",
        "import numpy as np\n",
        "import time\n",
        "import tensorflow as tf\n",
        "import matplotlib.pyplot as plt\n",
        "print(tf.__version__)"
      ]
    },
    {
      "cell_type": "code",
      "execution_count": null,
      "metadata": {
        "colab": {
          "base_uri": "https://localhost:8080/"
        },
        "id": "i3z58S2Jx_Ay",
        "outputId": "a9239284-15dd-4fc7-83e5-80467f06bc71"
      },
      "outputs": [
        {
          "output_type": "execute_result",
          "data": {
            "text/plain": [
              "[]"
            ]
          },
          "metadata": {},
          "execution_count": 2
        }
      ],
      "source": [
        "tf.config.list_physical_devices('GPU')"
      ]
    },
    {
      "cell_type": "code",
      "execution_count": null,
      "metadata": {
        "id": "A_8cYhDDIuCw"
      },
      "outputs": [],
      "source": [
        "#np.random.seed(1178)\n",
        "#tf.random.set_seed(1178)"
      ]
    },
    {
      "cell_type": "code",
      "execution_count": null,
      "metadata": {
        "colab": {
          "base_uri": "https://localhost:8080/"
        },
        "id": "eRVHzPqnZRrW",
        "outputId": "79a60393-5bae-4675-975c-9f086b3e5f09"
      },
      "outputs": [
        {
          "output_type": "stream",
          "name": "stdout",
          "text": [
            "Downloading data from https://storage.googleapis.com/tensorflow/tf-keras-datasets/mnist.npz\n",
            "11493376/11490434 [==============================] - 0s 0us/step\n",
            "11501568/11490434 [==============================] - 0s 0us/step\n",
            "Downloading data from https://storage.googleapis.com/tensorflow/tf-keras-datasets/train-labels-idx1-ubyte.gz\n",
            "32768/29515 [=================================] - 0s 0us/step\n",
            "40960/29515 [=========================================] - 0s 0us/step\n",
            "Downloading data from https://storage.googleapis.com/tensorflow/tf-keras-datasets/train-images-idx3-ubyte.gz\n",
            "26427392/26421880 [==============================] - 0s 0us/step\n",
            "26435584/26421880 [==============================] - 0s 0us/step\n",
            "Downloading data from https://storage.googleapis.com/tensorflow/tf-keras-datasets/t10k-labels-idx1-ubyte.gz\n",
            "16384/5148 [===============================================================================================] - 0s 0us/step\n",
            "Downloading data from https://storage.googleapis.com/tensorflow/tf-keras-datasets/t10k-images-idx3-ubyte.gz\n",
            "4423680/4422102 [==============================] - 0s 0us/step\n",
            "4431872/4422102 [==============================] - 0s 0us/step\n"
          ]
        }
      ],
      "source": [
        "from tensorflow.keras.datasets import mnist, fashion_mnist\n",
        "from sklearn import preprocessing\n",
        "(X_train, y_train), (X_test, y_test) = mnist.load_data()\n",
        "(X_train_fs, y_train_fs), (X_test_fs, y_test_fs) = fashion_mnist.load_data()\n",
        "\n",
        "# first way to normalize data\n",
        "X_train = X_train.astype(float) / 255.\n",
        "X_test = X_test.astype(float) / 255.\n",
        "\n",
        "X_train = X_train.reshape([X_train.shape[0], -1])\n",
        "X_test = X_test.reshape([X_test.shape[0], -1])\n",
        "\n",
        "X_train_fs = X_train_fs.astype(float) / 255.\n",
        "X_test_fs = X_test_fs.astype(float) / 255.\n",
        "\n",
        "X_train_fs = X_train_fs.reshape([X_train_fs.shape[0], -1])\n",
        "X_test_fs = X_test_fs.reshape([X_test_fs.shape[0], -1])\n",
        "\n",
        "# one hot\n",
        "onehot = preprocessing.OneHotEncoder()\n",
        "\n",
        "y_train = y_train.reshape(-1, 1)\n",
        "y_test = y_test.reshape(-1, 1)\n",
        "\n",
        "onehot.fit(y_train)\n",
        "y_train = onehot.transform(y_train).toarray()\n",
        "onehot.fit(y_test)\n",
        "y_test = onehot.transform(y_test).toarray()\n",
        "\n",
        "y_train_fs = y_train_fs.reshape(-1, 1)\n",
        "y_test_fs = y_test_fs.reshape(-1, 1)\n",
        "\n",
        "onehot.fit(y_train_fs)\n",
        "y_train_fs = onehot.transform(y_train_fs).toarray()\n",
        "onehot.fit(y_test_fs)\n",
        "y_test_fs = onehot.transform(y_test_fs).toarray()\n",
        "\n",
        "# validation set\n",
        "X_train, X_val = X_train[:-10000], X_train[-10000:]\n",
        "y_train, y_val = y_train[:-10000], y_train[-10000:]\n",
        "\n",
        "X_train_fs, X_val_fs = X_train_fs[:-10000], X_train_fs[-10000:]\n",
        "y_train_fs, y_val_fs = y_train_fs[:-10000], y_train_fs[-10000:]"
      ]
    },
    {
      "cell_type": "markdown",
      "metadata": {
        "id": "70dqw3yaMTkK"
      },
      "source": [
        "## Define Class"
      ]
    },
    {
      "cell_type": "code",
      "execution_count": null,
      "metadata": {
        "id": "5ifDRhxKmQDY"
      },
      "outputs": [],
      "source": [
        "# Define class to build mlp model\n",
        "class MLP_QZ_Custom(object):\n",
        "  def __init__(self, size_data, size_input, size_hidden_1, size_hidden_2, size_output, device = None, regularizer = None,\n",
        "               L1_alpha = 0., L2_alpha = 0.,\n",
        "               alpha = 1e-2, beta_1 = 0.9, beta_2 = 0.999, beta_3 = 0.999987, e = 1e-8, e_2 = 1e-6):\n",
        "    \"\"\"\n",
        "    size_input: int, size of input layer\n",
        "    size_hidden: int, size of hidden layer\n",
        "    size_output: int, size of output layer\n",
        "    device: str or None, either 'cpu' or 'gpu' or None. If None, the device to be used will be decided automatically during Eager Execution\n",
        "    \"\"\"\n",
        "    self.size_data, self.size_input, self.size_hidden_1, self.size_hidden_2, self.size_output, self.device, self.regularizer, \\\n",
        "    self.L1_alpha, self.L2_alpha, self.alpha, self.beta_1, self.beta_2, self.beta_3, self.e, self.e_2 = \\\n",
        "    size_data, size_input, size_hidden_1, size_hidden_2, size_output, device, regularizer, L1_alpha, L2_alpha, alpha, beta_1, beta_2, beta_3, e, e_2\n",
        "    \n",
        "    # Xavier initialization\n",
        "    initializer = tf.initializers.GlorotUniform()\n",
        "\n",
        "    self.W0 = tf.Variable(initializer(shape = [self.size_data, self.size_input]))\n",
        "    #self.W0 = tf.Variable(tf.random.normal([self.size_data, self.size_input], stddev = 0.1))\n",
        "    self.b0 = tf.Variable(tf.zeros([1, self.size_input]))\n",
        "\n",
        "    self.W1 = tf.Variable(initializer(shape = [self.size_input, self.size_hidden_1]))\n",
        "    #self.W1 = tf.Variable(tf.random.normal([self.size_input, self.size_hidden_1], stddev = 0.1))\n",
        "    self.b1 = tf.Variable(tf.zeros([1, self.size_hidden_1]))\n",
        "\n",
        "    self.W2 = tf.Variable(initializer(shape = [self.size_hidden_1, self.size_hidden_2]))\n",
        "    #self.W2 = tf.Variable(tf.random.normal([self.size_hidden_1, self.size_hidden_2], stddev = 0.1))\n",
        "    self.b2 = tf.Variable(tf.zeros([1, self.size_hidden_2]))\n",
        "\n",
        "    self.W3 = tf.Variable(initializer(shape = [self.size_hidden_2, self.size_output]))\n",
        "    #self.W3 = tf.Variable(tf.random.normal([self.size_hidden_2, self.size_output], stddev = 0.1))\n",
        "    self.b3 = tf.Variable(tf.zeros([1, self.size_output]))\n",
        "    \n",
        "    # Define variables to be updated during backpropagation\n",
        "    self.variables = [self.W0, self.W1, self.W2, self.W3, self.b0, self.b1, self.b2, self.b3]\n",
        "    \n",
        "  def forward(self, X):\n",
        "    \"\"\"\n",
        "    forward pass\n",
        "    X: Tensor, inputs\n",
        "    \"\"\"\n",
        "    if self.device is not None:\n",
        "      with tf.device('gpu:0' if self.device=='gpu' else 'cpu'):\n",
        "        self.y = self.compute_output(X)\n",
        "    else:\n",
        "      self.y = self.compute_output(X)\n",
        "      \n",
        "    return self.y\n",
        "  \n",
        "  def loss(self, y_pred, y_true):\n",
        "    '''\n",
        "    y_pred - Tensor of shape (batch_size, size_output)\n",
        "    y_true - Tensor of shape (batch_size, size_output)\n",
        "    '''\n",
        "    y_true_tf = tf.cast(tf.reshape(y_true, (-1, self.size_output)), dtype=tf.float32)\n",
        "    y_pred_tf = tf.cast(y_pred, dtype=tf.float32)\n",
        "\n",
        "    #return tf.losses.categorical_crossentropy(y_true_tf, y_pred_tf, from_logits = False)\n",
        "    ce = tf.keras.losses.CategoricalCrossentropy(from_logits = True)\n",
        "\n",
        "    if self.regularizer is None:\n",
        "      return ce(y_true_tf, y_pred_tf)\n",
        "    elif self.regularizer == 'L1':\n",
        "      return (ce(y_true_tf, y_pred_tf) + self.L1_alpha * sum([tf.reduce_sum(tf.abs(var)) for var in self.variables]))\n",
        "    elif self.regularizer == 'L2':\n",
        "      return (ce(y_true_tf, y_pred_tf) + self.L2_alpha * sum([tf.nn.l2_loss(var) for var in self.variables]))\n",
        "    elif self.regularizer == 'L1 + L2':\n",
        "      return (ce(y_true_tf, y_pred_tf) + self.L1_alpha * sum([tf.reduce_sum(tf.abs(var)) for var in self.variables]) + self.L2_alpha * sum([tf.nn.l2_loss(var) for var in self.variables]))\n",
        "  \n",
        "  def backward(self, X_train, y_train, t, m, v, u):\n",
        "    \"\"\"\n",
        "    backward pass\n",
        "    \"\"\"\n",
        "\n",
        "    with tf.GradientTape() as tape:\n",
        "      predicted = self.forward(X_train)\n",
        "      current_loss = self.loss(predicted, y_train)\n",
        "    grads = tape.gradient(current_loss, self.variables)\n",
        "\n",
        "    # update\n",
        "    m = [self.beta_1 * a + (1 - self.beta_1) * b for a, b in zip(m, grads)]\n",
        "    v = [self.beta_2 * a + (1 - self.beta_2) * tf.math.square(b) for a, b in zip(v, grads)]\n",
        "    u = [self.beta_3 * a + (1 - self.beta_3) * tf.math.pow(b, 3) for a, b in zip(u, grads)]\n",
        "    #print(m[0][0])\n",
        "    m_hat = [i / (1 - self.beta_1 ** t) for i in m]\n",
        "    v_hat = [i / (1 - self.beta_2 ** t) for i in v]\n",
        "    u_hat = [i / (1 - self.beta_3 ** t) for i in u]\n",
        "\n",
        "    theta = [a - self.alpha * b / (np.sqrt(c)+ self.e * np.cbrt(d) + self.e_2) for a, b, c, d in zip(self.variables, m_hat, v_hat, u_hat)]\n",
        "    \n",
        "    # assign values to variables\n",
        "    for i in range(len(self.variables)):\n",
        "      self.variables[i].assign(theta[i])\n",
        "    return(m, v, u)\n",
        "        \n",
        "  def compute_output(self, X):\n",
        "    \"\"\"\n",
        "    Custom method to obtain output tensor during forward pass\n",
        "    \"\"\"\n",
        "    # Cast X to float32\n",
        "    X_tf = tf.cast(X, dtype=tf.float32)    \n",
        "    # Compute values in the first hidden layer\n",
        "    what_0 = tf.matmul(X_tf, self.W0) + self.b0\n",
        "    hhat_0 = tf.nn.relu(what_0)\n",
        "    # Compute values in the first hidden layer\n",
        "    what_1 = tf.matmul(hhat_0, self.W1) + self.b1\n",
        "    hhat_1 = tf.nn.relu(what_1)\n",
        "    # Compute values in the second hidden layer\n",
        "    what_2 = tf.matmul(hhat_1, self.W2) + self.b2\n",
        "    hhat_2 = tf.nn.relu(what_2)\n",
        "    # Compute output\n",
        "    output = tf.matmul(hhat_2, self.W3) + self.b3\n",
        "    #output = tf.nn.softmax(what_3)\n",
        "    return output"
      ]
    },
    {
      "cell_type": "markdown",
      "metadata": {
        "id": "2QilpF4VMRDC"
      },
      "source": [
        "## Train Model"
      ]
    },
    {
      "cell_type": "code",
      "execution_count": null,
      "metadata": {
        "id": "RPdjUX44UgEM"
      },
      "outputs": [],
      "source": [
        "size_data, size_input, size_hidden_1, size_hidden_2, size_output = 28 * 28, 512, 256, 128, 10 \n",
        "batch_size_train = 128\n",
        "batch_size_val = 16\n",
        "batch_size_test = 16"
      ]
    },
    {
      "cell_type": "code",
      "execution_count": null,
      "metadata": {
        "id": "W3vMk6gQKaRF"
      },
      "outputs": [],
      "source": [
        "# Set number of epochs\n",
        "NUM_EPOCHS = 5\n",
        "\n",
        "# Initialize model\n",
        "# , regularizer = 'L2', L1_alpha = 1 , regularizer = 'L2', L1_alpha = 1 , device='gpu' optimizer = 'Adam', \n",
        "mlp_on_cpu = MLP_QZ_Custom(size_data, size_input, size_hidden_1, size_hidden_2, size_output, regularizer = 'L2', L2_alpha = 0.02)\n",
        "mlp_on_cpu_fs = MLP_QZ_Custom(size_data, size_input, size_hidden_1, size_hidden_2, size_output, regularizer = 'L2', L2_alpha = 0.02)\n",
        "\n",
        "# column 0 for MINST column 1 for Fashion MNIST\n",
        "train_accuracy = np.zeros([NUM_EPOCHS, 2])\n",
        "val_accuracy = np.zeros([NUM_EPOCHS, 2])\n",
        "train_loss = np.zeros([NUM_EPOCHS, 2])\n",
        "\n",
        "time_start = time.time()\n",
        "for epoch in range(NUM_EPOCHS):\n",
        "\n",
        "  # for MNIST\n",
        "  train_loss_epoch = tf.zeros([1,1], dtype=tf.float32)\n",
        "  train_acc_epoch = tf.zeros([1,1], dtype=tf.float32)\n",
        "  #val_loss_epoch = tf.zeros([1,1], dtype=tf.float32)\n",
        "  val_acc_epoch = tf.zeros([1,1], dtype=tf.float32)\n",
        "\n",
        "  train_ds = tf.data.Dataset.from_tensor_slices((X_train, y_train)).shuffle(100).batch(batch_size_train)\n",
        "\n",
        "  t = 0\n",
        "  m = [tf.zeros_like(var) for var in mlp_on_cpu.variables]\n",
        "  v = [tf.zeros_like(var) for var in mlp_on_cpu.variables]\n",
        "  u = [tf.zeros_like(var) for var in mlp_on_cpu.variables]\n",
        "\n",
        "  for inputs, outputs in train_ds:\n",
        "    t += 1\n",
        "    preds = mlp_on_cpu.forward(inputs)\n",
        "    train_loss_epoch = train_loss_epoch + mlp_on_cpu.loss(preds, outputs)\n",
        "    m, v, u = mlp_on_cpu.backward(inputs, outputs, t, m, v, u)\n",
        "\n",
        "  # training acc and loss\n",
        "  preds = mlp_on_cpu.forward(X_train)\n",
        "  preds = tf.nn.softmax(preds)\n",
        "  correct_preds = tf.equal(tf.argmax(preds, 1), tf.argmax(y_train, 1))\n",
        "  train_acc_epoch = tf.reduce_mean(tf.cast(correct_preds, 'float'))\n",
        "  train_accuracy[epoch, 0] = train_acc_epoch\n",
        "  train_loss_epoch = np.sum(train_loss_epoch) / X_train.shape[0]\n",
        "  train_loss[epoch, 0] = train_loss_epoch\n",
        "  print('\\nMNIST Train Accuracy: {:.4f}'.format(train_acc_epoch))\n",
        "  print('\\nMNIST Number of Epoch = {} - Average Cross Entropy:={}'.format(epoch + 1, train_loss_epoch))\n",
        "\n",
        "  preds = mlp_on_cpu.forward(X_val)\n",
        "  preds = tf.nn.softmax(preds)\n",
        "  correct_preds = tf.equal(tf.argmax(preds, 1), tf.argmax(y_val, 1))\n",
        "  val_acc_epoch = tf.reduce_mean(tf.cast(correct_preds, 'float'))\n",
        "  val_acc_epoch = val_acc_epoch.numpy()\n",
        "  val_accuracy[epoch, 0] = val_acc_epoch\n",
        "  print('\\nMNIST Validation Accuracy: {:.4f}'.format(val_acc_epoch))\n",
        "\n",
        "  # for FMNIST\n",
        "  #train_loss_epoch = tf.zeros([1,1], dtype=tf.float32)\n",
        "  train_acc_epoch = tf.zeros([1,1], dtype=tf.float32)\n",
        "  #val_loss_epoch = tf.zeros([1,1], dtype=tf.float32)\n",
        "  val_acc_epoch = tf.zeros([1,1], dtype=tf.float32)\n",
        "\n",
        "  train_ds = tf.data.Dataset.from_tensor_slices((X_train_fs, y_train_fs)).shuffle(100).batch(batch_size_train)\n",
        "\n",
        "  t = 0\n",
        "  m = [tf.zeros_like(var) for var in mlp_on_cpu.variables]\n",
        "  v = [tf.zeros_like(var) for var in mlp_on_cpu.variables]\n",
        "  u = [tf.zeros_like(var) for var in mlp_on_cpu.variables]\n",
        "\n",
        "  for inputs, outputs in train_ds:\n",
        "    t += 1\n",
        "    preds = mlp_on_cpu_fs.forward(inputs)\n",
        "    train_loss_epoch = train_loss_epoch + mlp_on_cpu_fs.loss(preds, outputs)\n",
        "    m, v, u = mlp_on_cpu_fs.backward(inputs, outputs, t, m, v, u)\n",
        "\n",
        "  # training acc and loss\n",
        "  preds = mlp_on_cpu_fs.forward(X_train_fs)\n",
        "  preds = tf.nn.softmax(preds)\n",
        "  correct_preds = tf.equal(tf.argmax(preds, 1), tf.argmax(y_train_fs, 1))\n",
        "  train_acc_epoch = tf.reduce_mean(tf.cast(correct_preds, 'float'))\n",
        "  train_accuracy[epoch, 1] = train_acc_epoch\n",
        "  train_loss_epoch = np.sum(train_loss_epoch) / X_train.shape[0]\n",
        "  train_loss[epoch, 1] = train_loss_epoch\n",
        "  print('\\nFashion MNIST Train Accuracy: {:.4f}'.format(train_acc_epoch))\n",
        "  print('\\nFashion MNIST Number of Epoch = {} - Average Cross Entropy:={}'.format(epoch + 1, train_loss_epoch))\n",
        "\n",
        "  preds = mlp_on_cpu_fs.forward(X_val_fs)\n",
        "  preds = tf.nn.softmax(preds)\n",
        "  correct_preds = tf.equal(tf.argmax(preds, 1), tf.argmax(y_val_fs, 1))\n",
        "  val_acc_epoch = tf.reduce_mean(tf.cast(correct_preds, 'float'))\n",
        "  val_acc_epoch = val_acc_epoch.numpy()\n",
        "  val_accuracy[epoch, 1] = val_acc_epoch\n",
        "  print('\\nFashion MNIST Validation Accuracy: {:.4f}'.format(val_acc_epoch))\n",
        "\n",
        "\n",
        "time_taken = time.time() - time_start\n",
        "print('\\nTotal time taken (in seconds): {:.2f}'.format(time_taken))\n",
        "#For per epoch_time = Total_Time / Number_of_epochs"
      ]
    },
    {
      "cell_type": "code",
      "execution_count": 26,
      "metadata": {
        "colab": {
          "base_uri": "https://localhost:8080/",
          "height": 312
        },
        "id": "gk200weANlKo",
        "outputId": "e900c7c4-01a5-4f9c-8336-54882c2c9f65"
      },
      "outputs": [
        {
          "output_type": "execute_result",
          "data": {
            "text/plain": [
              "Text(0.5, 0, 'Epochs')"
            ]
          },
          "metadata": {},
          "execution_count": 26
        },
        {
          "output_type": "display_data",
          "data": {
            "image/png": "[encoded data removed]",
            "text/plain": [
              "<Figure size 432x288 with 1 Axes>"
            ]
          },
          "metadata": {
            "needs_background": "light"
          }
        }
      ],
      "source": [
        "plt.plot(train_loss[:, 0], label = 'Training MNIST')\n",
        "#plt.plot(val_loss[:, 0], label = 'Validation MNIST')\n",
        "plt.plot(train_loss[:, 1], label = 'Training Fashion MNIST')\n",
        "#plt.plot(val_loss[:, 1], label = 'Validation Fashion MNIST')\n",
        "plt.title('Training and Validation Loss')\n",
        "plt.legend()\n",
        "plt.ylabel('Loss')\n",
        "plt.xlabel('Epochs')"
      ]
    },
    {
      "cell_type": "code",
      "execution_count": null,
      "metadata": {
        "colab": {
          "base_uri": "https://localhost:8080/",
          "height": 312
        },
        "id": "bHtwdHP5lrzD",
        "outputId": "7f158736-e7a0-4f7e-a345-0beaf25464c3"
      },
      "outputs": [
        {
          "output_type": "execute_result",
          "data": {
            "text/plain": [
              "Text(0.5, 0, 'Epochs')"
            ]
          },
          "metadata": {},
          "execution_count": 18
        },
        {
          "output_type": "display_data",
          "data": {
            "image/png": "[encoded data removed]",
            "text/plain": [
              "<Figure size 432x288 with 1 Axes>"
            ]
          },
          "metadata": {
            "needs_background": "light"
          }
        }
      ],
      "source": [
        "plt.plot(train_accuracy[:, 0], label = 'Training MNIST')\n",
        "plt.plot(val_accuracy[:, 0], label = 'Validation MNIST')\n",
        "plt.plot(train_accuracy[:, 1], label = 'Training Fashion MNIST')\n",
        "plt.plot(val_accuracy[:, 1], label = 'Validation Fashion MNIST')\n",
        "plt.title('Training and Validation Accuracy')\n",
        "plt.legend()\n",
        "plt.ylabel('Accuracy')\n",
        "plt.xlabel('Epochs')"
      ]
    },
    {
      "cell_type": "markdown",
      "metadata": {
        "id": "HOxLZCfk3O9O"
      },
      "source": [
        "## Bias vs. Variance"
      ]
    },
    {
      "cell_type": "code",
      "source": [
        "# storage\n",
        "num_model = 2 # 0 for no regularization 1 for regularization\n",
        "num_rep = 10\n",
        "num_dataset = 2  # 0 for MNIST 1 for FMNIST\n",
        "\n",
        "test_accuracy = np.zeros([num_rep, num_model, num_dataset])\n",
        "used_time = np.zeros([num_rep, num_model])"
      ],
      "metadata": {
        "id": "iEmbNMG3AGyq"
      },
      "execution_count": null,
      "outputs": []
    },
    {
      "cell_type": "code",
      "source": [
        "for n in range(num_rep):\n",
        "  print(n)\n",
        "\n",
        "  # Set number of epochs\n",
        "  NUM_EPOCHS = 10\n",
        "\n",
        "  # Initialize model without regularization\n",
        "  # , regularizer = 'L2', L1_alpha = 1 , regularizer = 'L2', L1_alpha = 1 , device='gpu' optimizer = 'Adam', \n",
        "  mlp_on_cpu = MLP_QZ_Custom(size_data, size_input, size_hidden_1, size_hidden_2, size_output) #, regularizer = 'L2', L2_alpha = 0.1,\n",
        "  mlp_on_cpu_fs = MLP_QZ_Custom(size_data, size_input, size_hidden_1, size_hidden_2, size_output) #, lr = 1e-2, device = 'gpu', optimizer = alg) #, regularizer = 'L2', L2_alpha = 0.1,\n",
        "  \n",
        "  time_start = time.time()\n",
        "  for epoch in range(NUM_EPOCHS):\n",
        "\n",
        "    t = 0\n",
        "    m = [tf.zeros_like(var) for var in mlp_on_cpu.variables]\n",
        "    v = [tf.zeros_like(var) for var in mlp_on_cpu.variables]\n",
        "    u = [tf.zeros_like(var) for var in mlp_on_cpu.variables]\n",
        "    # MNIST\n",
        "    train_ds = tf.data.Dataset.from_tensor_slices((X_train, y_train)).shuffle(100).batch(batch_size_train)\n",
        "    for inputs, outputs in train_ds:\n",
        "      t += 1\n",
        "      m, v, u = mlp_on_cpu.backward(inputs, outputs, t, m, v, u)\n",
        "\n",
        "  for epoch in range(NUM_EPOCHS):\n",
        "\n",
        "    t = 0\n",
        "    m = [tf.zeros_like(var) for var in mlp_on_cpu_fs.variables]\n",
        "    v = [tf.zeros_like(var) for var in mlp_on_cpu_fs.variables]\n",
        "    u = [tf.zeros_like(var) for var in mlp_on_cpu_fs.variables]\n",
        "    # FMNIST\n",
        "    train_ds_fs = tf.data.Dataset.from_tensor_slices((X_train_fs, y_train_fs)).shuffle(100).batch(batch_size_train)\n",
        "    for inputs, outputs in train_ds_fs:\n",
        "      t += 1\n",
        "      m, v, u = mlp_on_cpu_fs.backward(inputs, outputs, t, m, v, u)\n",
        "  time_taken = time.time() - time_start\n",
        "\n",
        "  # record time\n",
        "  used_time[n, 0] = time_taken\n",
        "\n",
        "  # test sample\n",
        "  # for MNIST\n",
        "  preds = mlp_on_cpu.forward(X_test)\n",
        "  preds = tf.nn.softmax(preds)\n",
        "  correct_preds = tf.equal(tf.argmax(preds, 1), tf.argmax(y_test, 1))\n",
        "  test_accuracy[n, 0, 0] = tf.reduce_mean(tf.cast(correct_preds, 'float'))\n",
        "  # for Fashion MNIST\n",
        "  preds_fs = mlp_on_cpu_fs.forward(X_test_fs)\n",
        "  preds_fs = tf.nn.softmax(preds_fs)\n",
        "  correct_preds_fs = tf.equal(tf.argmax(preds_fs, 1), tf.argmax(y_test_fs, 1))\n",
        "  test_accuracy[n, 0, 1] = tf.reduce_mean(tf.cast(correct_preds_fs, 'float'))\n",
        "\n",
        "\n",
        "  # Initialize model with regularization\n",
        "  # , regularizer = 'L2', L1_alpha = 1 , regularizer = 'L2', L1_alpha = 1 , device='gpu' optimizer = 'Adam', \n",
        "  mlp_on_cpu = MLP_QZ_Custom(size_data, size_input, size_hidden_1, size_hidden_2, size_output, regularizer = 'L2', L2_alpha = 0.02)\n",
        "  mlp_on_cpu_fs = MLP_QZ_Custom(size_data, size_input, size_hidden_1, size_hidden_2, size_output, regularizer = 'L2', L2_alpha = 0.02)\n",
        "  \n",
        "  time_start = time.time()\n",
        "  for epoch in range(NUM_EPOCHS):\n",
        "\n",
        "    t = 0\n",
        "    m = [tf.zeros_like(var) for var in mlp_on_cpu.variables]\n",
        "    v = [tf.zeros_like(var) for var in mlp_on_cpu.variables]\n",
        "    u = [tf.zeros_like(var) for var in mlp_on_cpu.variables]\n",
        "    # MNIST\n",
        "    train_ds = tf.data.Dataset.from_tensor_slices((X_train, y_train)).shuffle(100).batch(batch_size_train)\n",
        "    for inputs, outputs in train_ds:\n",
        "      t += 1\n",
        "      m, v, u = mlp_on_cpu.backward(inputs, outputs, t, m, v, u)\n",
        "\n",
        "  for epoch in range(NUM_EPOCHS):\n",
        "\n",
        "    t = 0\n",
        "    m = [tf.zeros_like(var) for var in mlp_on_cpu_fs.variables]\n",
        "    v = [tf.zeros_like(var) for var in mlp_on_cpu_fs.variables]\n",
        "    u = [tf.zeros_like(var) for var in mlp_on_cpu_fs.variables]\n",
        "    # FMNIST\n",
        "    train_ds_fs = tf.data.Dataset.from_tensor_slices((X_train_fs, y_train_fs)).shuffle(100).batch(batch_size_train)\n",
        "    for inputs, outputs in train_ds_fs:\n",
        "      t += 1\n",
        "      m, v, u = mlp_on_cpu_fs.backward(inputs, outputs, t, m, v, u)\n",
        "  time_taken = time.time() - time_start\n",
        "\n",
        "  # record time\n",
        "  used_time[n, 1] = time_taken\n",
        "    \n",
        "  # test sample\n",
        "  # for MNIST\n",
        "  preds = mlp_on_cpu.forward(X_test)\n",
        "  preds = tf.nn.softmax(preds)\n",
        "  correct_preds = tf.equal(tf.argmax(preds, 1), tf.argmax(y_test, 1))\n",
        "  test_accuracy[n, 1, 0] = tf.reduce_mean(tf.cast(correct_preds, 'float'))\n",
        "  # for Fashion MNIST\n",
        "  preds_fs = mlp_on_cpu_fs.forward(X_test_fs)\n",
        "  preds_fs = tf.nn.softmax(preds_fs)\n",
        "  correct_preds_fs = tf.equal(tf.argmax(preds_fs, 1), tf.argmax(y_test_fs, 1))\n",
        "  test_accuracy[n, 1, 1] = tf.reduce_mean(tf.cast(correct_preds_fs, 'float'))"
      ],
      "metadata": {
        "colab": {
          "base_uri": "https://localhost:8080/"
        },
        "id": "BjVEU8CtAM-l",
        "outputId": "0cd6f9d9-267b-46b9-f38e-4b3a0411ef7b"
      },
      "execution_count": null,
      "outputs": [
        {
          "output_type": "stream",
          "name": "stdout",
          "text": [
            "0\n",
            "1\n",
            "2\n",
            "3\n",
            "4\n",
            "5\n",
            "6\n",
            "7\n",
            "8\n",
            "9\n"
          ]
        }
      ]
    },
    {
      "cell_type": "code",
      "source": [
        "test_accuracy[:, 1, :]"
      ],
      "metadata": {
        "colab": {
          "base_uri": "https://localhost:8080/"
        },
        "id": "iaQJwA5CGDpv",
        "outputId": "89532f8c-81f7-4105-8781-104d25bccb16"
      },
      "execution_count": null,
      "outputs": [
        {
          "output_type": "execute_result",
          "data": {
            "text/plain": [
              "array([[0.86290002, 0.76550001],\n",
              "       [0.85729998, 0.78200001],\n",
              "       [0.83499998, 0.74629998],\n",
              "       [0.87159997, 0.7834    ],\n",
              "       [0.83530003, 0.73729998],\n",
              "       [0.82740003, 0.74940002],\n",
              "       [0.84539998, 0.764     ],\n",
              "       [0.88849998, 0.77179998],\n",
              "       [0.83789998, 0.77249998],\n",
              "       [0.8642    , 0.73250002]])"
            ]
          },
          "metadata": {},
          "execution_count": 23
        }
      ]
    },
    {
      "cell_type": "code",
      "source": [
        "used_time[:, 1]"
      ],
      "metadata": {
        "colab": {
          "base_uri": "https://localhost:8080/"
        },
        "id": "H_pfPBCV5oI8",
        "outputId": "d1f170ae-aad8-464c-8120-082ca6bacfbe"
      },
      "execution_count": null,
      "outputs": [
        {
          "output_type": "execute_result",
          "data": {
            "text/plain": [
              "array([667.33868337, 676.989254  , 696.44490123, 654.94622135,\n",
              "       657.28889894, 665.99384689, 675.46364832, 693.78219604,\n",
              "       651.33903599, 748.68760395])"
            ]
          },
          "metadata": {},
          "execution_count": 24
        }
      ]
    },
    {
      "cell_type": "code",
      "source": [
        ""
      ],
      "metadata": {
        "id": "en4kY94i6HZt"
      },
      "execution_count": null,
      "outputs": []
    }
  ],
  "metadata": {
    "colab": {
      "collapsed_sections": [],
      "name": "IST597_HW3_Custom.ipynb",
      "provenance": [],
      "authorship_tag": "ABX9TyPwQc4EBiSZcCDm7EEp091f",
      "include_colab_link": true
    },
    "kernelspec": {
      "display_name": "Python 3",
      "name": "python3"
    },
    "language_info": {
      "name": "python"
    }
  },
  "nbformat": 4,
  "nbformat_minor": 0
}