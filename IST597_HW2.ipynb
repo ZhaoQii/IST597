{
  "cells": [
    {
      "cell_type": "markdown",
      "metadata": {
        "id": "view-in-github",
        "colab_type": "text"
      },
      "source": [
        "<a href=\"https://colab.research.google.com/github/ZhaoQii/IST597/blob/main/IST597_HW2.ipynb\" target=\"_parent\"><img src=\"https://colab.research.google.com/assets/colab-badge.svg\" alt=\"Open In Colab\"/></a>"
      ]
    },
    {
      "cell_type": "code",
      "execution_count": 2,
      "metadata": {
        "colab": {
          "base_uri": "https://localhost:8080/"
        },
        "id": "0XqMPv2q8ava",
        "outputId": "56056fbb-c35f-4ddb-8afd-76a2c93ca627"
      },
      "outputs": [
        {
          "output_type": "stream",
          "name": "stdout",
          "text": [
            "2.7.0\n"
          ]
        }
      ],
      "source": [
        "import os\n",
        "import numpy as np\n",
        "import time\n",
        "import tensorflow as tf\n",
        "import matplotlib.pyplot as plt\n",
        "print(tf.__version__)"
      ]
    },
    {
      "cell_type": "code",
      "execution_count": 3,
      "metadata": {
        "colab": {
          "base_uri": "https://localhost:8080/"
        },
        "id": "i3z58S2Jx_Ay",
        "outputId": "7c64c8fa-525c-4c93-ff1b-5443eded7db0"
      },
      "outputs": [
        {
          "output_type": "execute_result",
          "data": {
            "text/plain": [
              "[]"
            ]
          },
          "metadata": {},
          "execution_count": 3
        }
      ],
      "source": [
        "tf.config.list_physical_devices('GPU')"
      ]
    },
    {
      "cell_type": "code",
      "execution_count": 11,
      "metadata": {
        "id": "A_8cYhDDIuCw"
      },
      "outputs": [],
      "source": [
        "#np.random.seed(1178)\n",
        "#tf.random.set_seed(1178)"
      ]
    },
    {
      "cell_type": "code",
      "execution_count": 4,
      "metadata": {
        "colab": {
          "base_uri": "https://localhost:8080/"
        },
        "id": "eRVHzPqnZRrW",
        "outputId": "0da81536-c643-4ffe-b0c6-7c281a6c5eb7"
      },
      "outputs": [
        {
          "output_type": "stream",
          "name": "stdout",
          "text": [
            "Downloading data from https://storage.googleapis.com/tensorflow/tf-keras-datasets/mnist.npz\n",
            "11493376/11490434 [==============================] - 0s 0us/step\n",
            "11501568/11490434 [==============================] - 0s 0us/step\n",
            "Downloading data from https://storage.googleapis.com/tensorflow/tf-keras-datasets/train-labels-idx1-ubyte.gz\n",
            "32768/29515 [=================================] - 0s 0us/step\n",
            "40960/29515 [=========================================] - 0s 0us/step\n",
            "Downloading data from https://storage.googleapis.com/tensorflow/tf-keras-datasets/train-images-idx3-ubyte.gz\n",
            "26427392/26421880 [==============================] - 1s 0us/step\n",
            "26435584/26421880 [==============================] - 1s 0us/step\n",
            "Downloading data from https://storage.googleapis.com/tensorflow/tf-keras-datasets/t10k-labels-idx1-ubyte.gz\n",
            "16384/5148 [===============================================================================================] - 0s 0us/step\n",
            "Downloading data from https://storage.googleapis.com/tensorflow/tf-keras-datasets/t10k-images-idx3-ubyte.gz\n",
            "4423680/4422102 [==============================] - 0s 0us/step\n",
            "4431872/4422102 [==============================] - 0s 0us/step\n"
          ]
        }
      ],
      "source": [
        "from tensorflow.keras.datasets import mnist, fashion_mnist\n",
        "from sklearn import preprocessing\n",
        "(X_train, y_train), (X_test, y_test) = mnist.load_data()\n",
        "(X_train_fs, y_train_fs), (X_test_fs, y_test_fs) = fashion_mnist.load_data()\n",
        "\n",
        "# first way to normalize data\n",
        "X_train = X_train.astype(float) / 255.\n",
        "X_test = X_test.astype(float) / 255.\n",
        "\n",
        "X_train = X_train.reshape([X_train.shape[0], -1])\n",
        "X_test = X_test.reshape([X_test.shape[0], -1])\n",
        "\n",
        "X_train_fs = X_train_fs.astype(float) / 255.\n",
        "X_test_fs = X_test_fs.astype(float) / 255.\n",
        "\n",
        "X_train_fs = X_train_fs.reshape([X_train_fs.shape[0], -1])\n",
        "X_test_fs = X_test_fs.reshape([X_test_fs.shape[0], -1])\n",
        "\n",
        "# one hot\n",
        "onehot = preprocessing.OneHotEncoder()\n",
        "\n",
        "y_train = y_train.reshape(-1, 1)\n",
        "y_test = y_test.reshape(-1, 1)\n",
        "\n",
        "onehot.fit(y_train)\n",
        "y_train = onehot.transform(y_train).toarray()\n",
        "onehot.fit(y_test)\n",
        "y_test = onehot.transform(y_test).toarray()\n",
        "\n",
        "y_train_fs = y_train_fs.reshape(-1, 1)\n",
        "y_test_fs = y_test_fs.reshape(-1, 1)\n",
        "\n",
        "onehot.fit(y_train_fs)\n",
        "y_train_fs = onehot.transform(y_train_fs).toarray()\n",
        "onehot.fit(y_test_fs)\n",
        "y_test_fs = onehot.transform(y_test_fs).toarray()\n",
        "\n",
        "# validation set\n",
        "X_train, X_val = X_train[:-10000], X_train[-10000:]\n",
        "y_train, y_val = y_train[:-10000], y_train[-10000:]\n",
        "\n",
        "X_train_fs, X_val_fs = X_train_fs[:-10000], X_train_fs[-10000:]\n",
        "y_train_fs, y_val_fs = y_train_fs[:-10000], y_train_fs[-10000:]"
      ]
    },
    {
      "cell_type": "markdown",
      "metadata": {
        "id": "70dqw3yaMTkK"
      },
      "source": [
        "## Define Class"
      ]
    },
    {
      "cell_type": "code",
      "execution_count": 5,
      "metadata": {
        "id": "5ifDRhxKmQDY"
      },
      "outputs": [],
      "source": [
        "# Define class to build mlp model\n",
        "class MLP_QZ(object):\n",
        "  def __init__(self, size_data, size_input, size_hidden_1, size_hidden_2, size_output, device = None, regularizer = None,\n",
        "               L1_alpha = 0., L2_alpha = 0., keep_prob_0 = 0., keep_prob_1 = 0., keep_prob_2 = 0., keep_prob_3 = 0., optimizer = 'SGD', lr = 1e-4):\n",
        "    \"\"\"\n",
        "    size_input: int, size of input layer\n",
        "    size_hidden: int, size of hidden layer\n",
        "    size_output: int, size of output layer\n",
        "    device: str or None, either 'cpu' or 'gpu' or None. If None, the device to be used will be decided automatically during Eager Execution\n",
        "    \"\"\"\n",
        "    self.size_data, self.size_input, self.size_hidden_1, self.size_hidden_2, self.size_output, self.device, self.regularizer, \\\n",
        "    self.L1_alpha, self.L2_alpha, self.keep_prob_0, self.keep_prob_1, self.keep_prob_2, self.keep_prob_3, self.optimizer, self.lr =\\\n",
        "    size_data, size_input, size_hidden_1, size_hidden_2, size_output, device, regularizer, L1_alpha, L2_alpha, \\\n",
        "    keep_prob_0, keep_prob_1, keep_prob_2, keep_prob_3, optimizer, lr\n",
        "    \n",
        "    # Initialize weights between input layer and the first hidden layer\n",
        "    self.W0 = tf.Variable(tf.random.normal([self.size_data, self.size_input]))\n",
        "    # Initialize biases for the first hidden layer\n",
        "    self.b0 = tf.Variable(tf.random.normal([1, self.size_input]))\n",
        "    # Initialize weights between input layer and the first hidden layer\n",
        "    self.W1 = tf.Variable(tf.random.normal([self.size_input, self.size_hidden_1]))\n",
        "    # Initialize biases for the first hidden layer\n",
        "    self.b1 = tf.Variable(tf.random.normal([1, self.size_hidden_1]))\n",
        "    # Initialize weights between two hidden layers\n",
        "    self.W2 = tf.Variable(tf.random.normal([self.size_hidden_1, self.size_hidden_2]))\n",
        "    # Initialize biases for the second hidden layer\n",
        "    self.b2 = tf.Variable(tf.random.normal([1, self.size_hidden_2]))\n",
        "     # Initialize weights between hidden layer and output layer\n",
        "    self.W3 = tf.Variable(tf.random.normal([self.size_hidden_2, self.size_output]))\n",
        "    # Initialize biases for output layer\n",
        "    self.b3 = tf.Variable(tf.random.normal([1, self.size_output]))\n",
        "    \n",
        "    # Define variables to be updated during backpropagation\n",
        "    self.variables = [self.W0, self.W1, self.W2, self.W3, self.b0, self.b1, self.b2, self.b3]\n",
        "    \n",
        "  def forward(self, X):\n",
        "    \"\"\"\n",
        "    forward pass\n",
        "    X: Tensor, inputs\n",
        "    \"\"\"\n",
        "    if self.device is not None:\n",
        "      with tf.device('gpu:0' if self.device=='gpu' else 'cpu'):\n",
        "        self.y = self.compute_output(X)\n",
        "    else:\n",
        "      self.y = self.compute_output(X)\n",
        "      \n",
        "    return self.y\n",
        "  \n",
        "  def loss(self, y_pred, y_true):\n",
        "    '''\n",
        "    y_pred - Tensor of shape (batch_size, size_output)\n",
        "    y_true - Tensor of shape (batch_size, size_output)\n",
        "    '''\n",
        "    y_true_tf = tf.cast(tf.reshape(y_true, (-1, self.size_output)), dtype=tf.float32)\n",
        "    y_pred_tf = tf.cast(y_pred, dtype=tf.float32)\n",
        "\n",
        "    #return tf.losses.categorical_crossentropy(y_true_tf, y_pred_tf, from_logits = False)\n",
        "    ce = tf.keras.losses.CategoricalCrossentropy(from_logits = True)\n",
        "\n",
        "    if self.regularizer is None:\n",
        "      return ce(y_true_tf, y_pred_tf)\n",
        "    elif self.regularizer == 'L1':\n",
        "      return (ce(y_true_tf, y_pred_tf) + self.L1_alpha * sum([tf.reduce_sum(tf.abs(var)) for var in self.variables]))\n",
        "    elif self.regularizer == 'L2':\n",
        "      return (ce(y_true_tf, y_pred_tf) + self.L2_alpha * sum([tf.nn.l2_loss(var) for var in self.variables]))\n",
        "    elif self.regularizer == 'L1 + L2':\n",
        "      return (ce(y_true_tf, y_pred_tf) + self.L1_alpha * sum([tf.reduce_sum(tf.abs(var)) for var in self.variables]) + self.L2_alpha * sum([tf.nn.l2_loss(var) for var in self.variables]))\n",
        "  \n",
        "  def backward(self, X_train, y_train):\n",
        "    \"\"\"\n",
        "    backward pass\n",
        "    \"\"\"\n",
        "    if self.optimizer == 'SGD':\n",
        "      optimizer = tf.keras.optimizers.SGD(learning_rate = self.lr)\n",
        "    elif self.optimizer == 'Adam':\n",
        "      optimizer = tf.keras.optimizers.Adam(learning_rate = self.lr)\n",
        "\n",
        "    with tf.GradientTape() as tape:\n",
        "      predicted = self.forward(X_train)\n",
        "      current_loss = self.loss(predicted, y_train)\n",
        "    grads = tape.gradient(current_loss, self.variables)\n",
        "    optimizer.apply_gradients(zip(grads, self.variables))\n",
        "        \n",
        "        \n",
        "  def compute_output(self, X):\n",
        "    \"\"\"\n",
        "    Custom method to obtain output tensor during forward pass\n",
        "    \"\"\"\n",
        "    # Cast X to float32\n",
        "    X_tf = tf.cast(X, dtype=tf.float32)\n",
        "    #Remember to normalize your dataset before moving forward\n",
        "    \n",
        "    # Compute values in the first hidden layer\n",
        "    what_0 = tf.matmul(X_tf, self.W0) + self.b0\n",
        "    hhat_0 = tf.nn.relu(what_0)\n",
        "    hhat_0 = tf.nn.dropout(hhat_0, tf.constant(self.keep_prob_0))\n",
        "    # Compute values in the first hidden layer\n",
        "    what_1 = tf.matmul(hhat_0, self.W1) + self.b1\n",
        "    hhat_1 = tf.nn.relu(what_1)\n",
        "    hhat_1 = tf.nn.dropout(hhat_1, tf.constant(self.keep_prob_1))\n",
        "    # Compute values in the second hidden layer\n",
        "    what_2 = tf.matmul(hhat_1, self.W2) + self.b2\n",
        "    hhat_2 = tf.nn.relu(what_2)\n",
        "    hhat_2 = tf.nn.dropout(hhat_2, tf.constant(self.keep_prob_2))\n",
        "    # Compute output\n",
        "    output = tf.matmul(hhat_2, self.W3) + self.b3\n",
        "    output = tf.nn.dropout(output, tf.constant(self.keep_prob_3))\n",
        "    #output = tf.nn.softmax(what_3)\n",
        "    #Now consider two things , First look at inbuild loss functions if they work with softmax or not and then change this\n",
        "    #Second add tf.Softmax(output) and then return this variable\n",
        "    return output"
      ]
    },
    {
      "cell_type": "markdown",
      "metadata": {
        "id": "2QilpF4VMRDC"
      },
      "source": [
        "## Train Model"
      ]
    },
    {
      "cell_type": "code",
      "execution_count": 6,
      "metadata": {
        "id": "RPdjUX44UgEM"
      },
      "outputs": [],
      "source": [
        "size_data, size_input, size_hidden_1, size_hidden_2, size_output = 28 * 28, 512, 512, 256, 10 \n",
        "# model 3: 28 * 28, 512, 512, 256, 10 ### 1\n",
        "# model 3 L2: alpha = 1 ### 2\n",
        "# model 3 L1: alpha = 0.5\n",
        "# model 3 L1: alpha = 0.001, adam lr 1e-3 ### 3\n",
        "batch_size_train = 64\n",
        "batch_size_val = 16\n",
        "batch_size_test = 16"
      ]
    },
    {
      "cell_type": "code",
      "execution_count": 7,
      "metadata": {
        "colab": {
          "base_uri": "https://localhost:8080/",
          "height": 398
        },
        "id": "W3vMk6gQKaRF",
        "outputId": "f79c2e17-1034-4f15-d3a7-7caee3891007"
      },
      "outputs": [
        {
          "output_type": "stream",
          "name": "stdout",
          "text": [
            "MNIST Number of Epoch = 1 - Average Cross Entropy:= 1866.55419921875 - Train acc:= 0.8044877052307129 - Val acc:= 0.8521365523338318\n"
          ]
        },
        {
          "output_type": "error",
          "ename": "KeyboardInterrupt",
          "evalue": "ignored",
          "traceback": [
            "\u001b[0;31m---------------------------------------------------------------------------\u001b[0m",
            "\u001b[0;31mKeyboardInterrupt\u001b[0m                         Traceback (most recent call last)",
            "\u001b[0;32m<ipython-input-7-6338f3726ede>\u001b[0m in \u001b[0;36m<module>\u001b[0;34m()\u001b[0m\n\u001b[1;32m     61\u001b[0m     \u001b[0mtrain_accuracy_epoch\u001b[0m \u001b[0;34m=\u001b[0m \u001b[0mtrain_accuracy_epoch\u001b[0m \u001b[0;34m+\u001b[0m \u001b[0mtf\u001b[0m\u001b[0;34m.\u001b[0m\u001b[0mreduce_mean\u001b[0m\u001b[0;34m(\u001b[0m\u001b[0mtf\u001b[0m\u001b[0;34m.\u001b[0m\u001b[0mcast\u001b[0m\u001b[0;34m(\u001b[0m\u001b[0mtf\u001b[0m\u001b[0;34m.\u001b[0m\u001b[0mequal\u001b[0m\u001b[0;34m(\u001b[0m\u001b[0mtf\u001b[0m\u001b[0;34m.\u001b[0m\u001b[0margmax\u001b[0m\u001b[0;34m(\u001b[0m\u001b[0mpreds\u001b[0m\u001b[0;34m,\u001b[0m \u001b[0;36m1\u001b[0m\u001b[0;34m)\u001b[0m\u001b[0;34m,\u001b[0m \u001b[0mtf\u001b[0m\u001b[0;34m.\u001b[0m\u001b[0margmax\u001b[0m\u001b[0;34m(\u001b[0m\u001b[0moutputs\u001b[0m\u001b[0;34m,\u001b[0m \u001b[0;36m1\u001b[0m\u001b[0;34m)\u001b[0m\u001b[0;34m)\u001b[0m\u001b[0;34m,\u001b[0m \u001b[0mtf\u001b[0m\u001b[0;34m.\u001b[0m\u001b[0mfloat32\u001b[0m\u001b[0;34m)\u001b[0m\u001b[0;34m)\u001b[0m\u001b[0;34m\u001b[0m\u001b[0;34m\u001b[0m\u001b[0m\n\u001b[1;32m     62\u001b[0m     \u001b[0mtrain_loss_epoch\u001b[0m \u001b[0;34m=\u001b[0m \u001b[0mtrain_loss_epoch\u001b[0m \u001b[0;34m+\u001b[0m \u001b[0mmlp_on_cpu_fs\u001b[0m\u001b[0;34m.\u001b[0m\u001b[0mloss\u001b[0m\u001b[0;34m(\u001b[0m\u001b[0mpreds\u001b[0m\u001b[0;34m,\u001b[0m \u001b[0moutputs\u001b[0m\u001b[0;34m)\u001b[0m\u001b[0;34m\u001b[0m\u001b[0;34m\u001b[0m\u001b[0m\n\u001b[0;32m---> 63\u001b[0;31m     \u001b[0mmlp_on_cpu_fs\u001b[0m\u001b[0;34m.\u001b[0m\u001b[0mbackward\u001b[0m\u001b[0;34m(\u001b[0m\u001b[0minputs\u001b[0m\u001b[0;34m,\u001b[0m \u001b[0moutputs\u001b[0m\u001b[0;34m)\u001b[0m\u001b[0;34m\u001b[0m\u001b[0;34m\u001b[0m\u001b[0m\n\u001b[0m\u001b[1;32m     64\u001b[0m \u001b[0;34m\u001b[0m\u001b[0m\n\u001b[1;32m     65\u001b[0m   \u001b[0mtrain_accuracy\u001b[0m\u001b[0;34m[\u001b[0m\u001b[0mepoch\u001b[0m\u001b[0;34m,\u001b[0m \u001b[0;36m1\u001b[0m\u001b[0;34m]\u001b[0m \u001b[0;34m=\u001b[0m \u001b[0mtrain_accuracy_epoch\u001b[0m \u001b[0;34m/\u001b[0m \u001b[0;34m(\u001b[0m\u001b[0mint\u001b[0m\u001b[0;34m(\u001b[0m\u001b[0mX_train_fs\u001b[0m\u001b[0;34m.\u001b[0m\u001b[0mshape\u001b[0m\u001b[0;34m[\u001b[0m\u001b[0;36m0\u001b[0m\u001b[0;34m]\u001b[0m \u001b[0;34m/\u001b[0m \u001b[0mbatch_size_train\u001b[0m\u001b[0;34m)\u001b[0m \u001b[0;34m+\u001b[0m \u001b[0;36m1\u001b[0m\u001b[0;34m)\u001b[0m\u001b[0;34m\u001b[0m\u001b[0;34m\u001b[0m\u001b[0m\n",
            "\u001b[0;32m<ipython-input-5-c77945af0bc2>\u001b[0m in \u001b[0;36mbackward\u001b[0;34m(self, X_train, y_train)\u001b[0m\n\u001b[1;32m     76\u001b[0m       \u001b[0mpredicted\u001b[0m \u001b[0;34m=\u001b[0m \u001b[0mself\u001b[0m\u001b[0;34m.\u001b[0m\u001b[0mforward\u001b[0m\u001b[0;34m(\u001b[0m\u001b[0mX_train\u001b[0m\u001b[0;34m)\u001b[0m\u001b[0;34m\u001b[0m\u001b[0;34m\u001b[0m\u001b[0m\n\u001b[1;32m     77\u001b[0m       \u001b[0mcurrent_loss\u001b[0m \u001b[0;34m=\u001b[0m \u001b[0mself\u001b[0m\u001b[0;34m.\u001b[0m\u001b[0mloss\u001b[0m\u001b[0;34m(\u001b[0m\u001b[0mpredicted\u001b[0m\u001b[0;34m,\u001b[0m \u001b[0my_train\u001b[0m\u001b[0;34m)\u001b[0m\u001b[0;34m\u001b[0m\u001b[0;34m\u001b[0m\u001b[0m\n\u001b[0;32m---> 78\u001b[0;31m     \u001b[0mgrads\u001b[0m \u001b[0;34m=\u001b[0m \u001b[0mtape\u001b[0m\u001b[0;34m.\u001b[0m\u001b[0mgradient\u001b[0m\u001b[0;34m(\u001b[0m\u001b[0mcurrent_loss\u001b[0m\u001b[0;34m,\u001b[0m \u001b[0mself\u001b[0m\u001b[0;34m.\u001b[0m\u001b[0mvariables\u001b[0m\u001b[0;34m)\u001b[0m\u001b[0;34m\u001b[0m\u001b[0;34m\u001b[0m\u001b[0m\n\u001b[0m\u001b[1;32m     79\u001b[0m     \u001b[0moptimizer\u001b[0m\u001b[0;34m.\u001b[0m\u001b[0mapply_gradients\u001b[0m\u001b[0;34m(\u001b[0m\u001b[0mzip\u001b[0m\u001b[0;34m(\u001b[0m\u001b[0mgrads\u001b[0m\u001b[0;34m,\u001b[0m \u001b[0mself\u001b[0m\u001b[0;34m.\u001b[0m\u001b[0mvariables\u001b[0m\u001b[0;34m)\u001b[0m\u001b[0;34m)\u001b[0m\u001b[0;34m\u001b[0m\u001b[0;34m\u001b[0m\u001b[0m\n\u001b[1;32m     80\u001b[0m \u001b[0;34m\u001b[0m\u001b[0m\n",
            "\u001b[0;32m/usr/local/lib/python3.7/dist-packages/tensorflow/python/eager/backprop.py\u001b[0m in \u001b[0;36mgradient\u001b[0;34m(self, target, sources, output_gradients, unconnected_gradients)\u001b[0m\n\u001b[1;32m   1088\u001b[0m         \u001b[0moutput_gradients\u001b[0m\u001b[0;34m=\u001b[0m\u001b[0moutput_gradients\u001b[0m\u001b[0;34m,\u001b[0m\u001b[0;34m\u001b[0m\u001b[0;34m\u001b[0m\u001b[0m\n\u001b[1;32m   1089\u001b[0m         \u001b[0msources_raw\u001b[0m\u001b[0;34m=\u001b[0m\u001b[0mflat_sources_raw\u001b[0m\u001b[0;34m,\u001b[0m\u001b[0;34m\u001b[0m\u001b[0;34m\u001b[0m\u001b[0m\n\u001b[0;32m-> 1090\u001b[0;31m         unconnected_gradients=unconnected_gradients)\n\u001b[0m\u001b[1;32m   1091\u001b[0m \u001b[0;34m\u001b[0m\u001b[0m\n\u001b[1;32m   1092\u001b[0m     \u001b[0;32mif\u001b[0m \u001b[0;32mnot\u001b[0m \u001b[0mself\u001b[0m\u001b[0;34m.\u001b[0m\u001b[0m_persistent\u001b[0m\u001b[0;34m:\u001b[0m\u001b[0;34m\u001b[0m\u001b[0;34m\u001b[0m\u001b[0m\n",
            "\u001b[0;32m/usr/local/lib/python3.7/dist-packages/tensorflow/python/eager/imperative_grad.py\u001b[0m in \u001b[0;36mimperative_grad\u001b[0;34m(tape, target, sources, output_gradients, sources_raw, unconnected_gradients)\u001b[0m\n\u001b[1;32m     75\u001b[0m       \u001b[0moutput_gradients\u001b[0m\u001b[0;34m,\u001b[0m\u001b[0;34m\u001b[0m\u001b[0;34m\u001b[0m\u001b[0m\n\u001b[1;32m     76\u001b[0m       \u001b[0msources_raw\u001b[0m\u001b[0;34m,\u001b[0m\u001b[0;34m\u001b[0m\u001b[0;34m\u001b[0m\u001b[0m\n\u001b[0;32m---> 77\u001b[0;31m       compat.as_str(unconnected_gradients.value))\n\u001b[0m",
            "\u001b[0;32m/usr/local/lib/python3.7/dist-packages/tensorflow/python/eager/backprop.py\u001b[0m in \u001b[0;36m_gradient_function\u001b[0;34m(op_name, attr_tuple, num_inputs, inputs, outputs, out_grads, skip_input_indices, forward_pass_name_scope)\u001b[0m\n\u001b[1;32m    157\u001b[0m       \u001b[0mgradient_name_scope\u001b[0m \u001b[0;34m+=\u001b[0m \u001b[0mforward_pass_name_scope\u001b[0m \u001b[0;34m+\u001b[0m \u001b[0;34m\"/\"\u001b[0m\u001b[0;34m\u001b[0m\u001b[0;34m\u001b[0m\u001b[0m\n\u001b[1;32m    158\u001b[0m     \u001b[0;32mwith\u001b[0m \u001b[0mops\u001b[0m\u001b[0;34m.\u001b[0m\u001b[0mname_scope\u001b[0m\u001b[0;34m(\u001b[0m\u001b[0mgradient_name_scope\u001b[0m\u001b[0;34m)\u001b[0m\u001b[0;34m:\u001b[0m\u001b[0;34m\u001b[0m\u001b[0;34m\u001b[0m\u001b[0m\n\u001b[0;32m--> 159\u001b[0;31m       \u001b[0;32mreturn\u001b[0m \u001b[0mgrad_fn\u001b[0m\u001b[0;34m(\u001b[0m\u001b[0mmock_op\u001b[0m\u001b[0;34m,\u001b[0m \u001b[0;34m*\u001b[0m\u001b[0mout_grads\u001b[0m\u001b[0;34m)\u001b[0m\u001b[0;34m\u001b[0m\u001b[0;34m\u001b[0m\u001b[0m\n\u001b[0m\u001b[1;32m    160\u001b[0m   \u001b[0;32melse\u001b[0m\u001b[0;34m:\u001b[0m\u001b[0;34m\u001b[0m\u001b[0;34m\u001b[0m\u001b[0m\n\u001b[1;32m    161\u001b[0m     \u001b[0;32mreturn\u001b[0m \u001b[0mgrad_fn\u001b[0m\u001b[0;34m(\u001b[0m\u001b[0mmock_op\u001b[0m\u001b[0;34m,\u001b[0m \u001b[0;34m*\u001b[0m\u001b[0mout_grads\u001b[0m\u001b[0;34m)\u001b[0m\u001b[0;34m\u001b[0m\u001b[0;34m\u001b[0m\u001b[0m\n",
            "\u001b[0;32m/usr/local/lib/python3.7/dist-packages/tensorflow/python/ops/nn_grad.py\u001b[0m in \u001b[0;36m_SoftmaxCrossEntropyWithLogitsGrad\u001b[0;34m(op, grad_loss, grad_grad)\u001b[0m\n\u001b[1;32m    532\u001b[0m         axis=1)) * softmax)\n\u001b[1;32m    533\u001b[0m \u001b[0;34m\u001b[0m\u001b[0m\n\u001b[0;32m--> 534\u001b[0;31m   \u001b[0;32mreturn\u001b[0m \u001b[0mgrad\u001b[0m\u001b[0;34m,\u001b[0m \u001b[0m_BroadcastMul\u001b[0m\u001b[0;34m(\u001b[0m\u001b[0mgrad_loss\u001b[0m\u001b[0;34m,\u001b[0m \u001b[0;34m-\u001b[0m\u001b[0mnn_ops\u001b[0m\u001b[0;34m.\u001b[0m\u001b[0mlog_softmax\u001b[0m\u001b[0;34m(\u001b[0m\u001b[0mlogits\u001b[0m\u001b[0;34m)\u001b[0m\u001b[0;34m)\u001b[0m  \u001b[0;31m# pylint: disable=invalid-unary-operand-type\u001b[0m\u001b[0;34m\u001b[0m\u001b[0;34m\u001b[0m\u001b[0m\n\u001b[0m\u001b[1;32m    535\u001b[0m \u001b[0;34m\u001b[0m\u001b[0m\n\u001b[1;32m    536\u001b[0m \u001b[0;34m\u001b[0m\u001b[0m\n",
            "\u001b[0;32m/usr/local/lib/python3.7/dist-packages/tensorflow/python/ops/gen_math_ops.py\u001b[0m in \u001b[0;36mneg\u001b[0;34m(x, name)\u001b[0m\n\u001b[1;32m   6748\u001b[0m     \u001b[0;32mtry\u001b[0m\u001b[0;34m:\u001b[0m\u001b[0;34m\u001b[0m\u001b[0;34m\u001b[0m\u001b[0m\n\u001b[1;32m   6749\u001b[0m       _result = pywrap_tfe.TFE_Py_FastPathExecute(\n\u001b[0;32m-> 6750\u001b[0;31m         _ctx, \"Neg\", name, x)\n\u001b[0m\u001b[1;32m   6751\u001b[0m       \u001b[0;32mreturn\u001b[0m \u001b[0m_result\u001b[0m\u001b[0;34m\u001b[0m\u001b[0;34m\u001b[0m\u001b[0m\n\u001b[1;32m   6752\u001b[0m     \u001b[0;32mexcept\u001b[0m \u001b[0m_core\u001b[0m\u001b[0;34m.\u001b[0m\u001b[0m_NotOkStatusException\u001b[0m \u001b[0;32mas\u001b[0m \u001b[0me\u001b[0m\u001b[0;34m:\u001b[0m\u001b[0;34m\u001b[0m\u001b[0;34m\u001b[0m\u001b[0m\n",
            "\u001b[0;31mKeyboardInterrupt\u001b[0m: "
          ]
        }
      ],
      "source": [
        "# Set number of epochs\n",
        "NUM_EPOCHS = 5\n",
        "\n",
        "# Initialize model\n",
        "# , regularizer = 'L2', L1_alpha = 1 , regularizer = 'L2', L1_alpha = 1 , device='gpu' optimizer = 'Adam', \n",
        "mlp_on_cpu = MLP_QZ(size_data, size_input, size_hidden_1, size_hidden_2, size_output) #,# regularizer = 'L2', L2_alpha = 0.5,\n",
        "                    #keep_prob_0 = 0.05, keep_prob_1 = 0.05, keep_prob_2 = 0.05, keep_prob_3 = 0.05)\n",
        "mlp_on_cpu_fs = MLP_QZ(size_data, size_input, size_hidden_1, size_hidden_2, size_output) #,# regularizer = 'L2', L2_alpha = 0.5,\n",
        "                    #keep_prob_0 = 0.05, keep_prob_1 = 0.05, keep_prob_2 = 0.05, keep_prob_3 = 0.05)\n",
        "\n",
        "# column 0 for MINST column 1 for Fashion MNIST\n",
        "train_accuracy = np.zeros([NUM_EPOCHS, 2])\n",
        "val_accuracy = np.zeros([NUM_EPOCHS, 2])\n",
        "train_loss = np.zeros([NUM_EPOCHS, 2])\n",
        "val_loss = np.zeros([NUM_EPOCHS, 2])\n",
        "\n",
        "time_start = time.time()\n",
        "for epoch in range(NUM_EPOCHS):\n",
        "\n",
        "  # for MNIST\n",
        "  train_loss_epoch = tf.zeros([1,1], dtype=tf.float32)\n",
        "  train_accuracy_epoch = tf.zeros([1,1], dtype=tf.float32)\n",
        "  val_loss_epoch = tf.zeros([1,1], dtype=tf.float32)\n",
        "  val_accuracy_epoch = tf.zeros([1,1], dtype=tf.float32)\n",
        "\n",
        "  train_ds = tf.data.Dataset.from_tensor_slices((X_train, y_train)).shuffle(100).batch(batch_size_train)\n",
        "  val_ds = tf.data.Dataset.from_tensor_slices((X_val, y_val)).shuffle(100).batch(batch_size_val)\n",
        "\n",
        "  for inputs, outputs in train_ds:\n",
        "    preds = mlp_on_cpu.forward(inputs)\n",
        "    train_accuracy_epoch = train_accuracy_epoch + tf.reduce_mean(tf.cast(tf.equal(tf.argmax(preds, 1), tf.argmax(outputs, 1)), tf.float32))\n",
        "    train_loss_epoch = train_loss_epoch + mlp_on_cpu.loss(preds, outputs)\n",
        "    mlp_on_cpu.backward(inputs, outputs)\n",
        "\n",
        "  train_accuracy[epoch, 0] = train_accuracy_epoch / (int(X_train.shape[0] / batch_size_train) + 1)\n",
        "  train_loss[epoch, 0] = train_loss_epoch / (int(X_train.shape[0] / batch_size_train) + 1)\n",
        "\n",
        "  for inputs, outputs in val_ds:\n",
        "    preds = mlp_on_cpu.forward(inputs)\n",
        "    #print(tf.reduce_mean(tf.cast(tf.equal(tf.argmax(preds, 1), tf.argmax(outputs, 1)), tf.float32)))\n",
        "    val_accuracy_epoch = val_accuracy_epoch + tf.reduce_mean(tf.cast(tf.equal(tf.argmax(preds, 1), tf.argmax(outputs, 1)), tf.float32))\n",
        "    val_loss_epoch = val_loss_epoch + mlp_on_cpu.loss(preds, outputs)\n",
        "\n",
        "  val_accuracy[epoch, 0] = val_accuracy_epoch / (int(X_val.shape[0] / batch_size_val) + 1)\n",
        "  val_loss[epoch, 0] = val_loss_epoch / (int(X_val.shape[0] / batch_size_val) + 1)\n",
        "\n",
        "  print('MNIST Number of Epoch = {} - Average Cross Entropy:= {} - Train acc:= {} - Val acc:= {}'.format(epoch + 1, train_loss[epoch, 0], train_accuracy[epoch, 0], val_accuracy[epoch, 0]))\n",
        "\n",
        "  # for Fashion MNIST\n",
        "  train_loss_epoch = tf.zeros([1,1], dtype=tf.float32)\n",
        "  train_accuracy_epoch = tf.zeros([1,1], dtype=tf.float32)\n",
        "  val_loss_epoch = tf.zeros([1,1], dtype=tf.float32)\n",
        "  val_accuracy_epoch = tf.zeros([1,1], dtype=tf.float32)\n",
        "\n",
        "  train_ds_fs = tf.data.Dataset.from_tensor_slices((X_train_fs, y_train_fs)).shuffle(100).batch(batch_size_train)\n",
        "  val_ds_fs = tf.data.Dataset.from_tensor_slices((X_val_fs, y_val_fs)).shuffle(100).batch(batch_size_val)\n",
        "  #train_ds = tf.data.Dataset.from_tensor_slices((X_train, y_train)).shuffle(num_train_samples).batch(batch_size_train), seed = NUM_EPOCHS*epoch*(1178)\n",
        "  \n",
        "  for inputs, outputs in train_ds_fs:\n",
        "    preds = mlp_on_cpu_fs.forward(inputs)\n",
        "    train_accuracy_epoch = train_accuracy_epoch + tf.reduce_mean(tf.cast(tf.equal(tf.argmax(preds, 1), tf.argmax(outputs, 1)), tf.float32))\n",
        "    train_loss_epoch = train_loss_epoch + mlp_on_cpu_fs.loss(preds, outputs)\n",
        "    mlp_on_cpu_fs.backward(inputs, outputs)\n",
        "\n",
        "  train_accuracy[epoch, 1] = train_accuracy_epoch / (int(X_train_fs.shape[0] / batch_size_train) + 1)\n",
        "  train_loss[epoch, 1] = train_loss_epoch / (int(X_train_fs.shape[0] / batch_size_train) + 1)\n",
        "\n",
        "  for inputs, outputs in val_ds_fs:\n",
        "    preds = mlp_on_cpu_fs.forward(inputs)\n",
        "    #print(tf.reduce_mean(tf.cast(tf.equal(tf.argmax(preds, 1), tf.argmax(outputs, 1)), tf.float32)))\n",
        "    val_accuracy_epoch = val_accuracy_epoch + tf.reduce_mean(tf.cast(tf.equal(tf.argmax(preds, 1), tf.argmax(outputs, 1)), tf.float32))\n",
        "    val_loss_epoch = val_loss_epoch + mlp_on_cpu_fs.loss(preds, outputs)\n",
        "  \n",
        "  val_accuracy[epoch, 1] = val_accuracy_epoch / (int(X_val_fs.shape[0] / batch_size_val) + 1)\n",
        "  val_loss[epoch, 1] = val_loss_epoch / (int(X_val_fs.shape[0] / batch_size_val) + 1)\n",
        "\n",
        "  print('Fashion MNIST Number of Epoch = {} - Average Cross Entropy:= {} - Train acc:= {} - Val acc:= {}'.format(epoch + 1, train_loss[epoch, 1], train_accuracy[epoch, 1], val_accuracy[epoch, 1]))\n",
        "\n",
        "time_taken = time.time() - time_start\n",
        "print('\\nTotal time taken (in seconds): {:.2f}'.format(time_taken))\n",
        "#For per epoch_time = Total_Time / Number_of_epochs"
      ]
    },
    {
      "cell_type": "code",
      "execution_count": null,
      "metadata": {
        "colab": {
          "base_uri": "https://localhost:8080/",
          "height": 313
        },
        "id": "gk200weANlKo",
        "outputId": "4142c515-62c8-4960-912d-d7b29675ee6d"
      },
      "outputs": [
        {
          "data": {
            "text/plain": [
              "Text(0.5, 0, 'Epochs')"
            ]
          },
          "execution_count": 26,
          "metadata": {},
          "output_type": "execute_result"
        },
        {
          "data": {
            "image/png": "[encoded data removed]",
            "text/plain": [
              "<Figure size 432x288 with 1 Axes>"
            ]
          },
          "metadata": {},
          "output_type": "display_data"
        }
      ],
      "source": [
        "plt.plot(train_loss[:, 0], label = 'Training MNIST')\n",
        "plt.plot(val_loss[:, 0], label = 'Validation MNIST')\n",
        "plt.plot(train_loss[:, 1], label = 'Training Fashion MNIST')\n",
        "plt.plot(val_loss[:, 1], label = 'Validation Fashion MNIST')\n",
        "plt.title('Training and Validation Loss')\n",
        "plt.legend()\n",
        "plt.ylabel('Loss')\n",
        "plt.xlabel('Epochs')"
      ]
    },
    {
      "cell_type": "code",
      "execution_count": null,
      "metadata": {
        "colab": {
          "base_uri": "https://localhost:8080/",
          "height": 313
        },
        "id": "bHtwdHP5lrzD",
        "outputId": "6f0133c7-45d8-412c-f287-fb28a309bcb6"
      },
      "outputs": [
        {
          "data": {
            "text/plain": [
              "Text(0.5, 0, 'Epochs')"
            ]
          },
          "execution_count": 27,
          "metadata": {},
          "output_type": "execute_result"
        },
        {
          "data": {
            "image/png": "[encoded data removed]",
            "text/plain": [
              "<Figure size 432x288 with 1 Axes>"
            ]
          },
          "metadata": {},
          "output_type": "display_data"
        }
      ],
      "source": [
        "plt.plot(train_accuracy[:, 0], label = 'Training MNIST')\n",
        "plt.plot(val_accuracy[:, 0], label = 'Validation MNIST')\n",
        "plt.plot(train_accuracy[:, 1], label = 'Training Fashion MNIST')\n",
        "plt.plot(val_accuracy[:, 1], label = 'Validation Fashion MNIST')\n",
        "plt.title('Training and Validation Accuracy')\n",
        "plt.legend()\n",
        "plt.ylabel('Accuracy')\n",
        "plt.xlabel('Epochs')"
      ]
    },
    {
      "cell_type": "code",
      "execution_count": null,
      "metadata": {
        "colab": {
          "base_uri": "https://localhost:8080/"
        },
        "id": "6gcYpIoKNs8q",
        "outputId": "88eeb077-b5bc-43e6-e971-221cd303f85e"
      },
      "outputs": [
        {
          "name": "stdout",
          "output_type": "stream",
          "text": [
            "0.8899 0.7139\n"
          ]
        }
      ],
      "source": [
        "# test sample\n",
        "preds = mlp_on_cpu.forward(X_test)\n",
        "test_accuracy = np.sum(preds.numpy().argmax(1) == y_test.argmax(1)) / X_test.shape[0]\n",
        "preds_fs = mlp_on_cpu_fs.forward(X_test_fs)\n",
        "test_accuracy_fs = np.sum(preds_fs.numpy().argmax(1) == y_test_fs.argmax(1)) / X_test_fs.shape[0]\n",
        "print(test_accuracy, test_accuracy_fs)"
      ]
    },
    {
      "cell_type": "markdown",
      "metadata": {
        "id": "HOxLZCfk3O9O"
      },
      "source": [
        "## Bias vs. Variance"
      ]
    },
    {
      "cell_type": "code",
      "execution_count": 7,
      "metadata": {
        "id": "XTiGFBxA4s1P"
      },
      "outputs": [],
      "source": [
        "# storage\n",
        "num_models = 4\n",
        "num_reps = 10\n",
        "\n",
        "test_accuracy = np.zeros([num_reps, num_models, 2])"
      ]
    },
    {
      "cell_type": "code",
      "execution_count": 8,
      "metadata": {
        "colab": {
          "base_uri": "https://localhost:8080/"
        },
        "id": "JWQM641eMZqY",
        "outputId": "1b0d24d5-d97b-46e4-ff9e-a37c23271154"
      },
      "outputs": [
        {
          "output_type": "stream",
          "name": "stdout",
          "text": [
            "0\n",
            "1\n",
            "2\n",
            "3\n",
            "4\n",
            "5\n",
            "6\n",
            "7\n",
            "8\n",
            "9\n",
            "\n",
            "Total time taken (in seconds): 6313.02\n"
          ]
        }
      ],
      "source": [
        "###################### #1 Model 3\n",
        "time_start = time.time()\n",
        "for n in range(num_reps):\n",
        "  print(n)\n",
        "  np.random.seed(n * 631178)\n",
        "  tf.random.set_seed(n * 631178)\n",
        "  # Set number of epochs\n",
        "  NUM_EPOCHS = 10\n",
        "  # Initialize model\n",
        "  mlp_on_cpu = MLP_QZ(size_data, size_input, size_hidden_1, size_hidden_2, size_output)\n",
        "  mlp_on_cpu_fs = MLP_QZ(size_data, size_input, size_hidden_1, size_hidden_2, size_output)\n",
        "  \n",
        "  for epoch in range(NUM_EPOCHS):\n",
        "\n",
        "    # for MNIST\n",
        "    train_ds = tf.data.Dataset.from_tensor_slices((X_train, y_train)).shuffle(100).batch(batch_size_train)\n",
        "    val_ds = tf.data.Dataset.from_tensor_slices((X_val, y_val)).shuffle(100).batch(batch_size_val)\n",
        "\n",
        "    for inputs, outputs in train_ds:\n",
        "      mlp_on_cpu.backward(inputs, outputs)\n",
        "\n",
        "    # for Fashion MNIST\n",
        "    train_ds_fs = tf.data.Dataset.from_tensor_slices((X_train_fs, y_train_fs)).shuffle(100).batch(batch_size_train)\n",
        "    val_ds_fs = tf.data.Dataset.from_tensor_slices((X_val_fs, y_val_fs)).shuffle(100).batch(batch_size_val)\n",
        "    \n",
        "    for inputs, outputs in train_ds_fs:\n",
        "      mlp_on_cpu_fs.backward(inputs, outputs)\n",
        "    \n",
        "  # test sample\n",
        "  # for MNIST\n",
        "  preds = mlp_on_cpu.forward(X_test)\n",
        "  test_accuracy[n, 0, 0] = np.sum(preds.numpy().argmax(1) == y_test.argmax(1)) / X_test.shape[0]\n",
        "  # for Fashion MNIST\n",
        "  preds_fs = mlp_on_cpu_fs.forward(X_test_fs)\n",
        "  test_accuracy[n, 0, 1] = np.sum(preds_fs.numpy().argmax(1) == y_test_fs.argmax(1)) / X_test_fs.shape[0]\n",
        "  \n",
        "time_taken = time.time() - time_start\n",
        "print('\\nTotal time taken (in seconds): {:.2f}'.format(time_taken))\n",
        "#For per epoch_time = Total_Time / Number_of_epochs"
      ]
    },
    {
      "cell_type": "code",
      "source": [
        "test_accuracy[:, :, 1]"
      ],
      "metadata": {
        "colab": {
          "base_uri": "https://localhost:8080/"
        },
        "id": "Bd8UOPmNsJ9j",
        "outputId": "41ba5340-cede-4867-c80b-2093e5b0ae0f"
      },
      "execution_count": 21,
      "outputs": [
        {
          "output_type": "execute_result",
          "data": {
            "text/plain": [
              "array([[0.669 , 0.739 , 0.7946, 0.4786],\n",
              "       [0.6991, 0.7723, 0.7694, 0.5199],\n",
              "       [0.7152, 0.7816, 0.7562, 0.5209],\n",
              "       [0.687 , 0.7773, 0.7603, 0.4319],\n",
              "       [0.7058, 0.756 , 0.754 , 0.4666],\n",
              "       [0.5986, 0.7503, 0.7941, 0.398 ],\n",
              "       [0.7526, 0.7133, 0.7495, 0.3095],\n",
              "       [0.6859, 0.7654, 0.7257, 0.4229],\n",
              "       [0.6838, 0.7286, 0.787 , 0.4256],\n",
              "       [0.5794, 0.7657, 0.7662, 0.5559]])"
            ]
          },
          "metadata": {},
          "execution_count": 21
        }
      ]
    },
    {
      "cell_type": "code",
      "execution_count": null,
      "metadata": {
        "id": "pmi03Mgn_mWq"
      },
      "outputs": [],
      "source": [
        "###################### #2 Model 3 L2\n",
        "\n",
        "# column 0 for MINST column 1 for Fashion MNIST\n",
        "\n",
        "time_start = time.time()\n",
        "for n in range(num_reps):\n",
        "  print(n)\n",
        "  np.random.seed(n * 31178)\n",
        "  tf.random.set_seed(n * 31178)\n",
        "  # Set number of epochs\n",
        "  NUM_EPOCHS = 5\n",
        "\n",
        "  # Initialize model\n",
        "\n",
        "  mlp_on_cpu = MLP_QZ(size_data, size_input, size_hidden_1, size_hidden_2, size_output, regularizer = 'L2', L2_alpha = 1.)\n",
        "  mlp_on_cpu_fs = MLP_QZ(size_data, size_input, size_hidden_1, size_hidden_2, size_output, regularizer = 'L2', L2_alpha = 1.)\n",
        "\n",
        "  for epoch in range(NUM_EPOCHS):\n",
        "\n",
        "    # for MNIST\n",
        "    train_ds = tf.data.Dataset.from_tensor_slices((X_train, y_train)).shuffle(100).batch(batch_size_train)\n",
        "    val_ds = tf.data.Dataset.from_tensor_slices((X_val, y_val)).shuffle(100).batch(batch_size_val)\n",
        "\n",
        "    for inputs, outputs in train_ds:\n",
        "      mlp_on_cpu.backward(inputs, outputs)\n",
        "\n",
        "    # for Fashion MNIST\n",
        "    train_ds_fs = tf.data.Dataset.from_tensor_slices((X_train_fs, y_train_fs)).shuffle(100).batch(batch_size_train)\n",
        "    val_ds_fs = tf.data.Dataset.from_tensor_slices((X_val_fs, y_val_fs)).shuffle(100).batch(batch_size_val)\n",
        "    \n",
        "    for inputs, outputs in train_ds_fs:\n",
        "      mlp_on_cpu_fs.backward(inputs, outputs)\n",
        "    \n",
        "  # test sample\n",
        "  # for MNIST\n",
        "  preds = mlp_on_cpu.forward(X_test)\n",
        "  test_accuracy[n, 1, 0] = np.sum(preds.numpy().argmax(1) == y_test.argmax(1)) / X_test.shape[0]\n",
        "  # for Fashion MNIST\n",
        "  preds_fs = mlp_on_cpu_fs.forward(X_test_fs)\n",
        "  test_accuracy[n, 1, 1] = np.sum(preds_fs.numpy().argmax(1) == y_test_fs.argmax(1)) / X_test_fs.shape[0]\n",
        "  \n",
        "time_taken = time.time() - time_start\n",
        "print('\\nTotal time taken (in seconds): {:.2f}'.format(time_taken))\n",
        "#For per epoch_time = Total_Time / Number_of_epochs"
      ]
    },
    {
      "cell_type": "code",
      "execution_count": 15,
      "metadata": {
        "id": "IXBxkRpqUPO3",
        "colab": {
          "base_uri": "https://localhost:8080/"
        },
        "outputId": "443935d1-02ba-4029-93c6-22545329d11b"
      },
      "outputs": [
        {
          "output_type": "stream",
          "name": "stdout",
          "text": [
            "0\n",
            "1\n",
            "2\n",
            "3\n",
            "4\n",
            "5\n",
            "6\n",
            "7\n",
            "8\n",
            "9\n",
            "\n",
            "Total time taken (in seconds): 6361.34\n"
          ]
        }
      ],
      "source": [
        "###################### #3 Model 3 L1\n",
        "\n",
        "# column 0 for MINST column 1 for Fashion MNIST\n",
        "\n",
        "time_start = time.time()\n",
        "for n in range(num_reps):\n",
        "  print(n)\n",
        "  np.random.seed(n * 1178)\n",
        "  tf.random.set_seed(n * 1178)\n",
        "  # Set number of epochs\n",
        "  NUM_EPOCHS = 5\n",
        "\n",
        "  # Initialize model\n",
        "\n",
        "  mlp_on_cpu = MLP_QZ(size_data, size_input, size_hidden_1, size_hidden_2, size_output, regularizer = 'L1', L1_alpha = 0.001, optimizer = 'Adam', lr = 1e-3)\n",
        "  mlp_on_cpu_fs = MLP_QZ(size_data, size_input, size_hidden_1, size_hidden_2, size_output, regularizer = 'L1', L1_alpha = 0.001, optimizer = 'Adam', lr = 1e-3)\n",
        "\n",
        "  for epoch in range(NUM_EPOCHS):\n",
        "\n",
        "    # for MNIST\n",
        "    train_ds = tf.data.Dataset.from_tensor_slices((X_train, y_train)).shuffle(100).batch(batch_size_train)\n",
        "    val_ds = tf.data.Dataset.from_tensor_slices((X_val, y_val)).shuffle(100).batch(batch_size_val)\n",
        "\n",
        "    for inputs, outputs in train_ds:\n",
        "      mlp_on_cpu.backward(inputs, outputs)\n",
        "\n",
        "    # for Fashion MNIST\n",
        "    train_ds_fs = tf.data.Dataset.from_tensor_slices((X_train_fs, y_train_fs)).shuffle(100).batch(batch_size_train)\n",
        "    val_ds_fs = tf.data.Dataset.from_tensor_slices((X_val_fs, y_val_fs)).shuffle(100).batch(batch_size_val)\n",
        "    \n",
        "    for inputs, outputs in train_ds_fs:\n",
        "      mlp_on_cpu_fs.backward(inputs, outputs)\n",
        "    \n",
        "  # test sample\n",
        "  # for MNIST\n",
        "  preds = mlp_on_cpu.forward(X_test)\n",
        "  test_accuracy[n, 2, 0] = np.sum(preds.numpy().argmax(1) == y_test.argmax(1)) / X_test.shape[0]\n",
        "  # for Fashion MNIST\n",
        "  preds_fs = mlp_on_cpu_fs.forward(X_test_fs)\n",
        "  test_accuracy[n, 2, 1] = np.sum(preds_fs.numpy().argmax(1) == y_test_fs.argmax(1)) / X_test_fs.shape[0]\n",
        "  \n",
        "time_taken = time.time() - time_start\n",
        "print('\\nTotal time taken (in seconds): {:.2f}'.format(time_taken))\n",
        "#For per epoch_time = Total_Time / Number_of_epochs"
      ]
    },
    {
      "cell_type": "code",
      "execution_count": 19,
      "metadata": {
        "id": "AkplYBfzWU3v",
        "colab": {
          "base_uri": "https://localhost:8080/"
        },
        "outputId": "c6a2ba14-2478-461f-a583-c3e818acd5ba"
      },
      "outputs": [
        {
          "output_type": "stream",
          "name": "stdout",
          "text": [
            "0\n",
            "1\n",
            "2\n",
            "3\n",
            "4\n",
            "5\n",
            "6\n",
            "7\n",
            "8\n",
            "9\n",
            "\n",
            "Total time taken (in seconds): 3350.45\n"
          ]
        }
      ],
      "source": [
        "###################### # 4 Model 3 drop\n",
        "\n",
        "# column 0 for MINST column 1 for Fashion MNIST\n",
        "\n",
        "time_start = time.time()\n",
        "for n in range(num_reps):\n",
        "  print(n)\n",
        "  np.random.seed(n * 178)\n",
        "  tf.random.set_seed(n * 178)\n",
        "  # Set number of epochs\n",
        "  NUM_EPOCHS = 5\n",
        "\n",
        "  # Initialize model\n",
        "\n",
        "  mlp_on_cpu = MLP_QZ(size_data, size_input, size_hidden_1, size_hidden_2, size_output,\n",
        "                      keep_prob_0 = 0.05, keep_prob_1 = 0.05, keep_prob_2 = 0.05, keep_prob_3 = 0.05)\n",
        "  mlp_on_cpu_fs = MLP_QZ(size_data, size_input, size_hidden_1, size_hidden_2, size_output,\n",
        "                        keep_prob_0 = 0.05, keep_prob_1 = 0.05, keep_prob_2 = 0.05, keep_prob_3 = 0.05)\n",
        "\n",
        "  for epoch in range(NUM_EPOCHS):\n",
        "\n",
        "    # for MNIST\n",
        "    train_ds = tf.data.Dataset.from_tensor_slices((X_train, y_train)).shuffle(100).batch(batch_size_train)\n",
        "    val_ds = tf.data.Dataset.from_tensor_slices((X_val, y_val)).shuffle(100).batch(batch_size_val)\n",
        "\n",
        "    for inputs, outputs in train_ds:\n",
        "      mlp_on_cpu.backward(inputs, outputs)\n",
        "\n",
        "    # for Fashion MNIST\n",
        "    train_ds_fs = tf.data.Dataset.from_tensor_slices((X_train_fs, y_train_fs)).shuffle(100).batch(batch_size_train)\n",
        "    val_ds_fs = tf.data.Dataset.from_tensor_slices((X_val_fs, y_val_fs)).shuffle(100).batch(batch_size_val)\n",
        "    \n",
        "    for inputs, outputs in train_ds_fs:\n",
        "      mlp_on_cpu_fs.backward(inputs, outputs)\n",
        "    \n",
        "  # test sample\n",
        "  # for MNIST\n",
        "  preds = mlp_on_cpu.forward(X_test)\n",
        "  test_accuracy[n, 3, 0] = np.sum(preds.numpy().argmax(1) == y_test.argmax(1)) / X_test.shape[0]\n",
        "  # for Fashion MNIST\n",
        "  preds_fs = mlp_on_cpu_fs.forward(X_test_fs)\n",
        "  test_accuracy[n, 3, 1] = np.sum(preds_fs.numpy().argmax(1) == y_test_fs.argmax(1)) / X_test_fs.shape[0]\n",
        "  \n",
        "time_taken = time.time() - time_start\n",
        "print('\\nTotal time taken (in seconds): {:.2f}'.format(time_taken))\n",
        "#For per epoch_time = Total_Time / Number_of_epochs"
      ]
    },
    {
      "cell_type": "code",
      "execution_count": 24,
      "metadata": {
        "id": "kuRTVqhzWtch",
        "colab": {
          "base_uri": "https://localhost:8080/"
        },
        "outputId": "9b34b4f7-da6d-417c-a204-b0549a905cb0"
      },
      "outputs": [
        {
          "output_type": "stream",
          "name": "stdout",
          "text": [
            "[0.92063 0.90666 0.87904 0.83901] [4.612410e-05 1.457840e-05 3.204824e-04 4.167490e-05]\n"
          ]
        }
      ],
      "source": [
        "means_mnist = test_accuracy[:, :, 0].mean(0)\n",
        "vars_mnist = test_accuracy[:, :, 0].var(0)\n",
        "print(means_mnist, vars_mnist)"
      ]
    },
    {
      "cell_type": "code",
      "source": [
        "means_fmnist = test_accuracy[:, :, 1].mean(0)\n",
        "vars_fmnist = test_accuracy[:, :, 1].var(0)\n",
        "print(means_fmnist, vars_fmnist)"
      ],
      "metadata": {
        "colab": {
          "base_uri": "https://localhost:8080/"
        },
        "id": "COkYJUpZ1NfQ",
        "outputId": "77cb02df-2ba6-43e2-aba6-dbeb6225bde3"
      },
      "execution_count": 25,
      "outputs": [
        {
          "output_type": "stream",
          "name": "stdout",
          "text": [
            "[0.67764 0.75495 0.7657  0.45298] [0.00244501 0.00044417 0.00042281 0.0046234 ]\n"
          ]
        }
      ]
    },
    {
      "cell_type": "code",
      "source": [
        "model_names = ['Model\\_3', 'Model\\_3\\_L2', 'Model\\_3\\_L1', 'Model\\_3\\_dropout']\n",
        "fig, ax1 = plt.subplots()\n",
        "\n",
        "ax2 = ax1.twinx()\n",
        "ax1.plot(model_names, means_mnist, 'g-')\n",
        "ax2.plot(model_names, vars_mnist, 'b-')\n",
        "\n",
        "ax1.set_xlabel('Model')\n",
        "ax1.set_ylabel('Mean Accuracy', color='g')\n",
        "ax2.set_ylabel('Var', color='b')\n",
        "plt.title('MNIST')\n",
        "plt.show()"
      ],
      "metadata": {
        "colab": {
          "base_uri": "https://localhost:8080/",
          "height": 296
        },
        "id": "4wK4YTMO1lXM",
        "outputId": "02e560a8-819c-4d63-af91-a25db8cbc0ed"
      },
      "execution_count": 30,
      "outputs": [
        {
          "output_type": "display_data",
          "data": {
            "image/png": "[encoded data removed]",
            "text/plain": [
              "<Figure size 432x288 with 2 Axes>"
            ]
          },
          "metadata": {
            "needs_background": "light"
          }
        }
      ]
    },
    {
      "cell_type": "code",
      "source": [
        "model_names = ['Model\\_3', 'Model\\_3\\_L2', 'Model\\_3\\_L1', 'Model\\_3\\_dropout']\n",
        "fig, ax1 = plt.subplots()\n",
        "\n",
        "ax2 = ax1.twinx()\n",
        "ax1.plot(model_names, means_fmnist, 'g-')\n",
        "ax2.plot(model_names, vars_fmnist, 'b-')\n",
        "\n",
        "ax1.set_xlabel('Model')\n",
        "ax1.set_ylabel('Mean Accuracy', color='g')\n",
        "ax2.set_ylabel('Var', color='b')\n",
        "plt.title('Fashion MNIST')\n",
        "plt.show()"
      ],
      "metadata": {
        "colab": {
          "base_uri": "https://localhost:8080/",
          "height": 296
        },
        "id": "rJvh28A45y9h",
        "outputId": "4b0b50e5-a96c-47f9-b960-e9ed193c80b0"
      },
      "execution_count": 29,
      "outputs": [
        {
          "output_type": "display_data",
          "data": {
            "image/png": "[encoded data removed]",
            "text/plain": [
              "<Figure size 432x288 with 2 Axes>"
            ]
          },
          "metadata": {
            "needs_background": "light"
          }
        }
      ]
    },
    {
      "cell_type": "code",
      "source": [
        ""
      ],
      "metadata": {
        "id": "D9h4znxu6lyz"
      },
      "execution_count": null,
      "outputs": []
    }
  ],
  "metadata": {
    "colab": {
      "collapsed_sections": [],
      "name": "IST597_HW2.ipynb",
      "provenance": [],
      "authorship_tag": "ABX9TyOrE77b5Us5NLjZ+9ySdx04",
      "include_colab_link": true
    },
    "kernelspec": {
      "display_name": "Python 3",
      "name": "python3"
    },
    "language_info": {
      "name": "python"
    }
  },
  "nbformat": 4,
  "nbformat_minor": 0
}